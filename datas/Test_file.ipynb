{
 "cells": [
  {
   "cell_type": "code",
   "execution_count": 11,
   "metadata": {},
   "outputs": [],
   "source": [
    "import pandas as pd\n",
    "import numpy as np"
   ]
  },
  {
   "cell_type": "markdown",
   "metadata": {},
   "source": [
    "## import test file and transform for model "
   ]
  },
  {
   "cell_type": "code",
   "execution_count": 15,
   "metadata": {},
   "outputs": [],
   "source": [
    "test  = pd.read_json(\"/Users/romainbrule/Documents/Cours/Master2/KAGGLE/stanford-covid-vaccine/test.json\",lines=True)"
   ]
  },
  {
   "cell_type": "code",
   "execution_count": 16,
   "metadata": {},
   "outputs": [],
   "source": [
    "def expend_feature_test(df):\n",
    "    \"\"\"\n",
    "    Return a dataframe with expension of sequence for test set prediction \n",
    "    \n",
    "    Args:\n",
    "        df (Dataframe): same format as train\n",
    "        \n",
    "    Returns:\n",
    "        sub_df: a dataframe with: number of rows = seq_scored \n",
    "        columns name = [id, base, base_structure_type, base_predicted_loop_type]\n",
    "    \"\"\"\n",
    "    if (df.shape[0] != df.id.nunique()):\n",
    "        print('repetition in RNA sequnence, clean dataframe first')\n",
    "        return # dose the same as retunr None, which exit the function \n",
    "    \n",
    "    else:\n",
    "        col_names = ['id','id_seqpos','base', 'base_structure_type', 'base_predicted_loop_type']\n",
    "\n",
    "        #dataframe creation using list of lists\n",
    "        # loop for each unique sequence\n",
    "        sub_data = []\n",
    "        for row_i in df.index:\n",
    "            #loop for the legth of sequnece score (trian length is different from test)\n",
    "            serie_i = df.loc[row_i] #panda series object\n",
    "            seq_length  = serie_i['seq_length']\n",
    "            for seq_i in range (seq_length):\n",
    "                seq_data = [serie_i['id'],serie_i['id'] + '_' + str(seq_i), \n",
    "                            serie_i['sequence'][seq_i],\n",
    "                            serie_i['structure'][seq_i], serie_i['predicted_loop_type'][seq_i]] \n",
    "                sub_data.append(seq_data)\n",
    "\n",
    "    sub_df = pd.DataFrame(sub_data, columns =col_names,  dtype = float) \n",
    "    return sub_df\n",
    "    \n",
    "def count(x,colonne):\n",
    "    return (colonne==x).sum()\n",
    "\n",
    "def add_features(seq): # Coumpt the numerous of the group\n",
    "    # Concerning nucleotides\n",
    "    gr_base=1\n",
    "    seq['count_gr_base']=gr_base\n",
    "    for i in range (1,seq.shape[0]):\n",
    "        if ((seq.id.iloc[i]!=seq.id.iloc[i-1]) or (seq.base.iloc[i]!=seq.base.iloc[i-1])):\n",
    "            gr_base=gr_base+1\n",
    "        seq.count_gr_base[i]=gr_base\n",
    "    #Count the number of nucleotide which are the same \n",
    "    seq['N_base']=seq['count_gr_base'].apply(lambda x: count(x,seq['count_gr_base']))\n",
    "    \n",
    "    # Concerning loop_type\n",
    "    gr_loop_type=1\n",
    "    seq['count_gr_loop_type']=gr_loop_type\n",
    "    for i in range (1,seq.shape[0]):\n",
    "        if ((seq.id.iloc[i]!=seq.id.iloc[i-1]) or (seq.base_predicted_loop_type.iloc[i]!=seq.base_predicted_loop_type.iloc[i-1])):\n",
    "            gr_loop_type=gr_loop_type+1\n",
    "        seq.count_gr_loop_type[i]=gr_loop_type\n",
    "    #Count the number of letters in the group \n",
    "    seq['N_loop_type']=seq['count_gr_loop_type'].apply(lambda x: count(x,seq['count_gr_loop_type']))\n",
    "    \n",
    "    #Concerning the number of point in 'base_structure_type'\n",
    "    Number_point=seq[seq.base_structure_type=='.'].groupby([\"id\"])['base_structure_type'].count()\n",
    "    seq['N_point']=Number_point[0]\n",
    "    idx=0\n",
    "    for i in range (1,seq.shape[0]):\n",
    "        if (seq.id.iloc[i]!=seq.id.iloc[i-1]):\n",
    "            idx+=1\n",
    "        seq.loc[i,['N_point']]=Number_point[idx]\n",
    "    return seq\n",
    "\n",
    "#changes, plus besoin du filtre SN \n",
    "def fianle_transform_test (dataframe):\n",
    "\n",
    "    #use expend to change feature \n",
    "    data_filter_seq = expend_feature_test(dataframe)\n",
    "    \n",
    "    #add feature \n",
    "    data_filter_seq = add_features(data_filter_seq)\n",
    "    \n",
    "    #make feature onehot encoding\n",
    "    one_hot_base = pd.get_dummies(data_filter_seq['base'],drop_first=True) #drop \"A\"\n",
    "    one_hot_loop = pd.get_dummies(data_filter_seq['base_predicted_loop_type'],drop_first=True) # drop \"B\"\n",
    "    one_hot_struct = pd.get_dummies(data_filter_seq['base_structure_type'],drop_first=True)# drop \"(\"\n",
    "    \n",
    "    #final dataset\n",
    "    data_filter_seq = data_filter_seq.drop([\"base\", \"base_predicted_loop_type\",\"base_structure_type\"], axis = 1)\n",
    "    df = pd.concat([data_filter_seq,one_hot_base, one_hot_loop ,one_hot_struct], axis = 1)\n",
    "    return df\n"
   ]
  },
  {
   "cell_type": "code",
   "execution_count": 17,
   "metadata": {},
   "outputs": [
    {
     "name": "stderr",
     "output_type": "stream",
     "text": [
      "/Users/romainbrule/opt/anaconda3/lib/python3.7/site-packages/ipykernel_launcher.py:45: SettingWithCopyWarning: \n",
      "A value is trying to be set on a copy of a slice from a DataFrame\n",
      "\n",
      "See the caveats in the documentation: http://pandas.pydata.org/pandas-docs/stable/user_guide/indexing.html#returning-a-view-versus-a-copy\n",
      "/Users/romainbrule/opt/anaconda3/lib/python3.7/site-packages/ipykernel_launcher.py:55: SettingWithCopyWarning: \n",
      "A value is trying to be set on a copy of a slice from a DataFrame\n",
      "\n",
      "See the caveats in the documentation: http://pandas.pydata.org/pandas-docs/stable/user_guide/indexing.html#returning-a-view-versus-a-copy\n"
     ]
    }
   ],
   "source": [
    "seq_test = fianle_transform_test(test)"
   ]
  },
  {
   "cell_type": "code",
   "execution_count": 18,
   "metadata": {},
   "outputs": [],
   "source": [
    "#seq_test.to_csv('test_interm.csv', index=False)"
   ]
  },
  {
   "cell_type": "code",
   "execution_count": 19,
   "metadata": {},
   "outputs": [],
   "source": [
    "letters_nucleotide_1=['C','G','U']\n",
    "\n",
    "def ajout_N_nucleotide(data):\n",
    "    for i in letters_nucleotide_1:\n",
    "        col = np.where(data[i]==1, data['N_base'], 0) \n",
    "        data [\"N_base_\"+i] = col\n",
    "    col_A=np.where(data.N_base_C+data.N_base_G+data.N_base_U==0,data.N_base,0)\n",
    "    data[\"N_base_A\"]=col_A\n",
    "    return data\n",
    "\n",
    "letters_loop_type_1=['E','H','I','M','S','X']\n",
    "\n",
    "def ajout_N_predicted_loop(data):\n",
    "    for i in letters_loop_type_1:\n",
    "        col = np.where(data[i]==1, data['N_loop_type'], 0) \n",
    "        data [\"N_\"+i] = col\n",
    "    col_B=np.where(data.N_E+data.N_H+data.N_I+data.N_M+data.N_S+data.N_X==0,data.N_loop_type,0)\n",
    "    data[\"N_B\"]=col_B\n",
    "    return data"
   ]
  },
  {
   "cell_type": "code",
   "execution_count": 20,
   "metadata": {},
   "outputs": [],
   "source": [
    "seq_test=ajout_N_nucleotide(seq_test)"
   ]
  },
  {
   "cell_type": "code",
   "execution_count": 21,
   "metadata": {},
   "outputs": [],
   "source": [
    "seq_test=ajout_N_predicted_loop(seq_test)"
   ]
  },
  {
   "cell_type": "code",
   "execution_count": 22,
   "metadata": {},
   "outputs": [],
   "source": [
    "seq_test.to_csv('test_final.csv', index=False)"
   ]
  },
  {
   "cell_type": "code",
   "execution_count": null,
   "metadata": {},
   "outputs": [],
   "source": []
  }
 ],
 "metadata": {
  "kernelspec": {
   "display_name": "Python 3",
   "language": "python",
   "name": "python3"
  },
  "language_info": {
   "codemirror_mode": {
    "name": "ipython",
    "version": 3
   },
   "file_extension": ".py",
   "mimetype": "text/x-python",
   "name": "python",
   "nbconvert_exporter": "python",
   "pygments_lexer": "ipython3",
   "version": "3.7.4"
  }
 },
 "nbformat": 4,
 "nbformat_minor": 2
}
