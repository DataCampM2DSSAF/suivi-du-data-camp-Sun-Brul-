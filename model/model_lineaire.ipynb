{
 "cells": [
  {
   "cell_type": "code",
   "execution_count": 258,
   "metadata": {},
   "outputs": [],
   "source": [
    "import pandas as pd\n",
    "import numpy as np\n",
    "from sklearn.linear_model import LinearRegression\n",
    "from sklearn.model_selection import train_test_split\n",
    "from sklearn.metrics import mean_squared_error, r2_score"
   ]
  },
  {
   "cell_type": "code",
   "execution_count": 259,
   "metadata": {},
   "outputs": [],
   "source": [
    "seq_clean = pd.read_csv('seq_filter.csv')\n",
    "test  = pd.read_json(\"/Users/Yannick/Desktop/Kaggle_covid/stanford-covid-vaccine/test.json\",lines=True)\n",
    "train = pd.read_json(\"/Users/Yannick/Desktop/Kaggle_covid/stanford-covid-vaccine/train.json\",lines=True)"
   ]
  },
  {
   "cell_type": "code",
   "execution_count": 260,
   "metadata": {
    "scrolled": false
   },
   "outputs": [
    {
     "data": {
      "text/html": [
       "<div>\n",
       "<style scoped>\n",
       "    .dataframe tbody tr th:only-of-type {\n",
       "        vertical-align: middle;\n",
       "    }\n",
       "\n",
       "    .dataframe tbody tr th {\n",
       "        vertical-align: top;\n",
       "    }\n",
       "\n",
       "    .dataframe thead th {\n",
       "        text-align: right;\n",
       "    }\n",
       "</style>\n",
       "<table border=\"1\" class=\"dataframe\">\n",
       "  <thead>\n",
       "    <tr style=\"text-align: right;\">\n",
       "      <th></th>\n",
       "      <th>id</th>\n",
       "      <th>base</th>\n",
       "      <th>base_structure_type</th>\n",
       "      <th>base_predicted_loop_type</th>\n",
       "      <th>reactivity_error</th>\n",
       "      <th>deg_error_Mg_pH10</th>\n",
       "      <th>deg_error_pH10</th>\n",
       "      <th>deg_error_Mg_50C</th>\n",
       "      <th>deg_error_50C</th>\n",
       "      <th>reactivity</th>\n",
       "      <th>deg_Mg_pH10</th>\n",
       "      <th>deg_pH10</th>\n",
       "      <th>deg_Mg_50C</th>\n",
       "      <th>deg_50C</th>\n",
       "    </tr>\n",
       "  </thead>\n",
       "  <tbody>\n",
       "    <tr>\n",
       "      <th>0</th>\n",
       "      <td>id_001f94081</td>\n",
       "      <td>0</td>\n",
       "      <td>0</td>\n",
       "      <td>0</td>\n",
       "      <td>0.1359</td>\n",
       "      <td>0.2613</td>\n",
       "      <td>0.2631</td>\n",
       "      <td>0.1501</td>\n",
       "      <td>0.2167</td>\n",
       "      <td>0.3297</td>\n",
       "      <td>0.7556</td>\n",
       "      <td>2.3375</td>\n",
       "      <td>0.3581</td>\n",
       "      <td>0.6382</td>\n",
       "    </tr>\n",
       "    <tr>\n",
       "      <th>1</th>\n",
       "      <td>id_001f94081</td>\n",
       "      <td>0</td>\n",
       "      <td>0</td>\n",
       "      <td>0</td>\n",
       "      <td>0.2070</td>\n",
       "      <td>0.3842</td>\n",
       "      <td>0.2860</td>\n",
       "      <td>0.2750</td>\n",
       "      <td>0.3475</td>\n",
       "      <td>1.5693</td>\n",
       "      <td>2.9830</td>\n",
       "      <td>3.5060</td>\n",
       "      <td>2.9683</td>\n",
       "      <td>3.4773</td>\n",
       "    </tr>\n",
       "    <tr>\n",
       "      <th>2</th>\n",
       "      <td>id_001f94081</td>\n",
       "      <td>1</td>\n",
       "      <td>0</td>\n",
       "      <td>0</td>\n",
       "      <td>0.1633</td>\n",
       "      <td>0.1372</td>\n",
       "      <td>0.0964</td>\n",
       "      <td>0.0947</td>\n",
       "      <td>0.1880</td>\n",
       "      <td>1.1227</td>\n",
       "      <td>0.2526</td>\n",
       "      <td>0.3008</td>\n",
       "      <td>0.2589</td>\n",
       "      <td>0.9988</td>\n",
       "    </tr>\n",
       "    <tr>\n",
       "      <th>3</th>\n",
       "      <td>id_001f94081</td>\n",
       "      <td>1</td>\n",
       "      <td>0</td>\n",
       "      <td>0</td>\n",
       "      <td>0.1452</td>\n",
       "      <td>0.2531</td>\n",
       "      <td>0.1574</td>\n",
       "      <td>0.1866</td>\n",
       "      <td>0.2124</td>\n",
       "      <td>0.8686</td>\n",
       "      <td>1.3789</td>\n",
       "      <td>1.0108</td>\n",
       "      <td>1.4552</td>\n",
       "      <td>1.3228</td>\n",
       "    </tr>\n",
       "    <tr>\n",
       "      <th>4</th>\n",
       "      <td>id_001f94081</td>\n",
       "      <td>1</td>\n",
       "      <td>0</td>\n",
       "      <td>0</td>\n",
       "      <td>0.1314</td>\n",
       "      <td>0.1798</td>\n",
       "      <td>0.1000</td>\n",
       "      <td>0.1369</td>\n",
       "      <td>0.1703</td>\n",
       "      <td>0.7217</td>\n",
       "      <td>0.6376</td>\n",
       "      <td>0.2635</td>\n",
       "      <td>0.7244</td>\n",
       "      <td>0.7877</td>\n",
       "    </tr>\n",
       "    <tr>\n",
       "      <th>...</th>\n",
       "      <td>...</td>\n",
       "      <td>...</td>\n",
       "      <td>...</td>\n",
       "      <td>...</td>\n",
       "      <td>...</td>\n",
       "      <td>...</td>\n",
       "      <td>...</td>\n",
       "      <td>...</td>\n",
       "      <td>...</td>\n",
       "      <td>...</td>\n",
       "      <td>...</td>\n",
       "      <td>...</td>\n",
       "      <td>...</td>\n",
       "      <td>...</td>\n",
       "    </tr>\n",
       "    <tr>\n",
       "      <th>108047</th>\n",
       "      <td>id_fff546103</td>\n",
       "      <td>2</td>\n",
       "      <td>2</td>\n",
       "      <td>1</td>\n",
       "      <td>0.0267</td>\n",
       "      <td>0.0626</td>\n",
       "      <td>0.0996</td>\n",
       "      <td>0.0638</td>\n",
       "      <td>0.0809</td>\n",
       "      <td>0.0272</td>\n",
       "      <td>0.5059</td>\n",
       "      <td>0.4998</td>\n",
       "      <td>0.2870</td>\n",
       "      <td>0.1820</td>\n",
       "    </tr>\n",
       "    <tr>\n",
       "      <th>108048</th>\n",
       "      <td>id_fff546103</td>\n",
       "      <td>3</td>\n",
       "      <td>2</td>\n",
       "      <td>1</td>\n",
       "      <td>0.0219</td>\n",
       "      <td>0.0411</td>\n",
       "      <td>0.0760</td>\n",
       "      <td>0.0520</td>\n",
       "      <td>0.0748</td>\n",
       "      <td>0.0382</td>\n",
       "      <td>0.2025</td>\n",
       "      <td>0.3057</td>\n",
       "      <td>0.2022</td>\n",
       "      <td>0.2038</td>\n",
       "    </tr>\n",
       "    <tr>\n",
       "      <th>108049</th>\n",
       "      <td>id_fff546103</td>\n",
       "      <td>1</td>\n",
       "      <td>2</td>\n",
       "      <td>1</td>\n",
       "      <td>0.0218</td>\n",
       "      <td>0.0391</td>\n",
       "      <td>0.0611</td>\n",
       "      <td>0.0520</td>\n",
       "      <td>0.0612</td>\n",
       "      <td>0.0381</td>\n",
       "      <td>0.1827</td>\n",
       "      <td>0.1642</td>\n",
       "      <td>0.2047</td>\n",
       "      <td>0.1120</td>\n",
       "    </tr>\n",
       "    <tr>\n",
       "      <th>108050</th>\n",
       "      <td>id_fff546103</td>\n",
       "      <td>0</td>\n",
       "      <td>2</td>\n",
       "      <td>1</td>\n",
       "      <td>0.0220</td>\n",
       "      <td>0.0509</td>\n",
       "      <td>0.0719</td>\n",
       "      <td>0.0595</td>\n",
       "      <td>0.0723</td>\n",
       "      <td>-0.0066</td>\n",
       "      <td>0.3261</td>\n",
       "      <td>0.1654</td>\n",
       "      <td>0.2447</td>\n",
       "      <td>0.1186</td>\n",
       "    </tr>\n",
       "    <tr>\n",
       "      <th>108051</th>\n",
       "      <td>id_fff546103</td>\n",
       "      <td>2</td>\n",
       "      <td>2</td>\n",
       "      <td>1</td>\n",
       "      <td>0.0287</td>\n",
       "      <td>0.0565</td>\n",
       "      <td>0.0936</td>\n",
       "      <td>0.0515</td>\n",
       "      <td>0.0892</td>\n",
       "      <td>0.0706</td>\n",
       "      <td>0.4529</td>\n",
       "      <td>0.4840</td>\n",
       "      <td>0.1802</td>\n",
       "      <td>0.3013</td>\n",
       "    </tr>\n",
       "  </tbody>\n",
       "</table>\n",
       "<p>108052 rows × 14 columns</p>\n",
       "</div>"
      ],
      "text/plain": [
       "                  id  base  base_structure_type  base_predicted_loop_type  \\\n",
       "0       id_001f94081     0                    0                         0   \n",
       "1       id_001f94081     0                    0                         0   \n",
       "2       id_001f94081     1                    0                         0   \n",
       "3       id_001f94081     1                    0                         0   \n",
       "4       id_001f94081     1                    0                         0   \n",
       "...              ...   ...                  ...                       ...   \n",
       "108047  id_fff546103     2                    2                         1   \n",
       "108048  id_fff546103     3                    2                         1   \n",
       "108049  id_fff546103     1                    2                         1   \n",
       "108050  id_fff546103     0                    2                         1   \n",
       "108051  id_fff546103     2                    2                         1   \n",
       "\n",
       "        reactivity_error  deg_error_Mg_pH10  deg_error_pH10  deg_error_Mg_50C  \\\n",
       "0                 0.1359             0.2613          0.2631            0.1501   \n",
       "1                 0.2070             0.3842          0.2860            0.2750   \n",
       "2                 0.1633             0.1372          0.0964            0.0947   \n",
       "3                 0.1452             0.2531          0.1574            0.1866   \n",
       "4                 0.1314             0.1798          0.1000            0.1369   \n",
       "...                  ...                ...             ...               ...   \n",
       "108047            0.0267             0.0626          0.0996            0.0638   \n",
       "108048            0.0219             0.0411          0.0760            0.0520   \n",
       "108049            0.0218             0.0391          0.0611            0.0520   \n",
       "108050            0.0220             0.0509          0.0719            0.0595   \n",
       "108051            0.0287             0.0565          0.0936            0.0515   \n",
       "\n",
       "        deg_error_50C  reactivity  deg_Mg_pH10  deg_pH10  deg_Mg_50C  deg_50C  \n",
       "0              0.2167      0.3297       0.7556    2.3375      0.3581   0.6382  \n",
       "1              0.3475      1.5693       2.9830    3.5060      2.9683   3.4773  \n",
       "2              0.1880      1.1227       0.2526    0.3008      0.2589   0.9988  \n",
       "3              0.2124      0.8686       1.3789    1.0108      1.4552   1.3228  \n",
       "4              0.1703      0.7217       0.6376    0.2635      0.7244   0.7877  \n",
       "...               ...         ...          ...       ...         ...      ...  \n",
       "108047         0.0809      0.0272       0.5059    0.4998      0.2870   0.1820  \n",
       "108048         0.0748      0.0382       0.2025    0.3057      0.2022   0.2038  \n",
       "108049         0.0612      0.0381       0.1827    0.1642      0.2047   0.1120  \n",
       "108050         0.0723     -0.0066       0.3261    0.1654      0.2447   0.1186  \n",
       "108051         0.0892      0.0706       0.4529    0.4840      0.1802   0.3013  \n",
       "\n",
       "[108052 rows x 14 columns]"
      ]
     },
     "execution_count": 260,
     "metadata": {},
     "output_type": "execute_result"
    }
   ],
   "source": [
    "seq_clean = seq_clean.drop(columns = ['Unnamed: 0'])\n",
    "seq_clean"
   ]
  },
  {
   "cell_type": "code",
   "execution_count": 261,
   "metadata": {},
   "outputs": [
    {
     "data": {
      "text/plain": [
       "LinearRegression()"
      ]
     },
     "execution_count": 261,
     "metadata": {},
     "output_type": "execute_result"
    }
   ],
   "source": [
    "X_ = seq_clean[['base', 'base_structure_type', 'base_predicted_loop_type']]\n",
    "model_full = LinearRegression()\n",
    "y=seq_clean.iloc[:,-5:]\n",
    "model_full.fit(X_, y)"
   ]
  },
  {
   "cell_type": "code",
   "execution_count": 262,
   "metadata": {},
   "outputs": [
    {
     "ename": "ValueError",
     "evalue": "could not convert string to float: 'id_00073f8be'",
     "output_type": "error",
     "traceback": [
      "\u001b[0;31m---------------------------------------------------------------------------\u001b[0m",
      "\u001b[0;31mValueError\u001b[0m                                Traceback (most recent call last)",
      "\u001b[0;32m<ipython-input-262-d48ef8531882>\u001b[0m in \u001b[0;36m<module>\u001b[0;34m\u001b[0m\n\u001b[0;32m----> 1\u001b[0;31m \u001b[0mregr\u001b[0m\u001b[0;34m.\u001b[0m\u001b[0mpredict\u001b[0m\u001b[0;34m(\u001b[0m\u001b[0mX_test\u001b[0m\u001b[0;34m)\u001b[0m\u001b[0;34m\u001b[0m\u001b[0;34m\u001b[0m\u001b[0m\n\u001b[0m",
      "\u001b[0;32m~/opt/anaconda3/lib/python3.7/site-packages/sklearn/ensemble/_forest.py\u001b[0m in \u001b[0;36mpredict\u001b[0;34m(self, X)\u001b[0m\n\u001b[1;32m    781\u001b[0m         \u001b[0mcheck_is_fitted\u001b[0m\u001b[0;34m(\u001b[0m\u001b[0mself\u001b[0m\u001b[0;34m)\u001b[0m\u001b[0;34m\u001b[0m\u001b[0;34m\u001b[0m\u001b[0m\n\u001b[1;32m    782\u001b[0m         \u001b[0;31m# Check data\u001b[0m\u001b[0;34m\u001b[0m\u001b[0;34m\u001b[0m\u001b[0;34m\u001b[0m\u001b[0m\n\u001b[0;32m--> 783\u001b[0;31m         \u001b[0mX\u001b[0m \u001b[0;34m=\u001b[0m \u001b[0mself\u001b[0m\u001b[0;34m.\u001b[0m\u001b[0m_validate_X_predict\u001b[0m\u001b[0;34m(\u001b[0m\u001b[0mX\u001b[0m\u001b[0;34m)\u001b[0m\u001b[0;34m\u001b[0m\u001b[0;34m\u001b[0m\u001b[0m\n\u001b[0m\u001b[1;32m    784\u001b[0m \u001b[0;34m\u001b[0m\u001b[0m\n\u001b[1;32m    785\u001b[0m         \u001b[0;31m# Assign chunk of trees to jobs\u001b[0m\u001b[0;34m\u001b[0m\u001b[0;34m\u001b[0m\u001b[0;34m\u001b[0m\u001b[0m\n",
      "\u001b[0;32m~/opt/anaconda3/lib/python3.7/site-packages/sklearn/ensemble/_forest.py\u001b[0m in \u001b[0;36m_validate_X_predict\u001b[0;34m(self, X)\u001b[0m\n\u001b[1;32m    419\u001b[0m         \u001b[0mcheck_is_fitted\u001b[0m\u001b[0;34m(\u001b[0m\u001b[0mself\u001b[0m\u001b[0;34m)\u001b[0m\u001b[0;34m\u001b[0m\u001b[0;34m\u001b[0m\u001b[0m\n\u001b[1;32m    420\u001b[0m \u001b[0;34m\u001b[0m\u001b[0m\n\u001b[0;32m--> 421\u001b[0;31m         \u001b[0;32mreturn\u001b[0m \u001b[0mself\u001b[0m\u001b[0;34m.\u001b[0m\u001b[0mestimators_\u001b[0m\u001b[0;34m[\u001b[0m\u001b[0;36m0\u001b[0m\u001b[0;34m]\u001b[0m\u001b[0;34m.\u001b[0m\u001b[0m_validate_X_predict\u001b[0m\u001b[0;34m(\u001b[0m\u001b[0mX\u001b[0m\u001b[0;34m,\u001b[0m \u001b[0mcheck_input\u001b[0m\u001b[0;34m=\u001b[0m\u001b[0;32mTrue\u001b[0m\u001b[0;34m)\u001b[0m\u001b[0;34m\u001b[0m\u001b[0;34m\u001b[0m\u001b[0m\n\u001b[0m\u001b[1;32m    422\u001b[0m \u001b[0;34m\u001b[0m\u001b[0m\n\u001b[1;32m    423\u001b[0m     \u001b[0;34m@\u001b[0m\u001b[0mproperty\u001b[0m\u001b[0;34m\u001b[0m\u001b[0;34m\u001b[0m\u001b[0m\n",
      "\u001b[0;32m~/opt/anaconda3/lib/python3.7/site-packages/sklearn/tree/_classes.py\u001b[0m in \u001b[0;36m_validate_X_predict\u001b[0;34m(self, X, check_input)\u001b[0m\n\u001b[1;32m    386\u001b[0m         \u001b[0;34m\"\"\"Validate X whenever one tries to predict, apply, predict_proba\"\"\"\u001b[0m\u001b[0;34m\u001b[0m\u001b[0;34m\u001b[0m\u001b[0m\n\u001b[1;32m    387\u001b[0m         \u001b[0;32mif\u001b[0m \u001b[0mcheck_input\u001b[0m\u001b[0;34m:\u001b[0m\u001b[0;34m\u001b[0m\u001b[0;34m\u001b[0m\u001b[0m\n\u001b[0;32m--> 388\u001b[0;31m             \u001b[0mX\u001b[0m \u001b[0;34m=\u001b[0m \u001b[0mcheck_array\u001b[0m\u001b[0;34m(\u001b[0m\u001b[0mX\u001b[0m\u001b[0;34m,\u001b[0m \u001b[0mdtype\u001b[0m\u001b[0;34m=\u001b[0m\u001b[0mDTYPE\u001b[0m\u001b[0;34m,\u001b[0m \u001b[0maccept_sparse\u001b[0m\u001b[0;34m=\u001b[0m\u001b[0;34m\"csr\"\u001b[0m\u001b[0;34m)\u001b[0m\u001b[0;34m\u001b[0m\u001b[0;34m\u001b[0m\u001b[0m\n\u001b[0m\u001b[1;32m    389\u001b[0m             if issparse(X) and (X.indices.dtype != np.intc or\n\u001b[1;32m    390\u001b[0m                                 X.indptr.dtype != np.intc):\n",
      "\u001b[0;32m~/opt/anaconda3/lib/python3.7/site-packages/sklearn/utils/validation.py\u001b[0m in \u001b[0;36minner_f\u001b[0;34m(*args, **kwargs)\u001b[0m\n\u001b[1;32m     70\u001b[0m                           FutureWarning)\n\u001b[1;32m     71\u001b[0m         \u001b[0mkwargs\u001b[0m\u001b[0;34m.\u001b[0m\u001b[0mupdate\u001b[0m\u001b[0;34m(\u001b[0m\u001b[0;34m{\u001b[0m\u001b[0mk\u001b[0m\u001b[0;34m:\u001b[0m \u001b[0marg\u001b[0m \u001b[0;32mfor\u001b[0m \u001b[0mk\u001b[0m\u001b[0;34m,\u001b[0m \u001b[0marg\u001b[0m \u001b[0;32min\u001b[0m \u001b[0mzip\u001b[0m\u001b[0;34m(\u001b[0m\u001b[0msig\u001b[0m\u001b[0;34m.\u001b[0m\u001b[0mparameters\u001b[0m\u001b[0;34m,\u001b[0m \u001b[0margs\u001b[0m\u001b[0;34m)\u001b[0m\u001b[0;34m}\u001b[0m\u001b[0;34m)\u001b[0m\u001b[0;34m\u001b[0m\u001b[0;34m\u001b[0m\u001b[0m\n\u001b[0;32m---> 72\u001b[0;31m         \u001b[0;32mreturn\u001b[0m \u001b[0mf\u001b[0m\u001b[0;34m(\u001b[0m\u001b[0;34m**\u001b[0m\u001b[0mkwargs\u001b[0m\u001b[0;34m)\u001b[0m\u001b[0;34m\u001b[0m\u001b[0;34m\u001b[0m\u001b[0m\n\u001b[0m\u001b[1;32m     73\u001b[0m     \u001b[0;32mreturn\u001b[0m \u001b[0minner_f\u001b[0m\u001b[0;34m\u001b[0m\u001b[0;34m\u001b[0m\u001b[0m\n\u001b[1;32m     74\u001b[0m \u001b[0;34m\u001b[0m\u001b[0m\n",
      "\u001b[0;32m~/opt/anaconda3/lib/python3.7/site-packages/sklearn/utils/validation.py\u001b[0m in \u001b[0;36mcheck_array\u001b[0;34m(array, accept_sparse, accept_large_sparse, dtype, order, copy, force_all_finite, ensure_2d, allow_nd, ensure_min_samples, ensure_min_features, estimator)\u001b[0m\n\u001b[1;32m    596\u001b[0m                     \u001b[0marray\u001b[0m \u001b[0;34m=\u001b[0m \u001b[0marray\u001b[0m\u001b[0;34m.\u001b[0m\u001b[0mastype\u001b[0m\u001b[0;34m(\u001b[0m\u001b[0mdtype\u001b[0m\u001b[0;34m,\u001b[0m \u001b[0mcasting\u001b[0m\u001b[0;34m=\u001b[0m\u001b[0;34m\"unsafe\"\u001b[0m\u001b[0;34m,\u001b[0m \u001b[0mcopy\u001b[0m\u001b[0;34m=\u001b[0m\u001b[0;32mFalse\u001b[0m\u001b[0;34m)\u001b[0m\u001b[0;34m\u001b[0m\u001b[0;34m\u001b[0m\u001b[0m\n\u001b[1;32m    597\u001b[0m                 \u001b[0;32melse\u001b[0m\u001b[0;34m:\u001b[0m\u001b[0;34m\u001b[0m\u001b[0;34m\u001b[0m\u001b[0m\n\u001b[0;32m--> 598\u001b[0;31m                     \u001b[0marray\u001b[0m \u001b[0;34m=\u001b[0m \u001b[0mnp\u001b[0m\u001b[0;34m.\u001b[0m\u001b[0masarray\u001b[0m\u001b[0;34m(\u001b[0m\u001b[0marray\u001b[0m\u001b[0;34m,\u001b[0m \u001b[0morder\u001b[0m\u001b[0;34m=\u001b[0m\u001b[0morder\u001b[0m\u001b[0;34m,\u001b[0m \u001b[0mdtype\u001b[0m\u001b[0;34m=\u001b[0m\u001b[0mdtype\u001b[0m\u001b[0;34m)\u001b[0m\u001b[0;34m\u001b[0m\u001b[0;34m\u001b[0m\u001b[0m\n\u001b[0m\u001b[1;32m    599\u001b[0m             \u001b[0;32mexcept\u001b[0m \u001b[0mComplexWarning\u001b[0m\u001b[0;34m:\u001b[0m\u001b[0;34m\u001b[0m\u001b[0;34m\u001b[0m\u001b[0m\n\u001b[1;32m    600\u001b[0m                 raise ValueError(\"Complex data not supported\\n\"\n",
      "\u001b[0;32m~/opt/anaconda3/lib/python3.7/site-packages/numpy/core/_asarray.py\u001b[0m in \u001b[0;36masarray\u001b[0;34m(a, dtype, order)\u001b[0m\n\u001b[1;32m     81\u001b[0m \u001b[0;34m\u001b[0m\u001b[0m\n\u001b[1;32m     82\u001b[0m     \"\"\"\n\u001b[0;32m---> 83\u001b[0;31m     \u001b[0;32mreturn\u001b[0m \u001b[0marray\u001b[0m\u001b[0;34m(\u001b[0m\u001b[0ma\u001b[0m\u001b[0;34m,\u001b[0m \u001b[0mdtype\u001b[0m\u001b[0;34m,\u001b[0m \u001b[0mcopy\u001b[0m\u001b[0;34m=\u001b[0m\u001b[0;32mFalse\u001b[0m\u001b[0;34m,\u001b[0m \u001b[0morder\u001b[0m\u001b[0;34m=\u001b[0m\u001b[0morder\u001b[0m\u001b[0;34m)\u001b[0m\u001b[0;34m\u001b[0m\u001b[0;34m\u001b[0m\u001b[0m\n\u001b[0m\u001b[1;32m     84\u001b[0m \u001b[0;34m\u001b[0m\u001b[0m\n\u001b[1;32m     85\u001b[0m \u001b[0;34m\u001b[0m\u001b[0m\n",
      "\u001b[0;32m~/opt/anaconda3/lib/python3.7/site-packages/pandas/core/generic.py\u001b[0m in \u001b[0;36m__array__\u001b[0;34m(self, dtype)\u001b[0m\n\u001b[1;32m   1779\u001b[0m \u001b[0;34m\u001b[0m\u001b[0m\n\u001b[1;32m   1780\u001b[0m     \u001b[0;32mdef\u001b[0m \u001b[0m__array__\u001b[0m\u001b[0;34m(\u001b[0m\u001b[0mself\u001b[0m\u001b[0;34m,\u001b[0m \u001b[0mdtype\u001b[0m\u001b[0;34m=\u001b[0m\u001b[0;32mNone\u001b[0m\u001b[0;34m)\u001b[0m \u001b[0;34m->\u001b[0m \u001b[0mnp\u001b[0m\u001b[0;34m.\u001b[0m\u001b[0mndarray\u001b[0m\u001b[0;34m:\u001b[0m\u001b[0;34m\u001b[0m\u001b[0;34m\u001b[0m\u001b[0m\n\u001b[0;32m-> 1781\u001b[0;31m         \u001b[0;32mreturn\u001b[0m \u001b[0mnp\u001b[0m\u001b[0;34m.\u001b[0m\u001b[0masarray\u001b[0m\u001b[0;34m(\u001b[0m\u001b[0mself\u001b[0m\u001b[0;34m.\u001b[0m\u001b[0m_values\u001b[0m\u001b[0;34m,\u001b[0m \u001b[0mdtype\u001b[0m\u001b[0;34m=\u001b[0m\u001b[0mdtype\u001b[0m\u001b[0;34m)\u001b[0m\u001b[0;34m\u001b[0m\u001b[0;34m\u001b[0m\u001b[0m\n\u001b[0m\u001b[1;32m   1782\u001b[0m \u001b[0;34m\u001b[0m\u001b[0m\n\u001b[1;32m   1783\u001b[0m     \u001b[0;32mdef\u001b[0m \u001b[0m__array_wrap__\u001b[0m\u001b[0;34m(\u001b[0m\u001b[0mself\u001b[0m\u001b[0;34m,\u001b[0m \u001b[0mresult\u001b[0m\u001b[0;34m,\u001b[0m \u001b[0mcontext\u001b[0m\u001b[0;34m=\u001b[0m\u001b[0;32mNone\u001b[0m\u001b[0;34m)\u001b[0m\u001b[0;34m:\u001b[0m\u001b[0;34m\u001b[0m\u001b[0;34m\u001b[0m\u001b[0m\n",
      "\u001b[0;32m~/opt/anaconda3/lib/python3.7/site-packages/numpy/core/_asarray.py\u001b[0m in \u001b[0;36masarray\u001b[0;34m(a, dtype, order)\u001b[0m\n\u001b[1;32m     81\u001b[0m \u001b[0;34m\u001b[0m\u001b[0m\n\u001b[1;32m     82\u001b[0m     \"\"\"\n\u001b[0;32m---> 83\u001b[0;31m     \u001b[0;32mreturn\u001b[0m \u001b[0marray\u001b[0m\u001b[0;34m(\u001b[0m\u001b[0ma\u001b[0m\u001b[0;34m,\u001b[0m \u001b[0mdtype\u001b[0m\u001b[0;34m,\u001b[0m \u001b[0mcopy\u001b[0m\u001b[0;34m=\u001b[0m\u001b[0;32mFalse\u001b[0m\u001b[0;34m,\u001b[0m \u001b[0morder\u001b[0m\u001b[0;34m=\u001b[0m\u001b[0morder\u001b[0m\u001b[0;34m)\u001b[0m\u001b[0;34m\u001b[0m\u001b[0;34m\u001b[0m\u001b[0m\n\u001b[0m\u001b[1;32m     84\u001b[0m \u001b[0;34m\u001b[0m\u001b[0m\n\u001b[1;32m     85\u001b[0m \u001b[0;34m\u001b[0m\u001b[0m\n",
      "\u001b[0;31mValueError\u001b[0m: could not convert string to float: 'id_00073f8be'"
     ]
    }
   ],
   "source": [
    "regr.predict(X_test)"
   ]
  },
  {
   "cell_type": "code",
   "execution_count": null,
   "metadata": {},
   "outputs": [],
   "source": [
    "regr.score(X_test, y_test)"
   ]
  },
  {
   "cell_type": "code",
   "execution_count": null,
   "metadata": {},
   "outputs": [],
   "source": [
    "regr.feature_importances_"
   ]
  },
  {
   "cell_type": "markdown",
   "metadata": {},
   "source": [
    "# import test file and transform for model "
   ]
  },
  {
   "cell_type": "code",
   "execution_count": null,
   "metadata": {},
   "outputs": [],
   "source": [
    "def expend_feature_test(df):\n",
    "    \"\"\"\n",
    "    Return a dataframe with expension of sequence\n",
    "    \n",
    "    Args:\n",
    "        df (Dataframe): same format as train\n",
    "        i_row (int): number of row we want to expand\n",
    "    \n",
    "    Returns:\n",
    "        sub_df: a dataframe with:\n",
    "        number of rows = seq_scored\n",
    "        columns name:[id, base, base_structure_type, base_predicted_loop_type, reactivity_error,\n",
    "        deg_error_Mg_pH10,deg_error_pH10, deg_error_Mg_50C, deg_error_50C, reactivity, \n",
    "        deg_Mg_pH10, deg_pH10, deg_Mg_50C, deg_50C]\n",
    "    \"\"\"\n",
    "    if (df.shape[0] != df.id.nunique()):\n",
    "        print('repetition in RNA sequnence, clean dataframe first')\n",
    "        return # dose the same as retunr None, which exit the function \n",
    "    \n",
    "    else:\n",
    "        col_names = ['id','base', 'base_structure_type', 'base_predicted_loop_type']\n",
    "\n",
    "        #dataframe creation using list of lists\n",
    "        # loop for each unique sequence\n",
    "        sub_data = []\n",
    "        for row_i in df.index:\n",
    "            #loop for the legth of sequnece score (trian length is different from test)\n",
    "            serie_i = df.loc[row_i] #panda series object\n",
    "            seq_length  = serie_i['seq_length']\n",
    "            for seq_i in range (seq_length):\n",
    "                seq_data = [serie_i['id'] + '_' + str(seq_i), serie_i['sequence'][seq_i],\n",
    "                            serie_i['structure'][seq_i], serie_i['predicted_loop_type'][seq_i]]\n",
    "                sub_data.append(seq_data)\n",
    "\n",
    "        sub_df = pd.DataFrame(sub_data, columns =col_names,  dtype = float) \n",
    "        return sub_df"
   ]
  },
  {
   "cell_type": "code",
   "execution_count": null,
   "metadata": {},
   "outputs": [],
   "source": [
    "base_replace = {'G':0, 'A':1, 'C':2, 'U':3}\n",
    "structure_replace ={'.':0, '(':1, ')':2}\n",
    "loop_type_replace = {'E':0, 'S':1, 'H':2, 'B':3, 'X':4, 'I':5, 'M':6}\n",
    "\n",
    "replace_types = [base_replace, structure_replace, loop_type_replace]\n",
    "\n",
    "# vary the proportion of S/N data in the train test, use validation set to tune the \n",
    "def fianle_transform_test (dataframe, replace_type):\n",
    "    # filter with SN_filter criteria \n",
    "    \n",
    "    #use expend to change feature \n",
    "    data_filter_seq = expend_feature_test(dataframe)\n",
    "    \n",
    "    #make feature to integer\n",
    "    for r_types in replace_type:  \n",
    "        data_filter_seq = data_filter_seq.replace(r_types)\n",
    " \n",
    "    return data_filter_seq"
   ]
  },
  {
   "cell_type": "code",
   "execution_count": null,
   "metadata": {},
   "outputs": [],
   "source": [
    "X_test_ = fianle_transform_test(test, replace_types)\n",
    "X_test_csv = X_test_csv[['base', 'base_structure_type', 'base_predicted_loop_type']]"
   ]
  },
  {
   "cell_type": "code",
   "execution_count": null,
   "metadata": {},
   "outputs": [],
   "source": [
    "y_pred_ = model_full.predict(X_test_csv)"
   ]
  },
  {
   "cell_type": "code",
   "execution_count": null,
   "metadata": {},
   "outputs": [],
   "source": [
    "y_pred_df_1 = pd.DataFrame(y_pred_, columns= ['reactivity', \n",
    "            'deg_Mg_pH10', 'deg_pH10', 'deg_Mg_50C', 'deg_50C'])\n",
    "\n",
    "y_pred_df_1.insert(0, \"id_seqpos\", X_test_['id'], True) "
   ]
  },
  {
   "cell_type": "code",
   "execution_count": null,
   "metadata": {},
   "outputs": [],
   "source": [
    "y_pred_df_1.describe()"
   ]
  },
  {
   "cell_type": "code",
   "execution_count": null,
   "metadata": {},
   "outputs": [],
   "source": [
    "sum(y_pred_df_1['id_seqpos'] != sub.id_seqpos)"
   ]
  },
  {
   "cell_type": "code",
   "execution_count": null,
   "metadata": {},
   "outputs": [],
   "source": [
    "y_pred_df_1.isnull().values.any()"
   ]
  },
  {
   "cell_type": "code",
   "execution_count": null,
   "metadata": {},
   "outputs": [],
   "source": [
    "def expend_feature (df):\n",
    "    \"\"\"\n",
    "    Return a dataframe with expension of sequence\n",
    "    \n",
    "    Args:\n",
    "        df (Dataframe): same format as train\n",
    "        i_row (int): number of row we want to expand\n",
    "    \n",
    "    Returns:\n",
    "        sub_df: a dataframe with:\n",
    "        number of rows = seq_scored\n",
    "        columns name:[id, base, base_structure_type, base_predicted_loop_type, reactivity_error,\n",
    "        deg_error_Mg_pH10,deg_error_pH10, deg_error_Mg_50C, deg_error_50C, reactivity, \n",
    "        deg_Mg_pH10, deg_pH10, deg_Mg_50C, deg_50C]\n",
    "    \"\"\"\n",
    "    if (df.shape[0] != df.id.nunique()):\n",
    "        print('repetition in RNA sequnence, clean dataframe first')\n",
    "        return # dose the same as retunr None, which exit the function \n",
    "    \n",
    "    else:\n",
    "        col_names = ['id','base', 'base_structure_type', 'base_predicted_loop_type', 'reactivity_error',\n",
    "            'deg_error_Mg_pH10', 'deg_error_pH10', 'deg_error_Mg_50C', 'deg_error_50C', 'reactivity', \n",
    "            'deg_Mg_pH10', 'deg_pH10', 'deg_Mg_50C', 'deg_50C']\n",
    "\n",
    "        #dataframe creation using list of lists\n",
    "        # loop for each unique sequence\n",
    "        sub_data = []\n",
    "        for row_i in df.index:\n",
    "            #loop for the legth of sequnece score (trian length is different from test)\n",
    "            serie_i = df.loc[row_i] #panda series object\n",
    "            seq_length  = serie_i['seq_scored']\n",
    "            for seq_i in range (seq_length):\n",
    "                seq_data = [serie_i['id'], serie_i['sequence'][seq_i],\n",
    "                            serie_i['structure'][seq_i], serie_i['predicted_loop_type'][seq_i],\n",
    "                            serie_i['reactivity_error'][seq_i], serie_i['deg_error_Mg_pH10'][seq_i],\n",
    "                            serie_i['deg_error_pH10'][seq_i], serie_i['deg_error_Mg_50C'][seq_i],\n",
    "                            serie_i['deg_error_50C'][seq_i], serie_i['reactivity'][seq_i],\n",
    "                            serie_i['deg_Mg_pH10'][seq_i], serie_i['deg_pH10'][seq_i],\n",
    "                            serie_i['deg_Mg_50C'][seq_i], serie_i['deg_50C'][seq_i]]\n",
    "                sub_data.append(seq_data)\n",
    "        sub_df = pd.DataFrame(sub_data, columns =col_names,  dtype = float) \n",
    "        return sub_df\n",
    "base_replace = {'G':0, 'A':1, 'C':2, 'U':3}\n",
    "structure_replace ={'.':0, '(':1, ')':2}\n",
    "loop_type_replace = {'E':0, 'S':1, 'H':2, 'B':3, 'X':4, 'I':5, 'M':6}\n",
    "\n",
    "replace_types = [base_replace, structure_replace, loop_type_replace]\n",
    "\n",
    "# vary the proportion of S/N data in the train test, use validation set to tune the \n",
    "def fianle_transform_without_SN (dataframe, replace_type):\n",
    "    # filter with SN_filter criteria \n",
    "\n",
    "    \n",
    "    #use expend to change feature \n",
    "    data_filter_seq = expend_feature(dataframe)\n",
    "    \n",
    "    #make feature to integer\n",
    "    for r_types in replace_type:  \n",
    "        data_filter_seq = data_filter_seq.replace(r_types)\n",
    " \n",
    "    return data_filter_seq"
   ]
  },
  {
   "cell_type": "code",
   "execution_count": null,
   "metadata": {},
   "outputs": [],
   "source": [
    "seq_= fianle_transform_without_SN(train, replace_types)"
   ]
  },
  {
   "cell_type": "code",
   "execution_count": null,
   "metadata": {},
   "outputs": [],
   "source": [
    "seq_"
   ]
  },
  {
   "cell_type": "code",
   "execution_count": null,
   "metadata": {},
   "outputs": [],
   "source": [
    "X_ = seq_clean[['base', 'base_structure_type', 'base_predicted_loop_type']]\n",
    "model_SN = LinearRegression()\n",
    "y = seq_clean.iloc[:,-5:]\n",
    "model_SN.fit(X_, y)"
   ]
  },
  {
   "cell_type": "code",
   "execution_count": null,
   "metadata": {},
   "outputs": [],
   "source": [
    "y_pred_SN = model_SN.predict(X_test_csv)"
   ]
  },
  {
   "cell_type": "code",
   "execution_count": null,
   "metadata": {},
   "outputs": [],
   "source": [
    "y_pred_df_SN = pd.DataFrame(y_pred_SN, columns= ['reactivity', \n",
    "            'deg_Mg_pH10', 'deg_pH10', 'deg_Mg_50C', 'deg_50C'])\n",
    "\n",
    "y_pred_df_SN.insert(0, \"id_seqpos\", X_test_['id'], True) "
   ]
  },
  {
   "cell_type": "code",
   "execution_count": null,
   "metadata": {},
   "outputs": [],
   "source": [
    "y_pred_df_SN.to_csv('sub_without_SN.csv', index=False)"
   ]
  },
  {
   "cell_type": "code",
   "execution_count": null,
   "metadata": {},
   "outputs": [],
   "source": [
    "model_SN.coef_"
   ]
  },
  {
   "cell_type": "code",
   "execution_count": null,
   "metadata": {},
   "outputs": [],
   "source": [
    "model_full.coef_"
   ]
  },
  {
   "cell_type": "code",
   "execution_count": null,
   "metadata": {},
   "outputs": [],
   "source": [
    "y_pred_df_SN"
   ]
  },
  {
   "cell_type": "code",
   "execution_count": null,
   "metadata": {},
   "outputs": [],
   "source": []
  }
 ],
 "metadata": {
  "kernelspec": {
   "display_name": "Python 3",
   "language": "python",
   "name": "python3"
  },
  "language_info": {
   "codemirror_mode": {
    "name": "ipython",
    "version": 3
   },
   "file_extension": ".py",
   "mimetype": "text/x-python",
   "name": "python",
   "nbconvert_exporter": "python",
   "pygments_lexer": "ipython3",
   "version": "3.7.7"
  }
 },
 "nbformat": 4,
 "nbformat_minor": 4
}
