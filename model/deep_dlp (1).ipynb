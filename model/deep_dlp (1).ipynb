{
  "nbformat": 4,
  "nbformat_minor": 5,
  "metadata": {
    "kernelspec": {
      "display_name": "Python 3",
      "language": "python",
      "name": "python3"
    },
    "language_info": {
      "codemirror_mode": {
        "name": "ipython",
        "version": 3
      },
      "file_extension": ".py",
      "mimetype": "text/x-python",
      "name": "python",
      "nbconvert_exporter": "python",
      "pygments_lexer": "ipython3",
      "version": "3.7.10"
    },
    "colab": {
      "name": "deep_dlp.ipynb",
      "provenance": [],
      "collapsed_sections": []
    },
    "accelerator": "GPU"
  },
  "cells": [
    {
      "cell_type": "code",
      "metadata": {
        "id": "regulated-policy"
      },
      "source": [
        "import json\n",
        "\n",
        "import tensorflow.keras.layers as L\n",
        "import tensorflow as tf\n",
        "from sklearn.model_selection import train_test_split\n",
        "import utility_fct\n",
        "from keras.models import Sequential\n",
        "from keras.layers import Input, Dense, BatchNormalization, Dropout, ReLU, Activation, Flatten\n",
        "from tensorflow.keras.optimizers import Adam\n",
        "from tensorflow import keras\n",
        "from keras.utils import plot_model\n",
        "\n",
        "\n",
        "import numpy as np # manipulate N-dimensional arrays\n",
        "import pandas as pd # data frame\n",
        "import matplotlib.pyplot as plt # data plotting\n",
        "import seaborn # advanced data plotting\n",
        "\n",
        "import tensorflow as tf"
      ],
      "id": "regulated-policy",
      "execution_count": null,
      "outputs": []
    },
    {
      "cell_type": "code",
      "metadata": {
        "colab": {
          "base_uri": "https://localhost:8080/",
          "height": 35
        },
        "id": "sorted-flower",
        "outputId": "d9ca3376-1cff-4b75-c57b-187157c0958e"
      },
      "source": [
        "tf.__version__\n",
        "tf.test.gpu_device_name()"
      ],
      "id": "sorted-flower",
      "execution_count": null,
      "outputs": [
        {
          "output_type": "execute_result",
          "data": {
            "application/vnd.google.colaboratory.intrinsic+json": {
              "type": "string"
            },
            "text/plain": [
              "'/device:GPU:0'"
            ]
          },
          "metadata": {
            "tags": []
          },
          "execution_count": 47
        }
      ]
    },
    {
      "cell_type": "code",
      "metadata": {
        "id": "returning-diploma"
      },
      "source": [
        "#train = pd.read_json(\"train.json\",lines=True)"
      ],
      "id": "returning-diploma",
      "execution_count": null,
      "outputs": []
    },
    {
      "cell_type": "code",
      "metadata": {
        "id": "industrial-iceland"
      },
      "source": [
        "pred_cols = ['reactivity', 'deg_Mg_pH10', 'deg_Mg_50C', 'deg_pH10', 'deg_50C']"
      ],
      "id": "industrial-iceland",
      "execution_count": null,
      "outputs": []
    },
    {
      "cell_type": "code",
      "metadata": {
        "id": "modern-accident"
      },
      "source": [
        "def MCRMSE(y_true, y_pred):\n",
        "    colwise_mse = tf.reduce_mean(tf.square(y_true - y_pred), axis=1)\n",
        "    return tf.reduce_mean(tf.sqrt(colwise_mse), axis=1)\n",
        "def RMSE(y_true, y_pred):\n",
        "    colwise_rmse = tf.reduce_mean(tf.square(y_true - y_pred), axis=1)\n",
        "    return colwise_rmse"
      ],
      "id": "modern-accident",
      "execution_count": null,
      "outputs": []
    },
    {
      "cell_type": "code",
      "metadata": {
        "id": "rough-piano"
      },
      "source": [
        "test_org = pd.read_json('test.json',lines=True)\n",
        "test = pd.read_csv('test_final.csv')"
      ],
      "id": "rough-piano",
      "execution_count": null,
      "outputs": []
    },
    {
      "cell_type": "code",
      "metadata": {
        "colab": {
          "base_uri": "https://localhost:8080/"
        },
        "id": "-8sZciJtmxnE",
        "outputId": "7e21bd4c-4b90-45b3-df7e-296fa843cc22"
      },
      "source": [
        "test.shape"
      ],
      "id": "-8sZciJtmxnE",
      "execution_count": null,
      "outputs": [
        {
          "output_type": "execute_result",
          "data": {
            "text/plain": [
              "(457953, 29)"
            ]
          },
          "metadata": {
            "tags": []
          },
          "execution_count": 68
        }
      ]
    },
    {
      "cell_type": "code",
      "metadata": {
        "id": "TO_315u4d6Qb"
      },
      "source": [
        "test_sub = utility_fct.expend_feature_test(test_org)"
      ],
      "id": "TO_315u4d6Qb",
      "execution_count": null,
      "outputs": []
    },
    {
      "cell_type": "code",
      "metadata": {
        "id": "oriented-cannon"
      },
      "source": [
        "train_seq = pd.read_csv('train_model.csv')"
      ],
      "id": "oriented-cannon",
      "execution_count": null,
      "outputs": []
    },
    {
      "cell_type": "code",
      "metadata": {
        "colab": {
          "base_uri": "https://localhost:8080/",
          "height": 224
        },
        "id": "polish-sheep",
        "outputId": "c2f09338-6d70-40ab-a82f-2c4eb1f9f9ac"
      },
      "source": [
        "seq = train_seq\n",
        "seq.head(5)"
      ],
      "id": "polish-sheep",
      "execution_count": null,
      "outputs": [
        {
          "output_type": "execute_result",
          "data": {
            "text/html": [
              "<div>\n",
              "<style scoped>\n",
              "    .dataframe tbody tr th:only-of-type {\n",
              "        vertical-align: middle;\n",
              "    }\n",
              "\n",
              "    .dataframe tbody tr th {\n",
              "        vertical-align: top;\n",
              "    }\n",
              "\n",
              "    .dataframe thead th {\n",
              "        text-align: right;\n",
              "    }\n",
              "</style>\n",
              "<table border=\"1\" class=\"dataframe\">\n",
              "  <thead>\n",
              "    <tr style=\"text-align: right;\">\n",
              "      <th></th>\n",
              "      <th>reactivity</th>\n",
              "      <th>deg_Mg_pH10</th>\n",
              "      <th>deg_pH10</th>\n",
              "      <th>deg_Mg_50C</th>\n",
              "      <th>deg_50C</th>\n",
              "      <th>C</th>\n",
              "      <th>G</th>\n",
              "      <th>U</th>\n",
              "      <th>E</th>\n",
              "      <th>H</th>\n",
              "      <th>I</th>\n",
              "      <th>M</th>\n",
              "      <th>S</th>\n",
              "      <th>X</th>\n",
              "      <th>)</th>\n",
              "      <th>.</th>\n",
              "      <th>N_E</th>\n",
              "      <th>N_H</th>\n",
              "      <th>N_I</th>\n",
              "      <th>N_M</th>\n",
              "      <th>N_S</th>\n",
              "      <th>N_X</th>\n",
              "      <th>N_B</th>\n",
              "      <th>N_base_A</th>\n",
              "      <th>N_base_C</th>\n",
              "      <th>N_base_G</th>\n",
              "      <th>N_base_U</th>\n",
              "      <th>N_point</th>\n",
              "    </tr>\n",
              "  </thead>\n",
              "  <tbody>\n",
              "    <tr>\n",
              "      <th>0</th>\n",
              "      <td>0.3297</td>\n",
              "      <td>0.7556</td>\n",
              "      <td>2.3375</td>\n",
              "      <td>0.3581</td>\n",
              "      <td>0.6382</td>\n",
              "      <td>0</td>\n",
              "      <td>1</td>\n",
              "      <td>0</td>\n",
              "      <td>1</td>\n",
              "      <td>0</td>\n",
              "      <td>0</td>\n",
              "      <td>0</td>\n",
              "      <td>0</td>\n",
              "      <td>0</td>\n",
              "      <td>0</td>\n",
              "      <td>1</td>\n",
              "      <td>5</td>\n",
              "      <td>0</td>\n",
              "      <td>0</td>\n",
              "      <td>0</td>\n",
              "      <td>0</td>\n",
              "      <td>0</td>\n",
              "      <td>0</td>\n",
              "      <td>0</td>\n",
              "      <td>0</td>\n",
              "      <td>2</td>\n",
              "      <td>0</td>\n",
              "      <td>36</td>\n",
              "    </tr>\n",
              "    <tr>\n",
              "      <th>1</th>\n",
              "      <td>1.5693</td>\n",
              "      <td>2.9830</td>\n",
              "      <td>3.5060</td>\n",
              "      <td>2.9683</td>\n",
              "      <td>3.4773</td>\n",
              "      <td>0</td>\n",
              "      <td>1</td>\n",
              "      <td>0</td>\n",
              "      <td>1</td>\n",
              "      <td>0</td>\n",
              "      <td>0</td>\n",
              "      <td>0</td>\n",
              "      <td>0</td>\n",
              "      <td>0</td>\n",
              "      <td>0</td>\n",
              "      <td>1</td>\n",
              "      <td>5</td>\n",
              "      <td>0</td>\n",
              "      <td>0</td>\n",
              "      <td>0</td>\n",
              "      <td>0</td>\n",
              "      <td>0</td>\n",
              "      <td>0</td>\n",
              "      <td>0</td>\n",
              "      <td>0</td>\n",
              "      <td>2</td>\n",
              "      <td>0</td>\n",
              "      <td>36</td>\n",
              "    </tr>\n",
              "    <tr>\n",
              "      <th>2</th>\n",
              "      <td>1.1227</td>\n",
              "      <td>0.2526</td>\n",
              "      <td>0.3008</td>\n",
              "      <td>0.2589</td>\n",
              "      <td>0.9988</td>\n",
              "      <td>0</td>\n",
              "      <td>0</td>\n",
              "      <td>0</td>\n",
              "      <td>1</td>\n",
              "      <td>0</td>\n",
              "      <td>0</td>\n",
              "      <td>0</td>\n",
              "      <td>0</td>\n",
              "      <td>0</td>\n",
              "      <td>0</td>\n",
              "      <td>1</td>\n",
              "      <td>5</td>\n",
              "      <td>0</td>\n",
              "      <td>0</td>\n",
              "      <td>0</td>\n",
              "      <td>0</td>\n",
              "      <td>0</td>\n",
              "      <td>0</td>\n",
              "      <td>4</td>\n",
              "      <td>0</td>\n",
              "      <td>0</td>\n",
              "      <td>0</td>\n",
              "      <td>36</td>\n",
              "    </tr>\n",
              "    <tr>\n",
              "      <th>3</th>\n",
              "      <td>0.8686</td>\n",
              "      <td>1.3789</td>\n",
              "      <td>1.0108</td>\n",
              "      <td>1.4552</td>\n",
              "      <td>1.3228</td>\n",
              "      <td>0</td>\n",
              "      <td>0</td>\n",
              "      <td>0</td>\n",
              "      <td>1</td>\n",
              "      <td>0</td>\n",
              "      <td>0</td>\n",
              "      <td>0</td>\n",
              "      <td>0</td>\n",
              "      <td>0</td>\n",
              "      <td>0</td>\n",
              "      <td>1</td>\n",
              "      <td>5</td>\n",
              "      <td>0</td>\n",
              "      <td>0</td>\n",
              "      <td>0</td>\n",
              "      <td>0</td>\n",
              "      <td>0</td>\n",
              "      <td>0</td>\n",
              "      <td>4</td>\n",
              "      <td>0</td>\n",
              "      <td>0</td>\n",
              "      <td>0</td>\n",
              "      <td>36</td>\n",
              "    </tr>\n",
              "    <tr>\n",
              "      <th>4</th>\n",
              "      <td>0.7217</td>\n",
              "      <td>0.6376</td>\n",
              "      <td>0.2635</td>\n",
              "      <td>0.7244</td>\n",
              "      <td>0.7877</td>\n",
              "      <td>0</td>\n",
              "      <td>0</td>\n",
              "      <td>0</td>\n",
              "      <td>1</td>\n",
              "      <td>0</td>\n",
              "      <td>0</td>\n",
              "      <td>0</td>\n",
              "      <td>0</td>\n",
              "      <td>0</td>\n",
              "      <td>0</td>\n",
              "      <td>1</td>\n",
              "      <td>5</td>\n",
              "      <td>0</td>\n",
              "      <td>0</td>\n",
              "      <td>0</td>\n",
              "      <td>0</td>\n",
              "      <td>0</td>\n",
              "      <td>0</td>\n",
              "      <td>4</td>\n",
              "      <td>0</td>\n",
              "      <td>0</td>\n",
              "      <td>0</td>\n",
              "      <td>36</td>\n",
              "    </tr>\n",
              "  </tbody>\n",
              "</table>\n",
              "</div>"
            ],
            "text/plain": [
              "   reactivity  deg_Mg_pH10  deg_pH10  ...  N_base_G  N_base_U  N_point\n",
              "0      0.3297       0.7556    2.3375  ...         2         0       36\n",
              "1      1.5693       2.9830    3.5060  ...         2         0       36\n",
              "2      1.1227       0.2526    0.3008  ...         0         0       36\n",
              "3      0.8686       1.3789    1.0108  ...         0         0       36\n",
              "4      0.7217       0.6376    0.2635  ...         0         0       36\n",
              "\n",
              "[5 rows x 28 columns]"
            ]
          },
          "metadata": {
            "tags": []
          },
          "execution_count": 103
        }
      ]
    },
    {
      "cell_type": "code",
      "metadata": {
        "id": "threaded-interim"
      },
      "source": [
        "from keras.backend import clear_session\n",
        "clear_session()"
      ],
      "id": "threaded-interim",
      "execution_count": null,
      "outputs": []
    },
    {
      "cell_type": "code",
      "metadata": {
        "id": "peripheral-seeker"
      },
      "source": [
        "def mcrmse(y_true, y_pred):\n",
        "        cmse = tf.reduce_mean(tf.square(y_true - y_pred), axis=1)\n",
        "        res = float(tf.reduce_mean(tf.sqrt(cmse)))\n",
        "        return res"
      ],
      "id": "peripheral-seeker",
      "execution_count": null,
      "outputs": []
    },
    {
      "cell_type": "code",
      "metadata": {
        "id": "peaceful-strip"
      },
      "source": [
        "y = seq.loc[:,[\"reactivity\",\"deg_Mg_pH10\",\"deg_pH10\",\"deg_Mg_50C\",\"deg_50C\"]]\n",
        "X = seq.loc[:,['C', 'G', 'U','E', 'H', 'I', 'M', 'S', 'X', ')', '.']]\n",
        "X_train, X_test, y_train, y_true = train_test_split(X, y, test_size=0.2, random_state=1,shuffle=False)"
      ],
      "id": "peaceful-strip",
      "execution_count": null,
      "outputs": []
    },
    {
      "cell_type": "code",
      "metadata": {
        "id": "XGwprWFlagCQ"
      },
      "source": [
        "X_sub = test.loc[:,['C', 'G', 'U','E', 'H', 'I', 'M', 'S', 'X', ')', '.']]"
      ],
      "id": "XGwprWFlagCQ",
      "execution_count": null,
      "outputs": []
    },
    {
      "cell_type": "code",
      "metadata": {
        "id": "3vxvPLGZK6Ba"
      },
      "source": [
        "opt = Adam(lr=0.001)"
      ],
      "id": "3vxvPLGZK6Ba",
      "execution_count": null,
      "outputs": []
    },
    {
      "cell_type": "code",
      "metadata": {
        "id": "sPCnoJIyIJnR"
      },
      "source": [
        "features_2 = ['C','G', 'U', 'E', 'H', 'I', 'M', 'S', 'X', ')', '.', 'N_E', 'N_H', 'N_I',\n",
        "       'N_M', 'N_S', 'N_X', 'N_B', 'N_base_A', 'N_base_C', 'N_base_G',\n",
        "       'N_base_U', 'N_point']\n",
        "\n",
        "X_2 = seq.loc[:, features_2]\n",
        "X_train_2, X_test_2, y_train_2, y_test_2 = train_test_split(X_2, y, test_size=0.2, random_state=1,shuffle=False)\n",
        "X_sub_2 = test.loc[:,features_2]"
      ],
      "id": "sPCnoJIyIJnR",
      "execution_count": null,
      "outputs": []
    },
    {
      "cell_type": "code",
      "metadata": {
        "colab": {
          "base_uri": "https://localhost:8080/",
          "height": 439
        },
        "id": "wPdKCIn-Kf-w",
        "outputId": "cdc7fae5-5dbd-4ce6-d1a7-9520775c3b11"
      },
      "source": [
        "X_2"
      ],
      "id": "wPdKCIn-Kf-w",
      "execution_count": null,
      "outputs": [
        {
          "output_type": "execute_result",
          "data": {
            "text/html": [
              "<div>\n",
              "<style scoped>\n",
              "    .dataframe tbody tr th:only-of-type {\n",
              "        vertical-align: middle;\n",
              "    }\n",
              "\n",
              "    .dataframe tbody tr th {\n",
              "        vertical-align: top;\n",
              "    }\n",
              "\n",
              "    .dataframe thead th {\n",
              "        text-align: right;\n",
              "    }\n",
              "</style>\n",
              "<table border=\"1\" class=\"dataframe\">\n",
              "  <thead>\n",
              "    <tr style=\"text-align: right;\">\n",
              "      <th></th>\n",
              "      <th>C</th>\n",
              "      <th>G</th>\n",
              "      <th>U</th>\n",
              "      <th>E</th>\n",
              "      <th>H</th>\n",
              "      <th>I</th>\n",
              "      <th>M</th>\n",
              "      <th>S</th>\n",
              "      <th>X</th>\n",
              "      <th>)</th>\n",
              "      <th>.</th>\n",
              "      <th>N_E</th>\n",
              "      <th>N_H</th>\n",
              "      <th>N_I</th>\n",
              "      <th>N_M</th>\n",
              "      <th>N_S</th>\n",
              "      <th>N_X</th>\n",
              "      <th>N_B</th>\n",
              "      <th>N_base_A</th>\n",
              "      <th>N_base_C</th>\n",
              "      <th>N_base_G</th>\n",
              "      <th>N_base_U</th>\n",
              "      <th>N_point</th>\n",
              "    </tr>\n",
              "  </thead>\n",
              "  <tbody>\n",
              "    <tr>\n",
              "      <th>0</th>\n",
              "      <td>0</td>\n",
              "      <td>1</td>\n",
              "      <td>0</td>\n",
              "      <td>1</td>\n",
              "      <td>0</td>\n",
              "      <td>0</td>\n",
              "      <td>0</td>\n",
              "      <td>0</td>\n",
              "      <td>0</td>\n",
              "      <td>0</td>\n",
              "      <td>1</td>\n",
              "      <td>5</td>\n",
              "      <td>0</td>\n",
              "      <td>0</td>\n",
              "      <td>0</td>\n",
              "      <td>0</td>\n",
              "      <td>0</td>\n",
              "      <td>0</td>\n",
              "      <td>0</td>\n",
              "      <td>0</td>\n",
              "      <td>2</td>\n",
              "      <td>0</td>\n",
              "      <td>36</td>\n",
              "    </tr>\n",
              "    <tr>\n",
              "      <th>1</th>\n",
              "      <td>0</td>\n",
              "      <td>1</td>\n",
              "      <td>0</td>\n",
              "      <td>1</td>\n",
              "      <td>0</td>\n",
              "      <td>0</td>\n",
              "      <td>0</td>\n",
              "      <td>0</td>\n",
              "      <td>0</td>\n",
              "      <td>0</td>\n",
              "      <td>1</td>\n",
              "      <td>5</td>\n",
              "      <td>0</td>\n",
              "      <td>0</td>\n",
              "      <td>0</td>\n",
              "      <td>0</td>\n",
              "      <td>0</td>\n",
              "      <td>0</td>\n",
              "      <td>0</td>\n",
              "      <td>0</td>\n",
              "      <td>2</td>\n",
              "      <td>0</td>\n",
              "      <td>36</td>\n",
              "    </tr>\n",
              "    <tr>\n",
              "      <th>2</th>\n",
              "      <td>0</td>\n",
              "      <td>0</td>\n",
              "      <td>0</td>\n",
              "      <td>1</td>\n",
              "      <td>0</td>\n",
              "      <td>0</td>\n",
              "      <td>0</td>\n",
              "      <td>0</td>\n",
              "      <td>0</td>\n",
              "      <td>0</td>\n",
              "      <td>1</td>\n",
              "      <td>5</td>\n",
              "      <td>0</td>\n",
              "      <td>0</td>\n",
              "      <td>0</td>\n",
              "      <td>0</td>\n",
              "      <td>0</td>\n",
              "      <td>0</td>\n",
              "      <td>4</td>\n",
              "      <td>0</td>\n",
              "      <td>0</td>\n",
              "      <td>0</td>\n",
              "      <td>36</td>\n",
              "    </tr>\n",
              "    <tr>\n",
              "      <th>3</th>\n",
              "      <td>0</td>\n",
              "      <td>0</td>\n",
              "      <td>0</td>\n",
              "      <td>1</td>\n",
              "      <td>0</td>\n",
              "      <td>0</td>\n",
              "      <td>0</td>\n",
              "      <td>0</td>\n",
              "      <td>0</td>\n",
              "      <td>0</td>\n",
              "      <td>1</td>\n",
              "      <td>5</td>\n",
              "      <td>0</td>\n",
              "      <td>0</td>\n",
              "      <td>0</td>\n",
              "      <td>0</td>\n",
              "      <td>0</td>\n",
              "      <td>0</td>\n",
              "      <td>4</td>\n",
              "      <td>0</td>\n",
              "      <td>0</td>\n",
              "      <td>0</td>\n",
              "      <td>36</td>\n",
              "    </tr>\n",
              "    <tr>\n",
              "      <th>4</th>\n",
              "      <td>0</td>\n",
              "      <td>0</td>\n",
              "      <td>0</td>\n",
              "      <td>1</td>\n",
              "      <td>0</td>\n",
              "      <td>0</td>\n",
              "      <td>0</td>\n",
              "      <td>0</td>\n",
              "      <td>0</td>\n",
              "      <td>0</td>\n",
              "      <td>1</td>\n",
              "      <td>5</td>\n",
              "      <td>0</td>\n",
              "      <td>0</td>\n",
              "      <td>0</td>\n",
              "      <td>0</td>\n",
              "      <td>0</td>\n",
              "      <td>0</td>\n",
              "      <td>4</td>\n",
              "      <td>0</td>\n",
              "      <td>0</td>\n",
              "      <td>0</td>\n",
              "      <td>36</td>\n",
              "    </tr>\n",
              "    <tr>\n",
              "      <th>...</th>\n",
              "      <td>...</td>\n",
              "      <td>...</td>\n",
              "      <td>...</td>\n",
              "      <td>...</td>\n",
              "      <td>...</td>\n",
              "      <td>...</td>\n",
              "      <td>...</td>\n",
              "      <td>...</td>\n",
              "      <td>...</td>\n",
              "      <td>...</td>\n",
              "      <td>...</td>\n",
              "      <td>...</td>\n",
              "      <td>...</td>\n",
              "      <td>...</td>\n",
              "      <td>...</td>\n",
              "      <td>...</td>\n",
              "      <td>...</td>\n",
              "      <td>...</td>\n",
              "      <td>...</td>\n",
              "      <td>...</td>\n",
              "      <td>...</td>\n",
              "      <td>...</td>\n",
              "      <td>...</td>\n",
              "    </tr>\n",
              "    <tr>\n",
              "      <th>108047</th>\n",
              "      <td>1</td>\n",
              "      <td>0</td>\n",
              "      <td>0</td>\n",
              "      <td>0</td>\n",
              "      <td>0</td>\n",
              "      <td>0</td>\n",
              "      <td>0</td>\n",
              "      <td>1</td>\n",
              "      <td>0</td>\n",
              "      <td>1</td>\n",
              "      <td>0</td>\n",
              "      <td>0</td>\n",
              "      <td>0</td>\n",
              "      <td>0</td>\n",
              "      <td>0</td>\n",
              "      <td>5</td>\n",
              "      <td>0</td>\n",
              "      <td>0</td>\n",
              "      <td>0</td>\n",
              "      <td>1</td>\n",
              "      <td>0</td>\n",
              "      <td>0</td>\n",
              "      <td>16</td>\n",
              "    </tr>\n",
              "    <tr>\n",
              "      <th>108048</th>\n",
              "      <td>0</td>\n",
              "      <td>0</td>\n",
              "      <td>1</td>\n",
              "      <td>0</td>\n",
              "      <td>0</td>\n",
              "      <td>0</td>\n",
              "      <td>0</td>\n",
              "      <td>1</td>\n",
              "      <td>0</td>\n",
              "      <td>1</td>\n",
              "      <td>0</td>\n",
              "      <td>0</td>\n",
              "      <td>0</td>\n",
              "      <td>0</td>\n",
              "      <td>0</td>\n",
              "      <td>5</td>\n",
              "      <td>0</td>\n",
              "      <td>0</td>\n",
              "      <td>0</td>\n",
              "      <td>0</td>\n",
              "      <td>0</td>\n",
              "      <td>1</td>\n",
              "      <td>16</td>\n",
              "    </tr>\n",
              "    <tr>\n",
              "      <th>108049</th>\n",
              "      <td>0</td>\n",
              "      <td>0</td>\n",
              "      <td>0</td>\n",
              "      <td>0</td>\n",
              "      <td>0</td>\n",
              "      <td>0</td>\n",
              "      <td>0</td>\n",
              "      <td>1</td>\n",
              "      <td>0</td>\n",
              "      <td>1</td>\n",
              "      <td>0</td>\n",
              "      <td>0</td>\n",
              "      <td>0</td>\n",
              "      <td>0</td>\n",
              "      <td>0</td>\n",
              "      <td>5</td>\n",
              "      <td>0</td>\n",
              "      <td>0</td>\n",
              "      <td>1</td>\n",
              "      <td>0</td>\n",
              "      <td>0</td>\n",
              "      <td>0</td>\n",
              "      <td>16</td>\n",
              "    </tr>\n",
              "    <tr>\n",
              "      <th>108050</th>\n",
              "      <td>0</td>\n",
              "      <td>1</td>\n",
              "      <td>0</td>\n",
              "      <td>0</td>\n",
              "      <td>0</td>\n",
              "      <td>0</td>\n",
              "      <td>0</td>\n",
              "      <td>1</td>\n",
              "      <td>0</td>\n",
              "      <td>1</td>\n",
              "      <td>0</td>\n",
              "      <td>0</td>\n",
              "      <td>0</td>\n",
              "      <td>0</td>\n",
              "      <td>0</td>\n",
              "      <td>5</td>\n",
              "      <td>0</td>\n",
              "      <td>0</td>\n",
              "      <td>0</td>\n",
              "      <td>0</td>\n",
              "      <td>1</td>\n",
              "      <td>0</td>\n",
              "      <td>16</td>\n",
              "    </tr>\n",
              "    <tr>\n",
              "      <th>108051</th>\n",
              "      <td>1</td>\n",
              "      <td>0</td>\n",
              "      <td>0</td>\n",
              "      <td>0</td>\n",
              "      <td>0</td>\n",
              "      <td>0</td>\n",
              "      <td>0</td>\n",
              "      <td>1</td>\n",
              "      <td>0</td>\n",
              "      <td>1</td>\n",
              "      <td>0</td>\n",
              "      <td>0</td>\n",
              "      <td>0</td>\n",
              "      <td>0</td>\n",
              "      <td>0</td>\n",
              "      <td>5</td>\n",
              "      <td>0</td>\n",
              "      <td>0</td>\n",
              "      <td>0</td>\n",
              "      <td>1</td>\n",
              "      <td>0</td>\n",
              "      <td>0</td>\n",
              "      <td>16</td>\n",
              "    </tr>\n",
              "  </tbody>\n",
              "</table>\n",
              "<p>108052 rows × 23 columns</p>\n",
              "</div>"
            ],
            "text/plain": [
              "        C  G  U  E  H  I  ...  N_B  N_base_A  N_base_C  N_base_G  N_base_U  N_point\n",
              "0       0  1  0  1  0  0  ...    0         0         0         2         0       36\n",
              "1       0  1  0  1  0  0  ...    0         0         0         2         0       36\n",
              "2       0  0  0  1  0  0  ...    0         4         0         0         0       36\n",
              "3       0  0  0  1  0  0  ...    0         4         0         0         0       36\n",
              "4       0  0  0  1  0  0  ...    0         4         0         0         0       36\n",
              "...    .. .. .. .. .. ..  ...  ...       ...       ...       ...       ...      ...\n",
              "108047  1  0  0  0  0  0  ...    0         0         1         0         0       16\n",
              "108048  0  0  1  0  0  0  ...    0         0         0         0         1       16\n",
              "108049  0  0  0  0  0  0  ...    0         1         0         0         0       16\n",
              "108050  0  1  0  0  0  0  ...    0         0         0         1         0       16\n",
              "108051  1  0  0  0  0  0  ...    0         0         1         0         0       16\n",
              "\n",
              "[108052 rows x 23 columns]"
            ]
          },
          "metadata": {
            "tags": []
          },
          "execution_count": 110
        }
      ]
    },
    {
      "cell_type": "code",
      "metadata": {
        "id": "bo7SYzqgI1M3"
      },
      "source": [
        "clear_session()\n",
        "shape = X_2.shape[1]"
      ],
      "id": "bo7SYzqgI1M3",
      "execution_count": null,
      "outputs": []
    },
    {
      "cell_type": "code",
      "metadata": {
        "colab": {
          "base_uri": "https://localhost:8080/"
        },
        "id": "0NOUoUP4Kcvo",
        "outputId": "521eeecf-8a70-4229-8f23-edcc1efa5a00"
      },
      "source": [
        "  model = Sequential()\n",
        "  model.add(Dense(1000,input_shape = [shape])) \n",
        "  model.add(ReLU())\n",
        "  model.add(Dropout(0.3))\n",
        "  model.add(Dense(500))\n",
        "  model.add(ReLU())\n",
        "  model.add(Dropout(0.3))\n",
        "  model.add(Dense(150))\n",
        "  model.add(ReLU())\n",
        "  model.add(Dropout(0.3))\n",
        "  model.add(Dense(100))\n",
        "  model.add(ReLU())\n",
        "  model.add(Dropout(0.3))\n",
        "  model.add(Dense(50))\n",
        "  model.add(ReLU())\n",
        "  model.add(Dropout(0.3))\n",
        "  model.add(Dense(y.shape[1]))\n",
        "  print(model.summary())"
      ],
      "id": "0NOUoUP4Kcvo",
      "execution_count": null,
      "outputs": [
        {
          "output_type": "stream",
          "text": [
            "Model: \"sequential\"\n",
            "_________________________________________________________________\n",
            "Layer (type)                 Output Shape              Param #   \n",
            "=================================================================\n",
            "dense (Dense)                (None, 1000)              24000     \n",
            "_________________________________________________________________\n",
            "re_lu (ReLU)                 (None, 1000)              0         \n",
            "_________________________________________________________________\n",
            "dropout (Dropout)            (None, 1000)              0         \n",
            "_________________________________________________________________\n",
            "dense_1 (Dense)              (None, 500)               500500    \n",
            "_________________________________________________________________\n",
            "re_lu_1 (ReLU)               (None, 500)               0         \n",
            "_________________________________________________________________\n",
            "dropout_1 (Dropout)          (None, 500)               0         \n",
            "_________________________________________________________________\n",
            "dense_2 (Dense)              (None, 150)               75150     \n",
            "_________________________________________________________________\n",
            "re_lu_2 (ReLU)               (None, 150)               0         \n",
            "_________________________________________________________________\n",
            "dropout_2 (Dropout)          (None, 150)               0         \n",
            "_________________________________________________________________\n",
            "dense_3 (Dense)              (None, 100)               15100     \n",
            "_________________________________________________________________\n",
            "re_lu_3 (ReLU)               (None, 100)               0         \n",
            "_________________________________________________________________\n",
            "dropout_3 (Dropout)          (None, 100)               0         \n",
            "_________________________________________________________________\n",
            "dense_4 (Dense)              (None, 50)                5050      \n",
            "_________________________________________________________________\n",
            "re_lu_4 (ReLU)               (None, 50)                0         \n",
            "_________________________________________________________________\n",
            "dropout_4 (Dropout)          (None, 50)                0         \n",
            "_________________________________________________________________\n",
            "dense_5 (Dense)              (None, 5)                 255       \n",
            "=================================================================\n",
            "Total params: 620,055\n",
            "Trainable params: 620,055\n",
            "Non-trainable params: 0\n",
            "_________________________________________________________________\n",
            "None\n"
          ],
          "name": "stdout"
        }
      ]
    },
    {
      "cell_type": "code",
      "metadata": {
        "id": "UVM0tC1JLJ1J"
      },
      "source": [
        "model.compile(loss=RMSE,\n",
        "              optimizer=opt)"
      ],
      "id": "UVM0tC1JLJ1J",
      "execution_count": null,
      "outputs": []
    },
    {
      "cell_type": "code",
      "metadata": {
        "colab": {
          "base_uri": "https://localhost:8080/"
        },
        "id": "t_2K6juuK0Cu",
        "outputId": "ad5ff436-a557-4c9c-bb8d-472695c18baf"
      },
      "source": [
        "batch_size = 200\n",
        "epochs = 100\n",
        "hist_MLP = model.fit(X_train_2, y_train_2,\n",
        "              batch_size=batch_size,\n",
        "              epochs=epochs,\n",
        "              validation_split=0.3)"
      ],
      "id": "t_2K6juuK0Cu",
      "execution_count": null,
      "outputs": [
        {
          "output_type": "stream",
          "text": [
            "Epoch 1/100\n",
            "303/303 [==============================] - 1s 4ms/step - loss: 0.1599 - val_loss: 0.1572\n",
            "Epoch 2/100\n",
            "303/303 [==============================] - 1s 3ms/step - loss: 0.1603 - val_loss: 0.1569\n",
            "Epoch 3/100\n",
            "303/303 [==============================] - 1s 3ms/step - loss: 0.1599 - val_loss: 0.1556\n",
            "Epoch 4/100\n",
            "303/303 [==============================] - 1s 3ms/step - loss: 0.1607 - val_loss: 0.1554\n",
            "Epoch 5/100\n",
            "303/303 [==============================] - 1s 3ms/step - loss: 0.1605 - val_loss: 0.1553\n",
            "Epoch 6/100\n",
            "303/303 [==============================] - 1s 3ms/step - loss: 0.1598 - val_loss: 0.1558\n",
            "Epoch 7/100\n",
            "303/303 [==============================] - 1s 3ms/step - loss: 0.1605 - val_loss: 0.1563\n",
            "Epoch 8/100\n",
            "303/303 [==============================] - 1s 3ms/step - loss: 0.1587 - val_loss: 0.1542\n",
            "Epoch 9/100\n",
            "303/303 [==============================] - 1s 3ms/step - loss: 0.1594 - val_loss: 0.1564\n",
            "Epoch 10/100\n",
            "303/303 [==============================] - 1s 3ms/step - loss: 0.1598 - val_loss: 0.1559\n",
            "Epoch 11/100\n",
            "303/303 [==============================] - 1s 3ms/step - loss: 0.1588 - val_loss: 0.1539\n",
            "Epoch 12/100\n",
            "303/303 [==============================] - 1s 3ms/step - loss: 0.1601 - val_loss: 0.1559\n",
            "Epoch 13/100\n",
            "303/303 [==============================] - 1s 3ms/step - loss: 0.1595 - val_loss: 0.1553\n",
            "Epoch 14/100\n",
            "303/303 [==============================] - 1s 3ms/step - loss: 0.1591 - val_loss: 0.1539\n",
            "Epoch 15/100\n",
            "303/303 [==============================] - 1s 3ms/step - loss: 0.1586 - val_loss: 0.1547\n",
            "Epoch 16/100\n",
            "303/303 [==============================] - 1s 3ms/step - loss: 0.1585 - val_loss: 0.1543\n",
            "Epoch 17/100\n",
            "303/303 [==============================] - 1s 3ms/step - loss: 0.1592 - val_loss: 0.1565\n",
            "Epoch 18/100\n",
            "303/303 [==============================] - 1s 3ms/step - loss: 0.1584 - val_loss: 0.1536\n",
            "Epoch 19/100\n",
            "303/303 [==============================] - 1s 3ms/step - loss: 0.1580 - val_loss: 0.1550\n",
            "Epoch 20/100\n",
            "303/303 [==============================] - 1s 3ms/step - loss: 0.1593 - val_loss: 0.1545\n",
            "Epoch 21/100\n",
            "303/303 [==============================] - 1s 3ms/step - loss: 0.1587 - val_loss: 0.1535\n",
            "Epoch 22/100\n",
            "303/303 [==============================] - 1s 3ms/step - loss: 0.1583 - val_loss: 0.1534\n",
            "Epoch 23/100\n",
            "303/303 [==============================] - 1s 3ms/step - loss: 0.1587 - val_loss: 0.1536\n",
            "Epoch 24/100\n",
            "303/303 [==============================] - 1s 3ms/step - loss: 0.1581 - val_loss: 0.1538\n",
            "Epoch 25/100\n",
            "303/303 [==============================] - 1s 3ms/step - loss: 0.1586 - val_loss: 0.1531\n",
            "Epoch 26/100\n",
            "303/303 [==============================] - 1s 3ms/step - loss: 0.1585 - val_loss: 0.1553\n",
            "Epoch 27/100\n",
            "303/303 [==============================] - 1s 3ms/step - loss: 0.1586 - val_loss: 0.1534\n",
            "Epoch 28/100\n",
            "303/303 [==============================] - 1s 3ms/step - loss: 0.1585 - val_loss: 0.1549\n",
            "Epoch 29/100\n",
            "303/303 [==============================] - 1s 3ms/step - loss: 0.1584 - val_loss: 0.1543\n",
            "Epoch 30/100\n",
            "303/303 [==============================] - 1s 3ms/step - loss: 0.1583 - val_loss: 0.1543\n",
            "Epoch 31/100\n",
            "303/303 [==============================] - 1s 3ms/step - loss: 0.1581 - val_loss: 0.1539\n",
            "Epoch 32/100\n",
            "303/303 [==============================] - 1s 3ms/step - loss: 0.1583 - val_loss: 0.1549\n",
            "Epoch 33/100\n",
            "303/303 [==============================] - 1s 3ms/step - loss: 0.1580 - val_loss: 0.1539\n",
            "Epoch 34/100\n",
            "303/303 [==============================] - 1s 3ms/step - loss: 0.1579 - val_loss: 0.1535\n",
            "Epoch 35/100\n",
            "303/303 [==============================] - 1s 3ms/step - loss: 0.1580 - val_loss: 0.1534\n",
            "Epoch 36/100\n",
            "303/303 [==============================] - 1s 3ms/step - loss: 0.1576 - val_loss: 0.1548\n",
            "Epoch 37/100\n",
            "303/303 [==============================] - 1s 3ms/step - loss: 0.1577 - val_loss: 0.1527\n",
            "Epoch 38/100\n",
            "303/303 [==============================] - 1s 3ms/step - loss: 0.1583 - val_loss: 0.1536\n",
            "Epoch 39/100\n",
            "303/303 [==============================] - 1s 3ms/step - loss: 0.1581 - val_loss: 0.1537\n",
            "Epoch 40/100\n",
            "303/303 [==============================] - 1s 3ms/step - loss: 0.1574 - val_loss: 0.1540\n",
            "Epoch 41/100\n",
            "303/303 [==============================] - 1s 3ms/step - loss: 0.1579 - val_loss: 0.1530\n",
            "Epoch 42/100\n",
            "303/303 [==============================] - 1s 3ms/step - loss: 0.1573 - val_loss: 0.1534\n",
            "Epoch 43/100\n",
            "303/303 [==============================] - 1s 3ms/step - loss: 0.1570 - val_loss: 0.1534\n",
            "Epoch 44/100\n",
            "303/303 [==============================] - 1s 3ms/step - loss: 0.1570 - val_loss: 0.1531\n",
            "Epoch 45/100\n",
            "303/303 [==============================] - 1s 3ms/step - loss: 0.1575 - val_loss: 0.1543\n",
            "Epoch 46/100\n",
            "303/303 [==============================] - 1s 3ms/step - loss: 0.1571 - val_loss: 0.1527\n",
            "Epoch 47/100\n",
            "303/303 [==============================] - 1s 3ms/step - loss: 0.1564 - val_loss: 0.1531\n",
            "Epoch 48/100\n",
            "303/303 [==============================] - 1s 3ms/step - loss: 0.1574 - val_loss: 0.1538\n",
            "Epoch 49/100\n",
            "303/303 [==============================] - 1s 3ms/step - loss: 0.1574 - val_loss: 0.1521\n",
            "Epoch 50/100\n",
            "303/303 [==============================] - 1s 3ms/step - loss: 0.1566 - val_loss: 0.1531\n",
            "Epoch 51/100\n",
            "303/303 [==============================] - 1s 3ms/step - loss: 0.1572 - val_loss: 0.1533\n",
            "Epoch 52/100\n",
            "303/303 [==============================] - 1s 3ms/step - loss: 0.1569 - val_loss: 0.1538\n",
            "Epoch 53/100\n",
            "303/303 [==============================] - 1s 3ms/step - loss: 0.1569 - val_loss: 0.1525\n",
            "Epoch 54/100\n",
            "303/303 [==============================] - 1s 3ms/step - loss: 0.1570 - val_loss: 0.1548\n",
            "Epoch 55/100\n",
            "303/303 [==============================] - 1s 3ms/step - loss: 0.1567 - val_loss: 0.1529\n",
            "Epoch 56/100\n",
            "303/303 [==============================] - 1s 3ms/step - loss: 0.1566 - val_loss: 0.1527\n",
            "Epoch 57/100\n",
            "303/303 [==============================] - 1s 3ms/step - loss: 0.1572 - val_loss: 0.1529\n",
            "Epoch 58/100\n",
            "303/303 [==============================] - 1s 3ms/step - loss: 0.1563 - val_loss: 0.1543\n",
            "Epoch 59/100\n",
            "303/303 [==============================] - 1s 3ms/step - loss: 0.1566 - val_loss: 0.1519\n",
            "Epoch 60/100\n",
            "303/303 [==============================] - 1s 3ms/step - loss: 0.1567 - val_loss: 0.1524\n",
            "Epoch 61/100\n",
            "303/303 [==============================] - 1s 3ms/step - loss: 0.1569 - val_loss: 0.1512\n",
            "Epoch 62/100\n",
            "303/303 [==============================] - 1s 3ms/step - loss: 0.1562 - val_loss: 0.1515\n",
            "Epoch 63/100\n",
            "303/303 [==============================] - 1s 3ms/step - loss: 0.1566 - val_loss: 0.1525\n",
            "Epoch 64/100\n",
            "303/303 [==============================] - 1s 3ms/step - loss: 0.1562 - val_loss: 0.1519\n",
            "Epoch 65/100\n",
            "303/303 [==============================] - 1s 3ms/step - loss: 0.1565 - val_loss: 0.1519\n",
            "Epoch 66/100\n",
            "303/303 [==============================] - 1s 3ms/step - loss: 0.1569 - val_loss: 0.1516\n",
            "Epoch 67/100\n",
            "303/303 [==============================] - 1s 3ms/step - loss: 0.1561 - val_loss: 0.1517\n",
            "Epoch 68/100\n",
            "303/303 [==============================] - 1s 3ms/step - loss: 0.1558 - val_loss: 0.1529\n",
            "Epoch 69/100\n",
            "303/303 [==============================] - 1s 3ms/step - loss: 0.1564 - val_loss: 0.1529\n",
            "Epoch 70/100\n",
            "303/303 [==============================] - 1s 3ms/step - loss: 0.1562 - val_loss: 0.1517\n",
            "Epoch 71/100\n",
            "303/303 [==============================] - 1s 3ms/step - loss: 0.1560 - val_loss: 0.1516\n",
            "Epoch 72/100\n",
            "303/303 [==============================] - 1s 3ms/step - loss: 0.1561 - val_loss: 0.1525\n",
            "Epoch 73/100\n",
            "303/303 [==============================] - 1s 3ms/step - loss: 0.1567 - val_loss: 0.1518\n",
            "Epoch 74/100\n",
            "303/303 [==============================] - 1s 3ms/step - loss: 0.1563 - val_loss: 0.1524\n",
            "Epoch 75/100\n",
            "303/303 [==============================] - 1s 3ms/step - loss: 0.1561 - val_loss: 0.1518\n",
            "Epoch 76/100\n",
            "303/303 [==============================] - 1s 3ms/step - loss: 0.1558 - val_loss: 0.1515\n",
            "Epoch 77/100\n",
            "303/303 [==============================] - 1s 3ms/step - loss: 0.1553 - val_loss: 0.1518\n",
            "Epoch 78/100\n",
            "303/303 [==============================] - 1s 3ms/step - loss: 0.1568 - val_loss: 0.1516\n",
            "Epoch 79/100\n",
            "303/303 [==============================] - 1s 3ms/step - loss: 0.1562 - val_loss: 0.1519\n",
            "Epoch 80/100\n",
            "303/303 [==============================] - 1s 3ms/step - loss: 0.1552 - val_loss: 0.1520\n",
            "Epoch 81/100\n",
            "303/303 [==============================] - 1s 3ms/step - loss: 0.1564 - val_loss: 0.1521\n",
            "Epoch 82/100\n",
            "303/303 [==============================] - 1s 3ms/step - loss: 0.1564 - val_loss: 0.1518\n",
            "Epoch 83/100\n",
            "303/303 [==============================] - 1s 3ms/step - loss: 0.1551 - val_loss: 0.1514\n",
            "Epoch 84/100\n",
            "303/303 [==============================] - 1s 3ms/step - loss: 0.1556 - val_loss: 0.1520\n",
            "Epoch 85/100\n",
            "303/303 [==============================] - 1s 3ms/step - loss: 0.1562 - val_loss: 0.1519\n",
            "Epoch 86/100\n",
            "303/303 [==============================] - 1s 3ms/step - loss: 0.1563 - val_loss: 0.1518\n",
            "Epoch 87/100\n",
            "303/303 [==============================] - 1s 3ms/step - loss: 0.1558 - val_loss: 0.1540\n",
            "Epoch 88/100\n",
            "303/303 [==============================] - 1s 3ms/step - loss: 0.1557 - val_loss: 0.1518\n",
            "Epoch 89/100\n",
            "303/303 [==============================] - 1s 3ms/step - loss: 0.1561 - val_loss: 0.1513\n",
            "Epoch 90/100\n",
            "303/303 [==============================] - 1s 3ms/step - loss: 0.1559 - val_loss: 0.1521\n",
            "Epoch 91/100\n",
            "303/303 [==============================] - 1s 3ms/step - loss: 0.1554 - val_loss: 0.1523\n",
            "Epoch 92/100\n",
            "303/303 [==============================] - 1s 3ms/step - loss: 0.1555 - val_loss: 0.1526\n",
            "Epoch 93/100\n",
            "303/303 [==============================] - 1s 3ms/step - loss: 0.1560 - val_loss: 0.1517\n",
            "Epoch 94/100\n",
            "303/303 [==============================] - 1s 3ms/step - loss: 0.1555 - val_loss: 0.1518\n",
            "Epoch 95/100\n",
            "303/303 [==============================] - 1s 3ms/step - loss: 0.1557 - val_loss: 0.1501\n",
            "Epoch 96/100\n",
            "303/303 [==============================] - 1s 3ms/step - loss: 0.1551 - val_loss: 0.1507\n",
            "Epoch 97/100\n",
            "303/303 [==============================] - 1s 3ms/step - loss: 0.1557 - val_loss: 0.1516\n",
            "Epoch 98/100\n",
            "303/303 [==============================] - 1s 3ms/step - loss: 0.1553 - val_loss: 0.1509\n",
            "Epoch 99/100\n",
            "303/303 [==============================] - 1s 3ms/step - loss: 0.1555 - val_loss: 0.1516\n",
            "Epoch 100/100\n",
            "303/303 [==============================] - 1s 3ms/step - loss: 0.1558 - val_loss: 0.1528\n"
          ],
          "name": "stdout"
        }
      ]
    },
    {
      "cell_type": "code",
      "metadata": {
        "id": "2Ps8tgqjMnNE"
      },
      "source": [
        "y_sub = model.predict(test.loc[:, features_2])\n",
        "y_pred_dlp = pd.DataFrame(y_sub, columns= ['reactivity', \n",
        "            'deg_Mg_pH10', 'deg_pH10', 'deg_Mg_50C', 'deg_50C'])\n",
        "\n",
        "y_pred_dlp.insert(0, \"id_seqpos\", test_sub['id'], True) "
      ],
      "id": "2Ps8tgqjMnNE",
      "execution_count": null,
      "outputs": []
    },
    {
      "cell_type": "code",
      "metadata": {
        "colab": {
          "base_uri": "https://localhost:8080/",
          "height": 419
        },
        "id": "jr4CvRWnOGVw",
        "outputId": "1cae2278-3d00-4833-a1a8-adc4b30fe526"
      },
      "source": [
        "y_pred_dlp"
      ],
      "id": "jr4CvRWnOGVw",
      "execution_count": null,
      "outputs": [
        {
          "output_type": "execute_result",
          "data": {
            "text/html": [
              "<div>\n",
              "<style scoped>\n",
              "    .dataframe tbody tr th:only-of-type {\n",
              "        vertical-align: middle;\n",
              "    }\n",
              "\n",
              "    .dataframe tbody tr th {\n",
              "        vertical-align: top;\n",
              "    }\n",
              "\n",
              "    .dataframe thead th {\n",
              "        text-align: right;\n",
              "    }\n",
              "</style>\n",
              "<table border=\"1\" class=\"dataframe\">\n",
              "  <thead>\n",
              "    <tr style=\"text-align: right;\">\n",
              "      <th></th>\n",
              "      <th>id_seqpos</th>\n",
              "      <th>reactivity</th>\n",
              "      <th>deg_Mg_pH10</th>\n",
              "      <th>deg_pH10</th>\n",
              "      <th>deg_Mg_50C</th>\n",
              "      <th>deg_50C</th>\n",
              "    </tr>\n",
              "  </thead>\n",
              "  <tbody>\n",
              "    <tr>\n",
              "      <th>0</th>\n",
              "      <td>id_00073f8be_0</td>\n",
              "      <td>1.038507</td>\n",
              "      <td>1.347965</td>\n",
              "      <td>2.496107</td>\n",
              "      <td>1.278008</td>\n",
              "      <td>1.295117</td>\n",
              "    </tr>\n",
              "    <tr>\n",
              "      <th>1</th>\n",
              "      <td>id_00073f8be_1</td>\n",
              "      <td>1.038507</td>\n",
              "      <td>1.347965</td>\n",
              "      <td>2.496107</td>\n",
              "      <td>1.278008</td>\n",
              "      <td>1.295117</td>\n",
              "    </tr>\n",
              "    <tr>\n",
              "      <th>2</th>\n",
              "      <td>id_00073f8be_2</td>\n",
              "      <td>0.919017</td>\n",
              "      <td>0.757241</td>\n",
              "      <td>0.832960</td>\n",
              "      <td>0.920761</td>\n",
              "      <td>0.895662</td>\n",
              "    </tr>\n",
              "    <tr>\n",
              "      <th>3</th>\n",
              "      <td>id_00073f8be_3</td>\n",
              "      <td>0.919017</td>\n",
              "      <td>0.757241</td>\n",
              "      <td>0.832960</td>\n",
              "      <td>0.920761</td>\n",
              "      <td>0.895662</td>\n",
              "    </tr>\n",
              "    <tr>\n",
              "      <th>4</th>\n",
              "      <td>id_00073f8be_4</td>\n",
              "      <td>0.919017</td>\n",
              "      <td>0.757241</td>\n",
              "      <td>0.832960</td>\n",
              "      <td>0.920761</td>\n",
              "      <td>0.895662</td>\n",
              "    </tr>\n",
              "    <tr>\n",
              "      <th>...</th>\n",
              "      <td>...</td>\n",
              "      <td>...</td>\n",
              "      <td>...</td>\n",
              "      <td>...</td>\n",
              "      <td>...</td>\n",
              "      <td>...</td>\n",
              "    </tr>\n",
              "    <tr>\n",
              "      <th>457948</th>\n",
              "      <td>id_ffda94f24_125</td>\n",
              "      <td>0.587840</td>\n",
              "      <td>0.656110</td>\n",
              "      <td>0.648602</td>\n",
              "      <td>0.616752</td>\n",
              "      <td>0.612494</td>\n",
              "    </tr>\n",
              "    <tr>\n",
              "      <th>457949</th>\n",
              "      <td>id_ffda94f24_126</td>\n",
              "      <td>0.395314</td>\n",
              "      <td>0.511207</td>\n",
              "      <td>0.646629</td>\n",
              "      <td>0.543345</td>\n",
              "      <td>0.584987</td>\n",
              "    </tr>\n",
              "    <tr>\n",
              "      <th>457950</th>\n",
              "      <td>id_ffda94f24_127</td>\n",
              "      <td>0.587840</td>\n",
              "      <td>0.656110</td>\n",
              "      <td>0.648602</td>\n",
              "      <td>0.616752</td>\n",
              "      <td>0.612494</td>\n",
              "    </tr>\n",
              "    <tr>\n",
              "      <th>457951</th>\n",
              "      <td>id_ffda94f24_128</td>\n",
              "      <td>0.587840</td>\n",
              "      <td>0.656110</td>\n",
              "      <td>0.648602</td>\n",
              "      <td>0.616752</td>\n",
              "      <td>0.612494</td>\n",
              "    </tr>\n",
              "    <tr>\n",
              "      <th>457952</th>\n",
              "      <td>id_ffda94f24_129</td>\n",
              "      <td>0.395314</td>\n",
              "      <td>0.511207</td>\n",
              "      <td>0.646629</td>\n",
              "      <td>0.543345</td>\n",
              "      <td>0.584987</td>\n",
              "    </tr>\n",
              "  </tbody>\n",
              "</table>\n",
              "<p>457953 rows × 6 columns</p>\n",
              "</div>"
            ],
            "text/plain": [
              "               id_seqpos  reactivity  ...  deg_Mg_50C   deg_50C\n",
              "0         id_00073f8be_0    1.038507  ...    1.278008  1.295117\n",
              "1         id_00073f8be_1    1.038507  ...    1.278008  1.295117\n",
              "2         id_00073f8be_2    0.919017  ...    0.920761  0.895662\n",
              "3         id_00073f8be_3    0.919017  ...    0.920761  0.895662\n",
              "4         id_00073f8be_4    0.919017  ...    0.920761  0.895662\n",
              "...                  ...         ...  ...         ...       ...\n",
              "457948  id_ffda94f24_125    0.587840  ...    0.616752  0.612494\n",
              "457949  id_ffda94f24_126    0.395314  ...    0.543345  0.584987\n",
              "457950  id_ffda94f24_127    0.587840  ...    0.616752  0.612494\n",
              "457951  id_ffda94f24_128    0.587840  ...    0.616752  0.612494\n",
              "457952  id_ffda94f24_129    0.395314  ...    0.543345  0.584987\n",
              "\n",
              "[457953 rows x 6 columns]"
            ]
          },
          "metadata": {
            "tags": []
          },
          "execution_count": 120
        }
      ]
    },
    {
      "cell_type": "code",
      "metadata": {
        "id": "wxnfohmlM_xD"
      },
      "source": [
        "y_pred_dlp.to_csv('mlp_rmse.csv', index=False)\n"
      ],
      "id": "wxnfohmlM_xD",
      "execution_count": null,
      "outputs": []
    },
    {
      "cell_type": "code",
      "metadata": {
        "id": "uRUNVs0NK3P2"
      },
      "source": [
        "shape = X_2.shape[1]"
      ],
      "id": "uRUNVs0NK3P2",
      "execution_count": null,
      "outputs": []
    },
    {
      "cell_type": "code",
      "metadata": {
        "colab": {
          "base_uri": "https://localhost:8080/"
        },
        "id": "GqMurRDDNTPu",
        "outputId": "db915caf-c91b-41a8-eb14-f21071c14c4a"
      },
      "source": [
        "  model_2 = Sequential()\n",
        "  model_2.add(Dense(1000,input_shape = [shape])) \n",
        "  model_2.add(ReLU())\n",
        "  model_2.add(Dropout(0.3))\n",
        "  model_2.add(Dense(500))\n",
        "  model_2.add(ReLU())\n",
        "  model_2.add(Dropout(0.4))\n",
        "  model_2.add(Dense(150))\n",
        "  model_2.add(ReLU())\n",
        "  model_2.add(Dropout(0.4))\n",
        "  model_2.add(Dense(100))\n",
        "  model_2.add(ReLU())\n",
        "  model_2.add(Dropout(0.3))\n",
        "  model_2.add(Dense(50))\n",
        "  model_2.add(ReLU())\n",
        "  model_2.add(Dropout(0.3))\n",
        "  model_2.add(Dense(y.shape[1]))\n",
        "  print(model_2.summary())"
      ],
      "id": "GqMurRDDNTPu",
      "execution_count": null,
      "outputs": [
        {
          "output_type": "stream",
          "text": [
            "Model: \"sequential_1\"\n",
            "_________________________________________________________________\n",
            "Layer (type)                 Output Shape              Param #   \n",
            "=================================================================\n",
            "dense_6 (Dense)              (None, 1000)              23000     \n",
            "_________________________________________________________________\n",
            "re_lu_5 (ReLU)               (None, 1000)              0         \n",
            "_________________________________________________________________\n",
            "dropout_5 (Dropout)          (None, 1000)              0         \n",
            "_________________________________________________________________\n",
            "dense_7 (Dense)              (None, 500)               500500    \n",
            "_________________________________________________________________\n",
            "re_lu_6 (ReLU)               (None, 500)               0         \n",
            "_________________________________________________________________\n",
            "dropout_6 (Dropout)          (None, 500)               0         \n",
            "_________________________________________________________________\n",
            "dense_8 (Dense)              (None, 150)               75150     \n",
            "_________________________________________________________________\n",
            "re_lu_7 (ReLU)               (None, 150)               0         \n",
            "_________________________________________________________________\n",
            "dropout_7 (Dropout)          (None, 150)               0         \n",
            "_________________________________________________________________\n",
            "dense_9 (Dense)              (None, 100)               15100     \n",
            "_________________________________________________________________\n",
            "re_lu_8 (ReLU)               (None, 100)               0         \n",
            "_________________________________________________________________\n",
            "dropout_8 (Dropout)          (None, 100)               0         \n",
            "_________________________________________________________________\n",
            "dense_10 (Dense)             (None, 50)                5050      \n",
            "_________________________________________________________________\n",
            "re_lu_9 (ReLU)               (None, 50)                0         \n",
            "_________________________________________________________________\n",
            "dropout_9 (Dropout)          (None, 50)                0         \n",
            "_________________________________________________________________\n",
            "dense_11 (Dense)             (None, 5)                 255       \n",
            "=================================================================\n",
            "Total params: 619,055\n",
            "Trainable params: 619,055\n",
            "Non-trainable params: 0\n",
            "_________________________________________________________________\n",
            "None\n"
          ],
          "name": "stdout"
        }
      ]
    },
    {
      "cell_type": "code",
      "metadata": {
        "id": "7S1n3otENUVu"
      },
      "source": [
        "model_2.compile(loss=mcrmse,\n",
        "              optimizer=opt)"
      ],
      "id": "7S1n3otENUVu",
      "execution_count": null,
      "outputs": []
    },
    {
      "cell_type": "code",
      "metadata": {
        "colab": {
          "base_uri": "https://localhost:8080/"
        },
        "id": "cOMDSKCFNX9S",
        "outputId": "1e323f3a-9426-44a8-c5bc-cd725ecfdf7b"
      },
      "source": [
        "batch_size = 200\n",
        "epochs = 30\n",
        "hist_MLP_2 = model_2.fit(X_train_2, y_train_2,\n",
        "              batch_size=batch_size,\n",
        "              epochs=epochs,\n",
        "              validation_split=0.3)"
      ],
      "id": "cOMDSKCFNX9S",
      "execution_count": null,
      "outputs": [
        {
          "output_type": "stream",
          "text": [
            "Epoch 1/30\n",
            "303/303 [==============================] - 2s 4ms/step - loss: 0.3565 - val_loss: 0.2913\n",
            "Epoch 2/30\n",
            "303/303 [==============================] - 1s 3ms/step - loss: 0.2949 - val_loss: 0.2835\n",
            "Epoch 3/30\n",
            "303/303 [==============================] - 1s 3ms/step - loss: 0.2916 - val_loss: 0.2847\n",
            "Epoch 4/30\n",
            "303/303 [==============================] - 1s 3ms/step - loss: 0.2924 - val_loss: 0.2860\n",
            "Epoch 5/30\n",
            "303/303 [==============================] - 1s 3ms/step - loss: 0.2882 - val_loss: 0.2821\n",
            "Epoch 6/30\n",
            "303/303 [==============================] - 1s 3ms/step - loss: 0.2884 - val_loss: 0.2826\n",
            "Epoch 7/30\n",
            "303/303 [==============================] - 1s 3ms/step - loss: 0.2868 - val_loss: 0.2805\n",
            "Epoch 8/30\n",
            "303/303 [==============================] - 1s 3ms/step - loss: 0.2892 - val_loss: 0.2808\n",
            "Epoch 9/30\n",
            "303/303 [==============================] - 1s 3ms/step - loss: 0.2872 - val_loss: 0.2813\n",
            "Epoch 10/30\n",
            "303/303 [==============================] - 1s 3ms/step - loss: 0.2858 - val_loss: 0.2795\n",
            "Epoch 11/30\n",
            "303/303 [==============================] - 1s 3ms/step - loss: 0.2857 - val_loss: 0.2803\n",
            "Epoch 12/30\n",
            "303/303 [==============================] - 1s 3ms/step - loss: 0.2836 - val_loss: 0.2819\n",
            "Epoch 13/30\n",
            "303/303 [==============================] - 1s 3ms/step - loss: 0.2860 - val_loss: 0.2791\n",
            "Epoch 14/30\n",
            "303/303 [==============================] - 1s 3ms/step - loss: 0.2823 - val_loss: 0.2789\n",
            "Epoch 15/30\n",
            "303/303 [==============================] - 1s 3ms/step - loss: 0.2824 - val_loss: 0.2787\n",
            "Epoch 16/30\n",
            "303/303 [==============================] - 1s 3ms/step - loss: 0.2830 - val_loss: 0.2780\n",
            "Epoch 17/30\n",
            "303/303 [==============================] - 1s 3ms/step - loss: 0.2837 - val_loss: 0.2781\n",
            "Epoch 18/30\n",
            "303/303 [==============================] - 1s 3ms/step - loss: 0.2838 - val_loss: 0.2777\n",
            "Epoch 19/30\n",
            "303/303 [==============================] - 1s 3ms/step - loss: 0.2833 - val_loss: 0.2780\n",
            "Epoch 20/30\n",
            "303/303 [==============================] - 1s 3ms/step - loss: 0.2830 - val_loss: 0.2772\n",
            "Epoch 21/30\n",
            "303/303 [==============================] - 1s 3ms/step - loss: 0.2802 - val_loss: 0.2771\n",
            "Epoch 22/30\n",
            "303/303 [==============================] - 1s 3ms/step - loss: 0.2826 - val_loss: 0.2771\n",
            "Epoch 23/30\n",
            "303/303 [==============================] - 1s 3ms/step - loss: 0.2817 - val_loss: 0.2782\n",
            "Epoch 24/30\n",
            "303/303 [==============================] - 1s 3ms/step - loss: 0.2830 - val_loss: 0.2763\n",
            "Epoch 25/30\n",
            "303/303 [==============================] - 1s 3ms/step - loss: 0.2822 - val_loss: 0.2763\n",
            "Epoch 26/30\n",
            "303/303 [==============================] - 1s 3ms/step - loss: 0.2819 - val_loss: 0.2759\n",
            "Epoch 27/30\n",
            "303/303 [==============================] - 1s 3ms/step - loss: 0.2802 - val_loss: 0.2770\n",
            "Epoch 28/30\n",
            "303/303 [==============================] - 1s 3ms/step - loss: 0.2824 - val_loss: 0.2762\n",
            "Epoch 29/30\n",
            "303/303 [==============================] - 1s 3ms/step - loss: 0.2815 - val_loss: 0.2760\n",
            "Epoch 30/30\n",
            "303/303 [==============================] - 1s 3ms/step - loss: 0.2827 - val_loss: 0.2768\n"
          ],
          "name": "stdout"
        }
      ]
    },
    {
      "cell_type": "code",
      "metadata": {
        "id": "VkTewg6eNfJp"
      },
      "source": [
        "y_sub_2 = model_2.predict(test.loc[:, features_2])\n",
        "y_pred_MLP_loss2 = pd.DataFrame(y_sub_2, columns= ['reactivity', \n",
        "            'deg_Mg_pH10', 'deg_pH10', 'deg_Mg_50C', 'deg_50C'])\n",
        "\n",
        "y_pred_MLP_loss2.insert(0, \"id_seqpos\", test_sub['id'], True) "
      ],
      "id": "VkTewg6eNfJp",
      "execution_count": null,
      "outputs": []
    },
    {
      "cell_type": "code",
      "metadata": {
        "colab": {
          "base_uri": "https://localhost:8080/",
          "height": 204
        },
        "id": "J832Tx1elPTY",
        "outputId": "b305ad82-803b-4811-8988-d978d65126e1"
      },
      "source": [
        "y_pred_MLP_loss2.head()"
      ],
      "id": "J832Tx1elPTY",
      "execution_count": null,
      "outputs": [
        {
          "output_type": "execute_result",
          "data": {
            "text/html": [
              "<div>\n",
              "<style scoped>\n",
              "    .dataframe tbody tr th:only-of-type {\n",
              "        vertical-align: middle;\n",
              "    }\n",
              "\n",
              "    .dataframe tbody tr th {\n",
              "        vertical-align: top;\n",
              "    }\n",
              "\n",
              "    .dataframe thead th {\n",
              "        text-align: right;\n",
              "    }\n",
              "</style>\n",
              "<table border=\"1\" class=\"dataframe\">\n",
              "  <thead>\n",
              "    <tr style=\"text-align: right;\">\n",
              "      <th></th>\n",
              "      <th>id_seqpos</th>\n",
              "      <th>reactivity</th>\n",
              "      <th>deg_Mg_pH10</th>\n",
              "      <th>deg_pH10</th>\n",
              "      <th>deg_Mg_50C</th>\n",
              "      <th>deg_50C</th>\n",
              "    </tr>\n",
              "  </thead>\n",
              "  <tbody>\n",
              "    <tr>\n",
              "      <th>0</th>\n",
              "      <td>id_00073f8be_0</td>\n",
              "      <td>0.801734</td>\n",
              "      <td>0.987918</td>\n",
              "      <td>2.022599</td>\n",
              "      <td>0.896386</td>\n",
              "      <td>0.959258</td>\n",
              "    </tr>\n",
              "    <tr>\n",
              "      <th>1</th>\n",
              "      <td>id_00073f8be_1</td>\n",
              "      <td>0.801734</td>\n",
              "      <td>0.987918</td>\n",
              "      <td>2.022599</td>\n",
              "      <td>0.896386</td>\n",
              "      <td>0.959258</td>\n",
              "    </tr>\n",
              "    <tr>\n",
              "      <th>2</th>\n",
              "      <td>id_00073f8be_2</td>\n",
              "      <td>0.841243</td>\n",
              "      <td>0.691480</td>\n",
              "      <td>0.761884</td>\n",
              "      <td>0.840403</td>\n",
              "      <td>0.820002</td>\n",
              "    </tr>\n",
              "    <tr>\n",
              "      <th>3</th>\n",
              "      <td>id_00073f8be_3</td>\n",
              "      <td>0.841243</td>\n",
              "      <td>0.691480</td>\n",
              "      <td>0.761884</td>\n",
              "      <td>0.840403</td>\n",
              "      <td>0.820002</td>\n",
              "    </tr>\n",
              "    <tr>\n",
              "      <th>4</th>\n",
              "      <td>id_00073f8be_4</td>\n",
              "      <td>0.841243</td>\n",
              "      <td>0.691480</td>\n",
              "      <td>0.761884</td>\n",
              "      <td>0.840403</td>\n",
              "      <td>0.820002</td>\n",
              "    </tr>\n",
              "  </tbody>\n",
              "</table>\n",
              "</div>"
            ],
            "text/plain": [
              "        id_seqpos  reactivity  deg_Mg_pH10  deg_pH10  deg_Mg_50C   deg_50C\n",
              "0  id_00073f8be_0    0.801734     0.987918  2.022599    0.896386  0.959258\n",
              "1  id_00073f8be_1    0.801734     0.987918  2.022599    0.896386  0.959258\n",
              "2  id_00073f8be_2    0.841243     0.691480  0.761884    0.840403  0.820002\n",
              "3  id_00073f8be_3    0.841243     0.691480  0.761884    0.840403  0.820002\n",
              "4  id_00073f8be_4    0.841243     0.691480  0.761884    0.840403  0.820002"
            ]
          },
          "metadata": {
            "tags": []
          },
          "execution_count": 91
        }
      ]
    },
    {
      "cell_type": "code",
      "metadata": {
        "id": "_p0kHTsXQjmJ"
      },
      "source": [
        "y_pred_MLP_loss2.to_csv('mlp_mcrmse.csv', index=False)\n"
      ],
      "id": "_p0kHTsXQjmJ",
      "execution_count": null,
      "outputs": []
    },
    {
      "cell_type": "code",
      "metadata": {
        "id": "TQaVBkIrQqEW"
      },
      "source": [
        "def evaluate(model, test_features, test_y):\n",
        "    predictions = model.predict(test_features)\n",
        "    mcrmsc = utility_fct.mcrmsc_yannick(test_y, predictions)[0]\n",
        "    print('MCRMSC: {:0.4f}.'.format(mcrmsc))\n",
        "    \n",
        "    return mcrmsc"
      ],
      "id": "TQaVBkIrQqEW",
      "execution_count": null,
      "outputs": []
    },
    {
      "cell_type": "code",
      "metadata": {
        "id": "j7It8aCN4Nxd",
        "colab": {
          "base_uri": "https://localhost:8080/"
        },
        "outputId": "87f09f3e-f4a6-401e-97e9-881929053066"
      },
      "source": [
        "model_3 = Sequential()\n",
        "model_3.add(Dense(1000,input_shape = [shape]))\n",
        "model_3.add(ReLU())\n",
        "model_3.add(Dropout(0.3))\n",
        "model_3.add(Dense(500))\n",
        "model_3.add(ReLU())\n",
        "model_3.add(Dropout(0.3))\n",
        "model_3.add(Dense(150))\n",
        "model_3.add(ReLU())\n",
        "model_3.add(Dropout(0.3))\n",
        "model_3.add(Dense(100))\n",
        "model_3.add(ReLU())\n",
        "model_3.add(Dropout(0.3))\n",
        "model_3.add(Dense(50))\n",
        "model_3.add(ReLU())\n",
        "model_3.add(Dropout(0.3))\n",
        "model_3.add(Dense(y.shape[1]))\n",
        "print(model_3.summary())"
      ],
      "id": "j7It8aCN4Nxd",
      "execution_count": null,
      "outputs": [
        {
          "output_type": "stream",
          "text": [
            "Model: \"sequential_2\"\n",
            "_________________________________________________________________\n",
            "Layer (type)                 Output Shape              Param #   \n",
            "=================================================================\n",
            "dense_12 (Dense)             (None, 1000)              23000     \n",
            "_________________________________________________________________\n",
            "re_lu_10 (ReLU)              (None, 1000)              0         \n",
            "_________________________________________________________________\n",
            "dropout_10 (Dropout)         (None, 1000)              0         \n",
            "_________________________________________________________________\n",
            "dense_13 (Dense)             (None, 500)               500500    \n",
            "_________________________________________________________________\n",
            "re_lu_11 (ReLU)              (None, 500)               0         \n",
            "_________________________________________________________________\n",
            "dropout_11 (Dropout)         (None, 500)               0         \n",
            "_________________________________________________________________\n",
            "dense_14 (Dense)             (None, 150)               75150     \n",
            "_________________________________________________________________\n",
            "re_lu_12 (ReLU)              (None, 150)               0         \n",
            "_________________________________________________________________\n",
            "dropout_12 (Dropout)         (None, 150)               0         \n",
            "_________________________________________________________________\n",
            "dense_15 (Dense)             (None, 100)               15100     \n",
            "_________________________________________________________________\n",
            "re_lu_13 (ReLU)              (None, 100)               0         \n",
            "_________________________________________________________________\n",
            "dropout_13 (Dropout)         (None, 100)               0         \n",
            "_________________________________________________________________\n",
            "dense_16 (Dense)             (None, 50)                5050      \n",
            "_________________________________________________________________\n",
            "re_lu_14 (ReLU)              (None, 50)                0         \n",
            "_________________________________________________________________\n",
            "dropout_14 (Dropout)         (None, 50)                0         \n",
            "_________________________________________________________________\n",
            "dense_17 (Dense)             (None, 5)                 255       \n",
            "=================================================================\n",
            "Total params: 619,055\n",
            "Trainable params: 619,055\n",
            "Non-trainable params: 0\n",
            "_________________________________________________________________\n",
            "None\n"
          ],
          "name": "stdout"
        }
      ]
    },
    {
      "cell_type": "code",
      "metadata": {
        "id": "DgMUIn3BT_vH"
      },
      "source": [
        "model_3.compile(loss=tf.keras.losses.MeanSquaredError(),\n",
        "              optimizer=opt)"
      ],
      "id": "DgMUIn3BT_vH",
      "execution_count": null,
      "outputs": []
    },
    {
      "cell_type": "code",
      "metadata": {
        "colab": {
          "base_uri": "https://localhost:8080/"
        },
        "id": "uIYpidQQUX8i",
        "outputId": "672a80ab-db12-4d28-a2bc-d353bac4d456"
      },
      "source": [
        "batch_size = 200\n",
        "epochs = 30\n",
        "hist_MLP_3 = model_3.fit(X_train_2, y_train_2,\n",
        "              batch_size=batch_size,\n",
        "              epochs=epochs,\n",
        "              validation_split=0.3)"
      ],
      "id": "uIYpidQQUX8i",
      "execution_count": null,
      "outputs": [
        {
          "output_type": "stream",
          "text": [
            "Epoch 1/30\n",
            "303/303 [==============================] - 2s 4ms/step - loss: 0.3015 - val_loss: 0.1630\n",
            "Epoch 2/30\n",
            "303/303 [==============================] - 1s 3ms/step - loss: 0.1720 - val_loss: 0.1655\n",
            "Epoch 3/30\n",
            "303/303 [==============================] - 1s 3ms/step - loss: 0.1715 - val_loss: 0.1645\n",
            "Epoch 4/30\n",
            "303/303 [==============================] - 1s 3ms/step - loss: 0.1701 - val_loss: 0.1593\n",
            "Epoch 5/30\n",
            "303/303 [==============================] - 1s 3ms/step - loss: 0.1663 - val_loss: 0.1591\n",
            "Epoch 6/30\n",
            "303/303 [==============================] - 1s 3ms/step - loss: 0.1653 - val_loss: 0.1628\n",
            "Epoch 7/30\n",
            "303/303 [==============================] - 1s 3ms/step - loss: 0.1652 - val_loss: 0.1580\n",
            "Epoch 8/30\n",
            "303/303 [==============================] - 1s 3ms/step - loss: 0.1611 - val_loss: 0.1581\n",
            "Epoch 9/30\n",
            "303/303 [==============================] - 1s 3ms/step - loss: 0.1637 - val_loss: 0.1586\n",
            "Epoch 10/30\n",
            "303/303 [==============================] - 1s 3ms/step - loss: 0.1656 - val_loss: 0.1609\n",
            "Epoch 11/30\n",
            "303/303 [==============================] - 1s 3ms/step - loss: 0.1621 - val_loss: 0.1572\n",
            "Epoch 12/30\n",
            "303/303 [==============================] - 1s 3ms/step - loss: 0.1642 - val_loss: 0.1569\n",
            "Epoch 13/30\n",
            "303/303 [==============================] - 1s 3ms/step - loss: 0.1582 - val_loss: 0.1568\n",
            "Epoch 14/30\n",
            "303/303 [==============================] - 1s 3ms/step - loss: 0.1648 - val_loss: 0.1579\n",
            "Epoch 15/30\n",
            "303/303 [==============================] - 1s 3ms/step - loss: 0.1607 - val_loss: 0.1588\n",
            "Epoch 16/30\n",
            "303/303 [==============================] - 1s 3ms/step - loss: 0.1609 - val_loss: 0.1555\n",
            "Epoch 17/30\n",
            "303/303 [==============================] - 1s 3ms/step - loss: 0.1584 - val_loss: 0.1560\n",
            "Epoch 18/30\n",
            "303/303 [==============================] - 1s 3ms/step - loss: 0.1561 - val_loss: 0.1559\n",
            "Epoch 19/30\n",
            "303/303 [==============================] - 1s 3ms/step - loss: 0.1596 - val_loss: 0.1559\n",
            "Epoch 20/30\n",
            "303/303 [==============================] - 1s 3ms/step - loss: 0.1580 - val_loss: 0.1558\n",
            "Epoch 21/30\n",
            "303/303 [==============================] - 1s 3ms/step - loss: 0.1595 - val_loss: 0.1547\n",
            "Epoch 22/30\n",
            "303/303 [==============================] - 1s 3ms/step - loss: 0.1599 - val_loss: 0.1541\n",
            "Epoch 23/30\n",
            "303/303 [==============================] - 1s 3ms/step - loss: 0.1594 - val_loss: 0.1541\n",
            "Epoch 24/30\n",
            "303/303 [==============================] - 1s 3ms/step - loss: 0.1592 - val_loss: 0.1555\n",
            "Epoch 25/30\n",
            "303/303 [==============================] - 1s 3ms/step - loss: 0.1582 - val_loss: 0.1542\n",
            "Epoch 26/30\n",
            "303/303 [==============================] - 1s 3ms/step - loss: 0.1611 - val_loss: 0.1561\n",
            "Epoch 27/30\n",
            "303/303 [==============================] - 1s 3ms/step - loss: 0.1600 - val_loss: 0.1542\n",
            "Epoch 28/30\n",
            "303/303 [==============================] - 1s 3ms/step - loss: 0.1600 - val_loss: 0.1537\n",
            "Epoch 29/30\n",
            "303/303 [==============================] - 1s 3ms/step - loss: 0.1571 - val_loss: 0.1545\n",
            "Epoch 30/30\n",
            "303/303 [==============================] - 1s 3ms/step - loss: 0.1593 - val_loss: 0.1538\n"
          ],
          "name": "stdout"
        }
      ]
    },
    {
      "cell_type": "code",
      "metadata": {
        "id": "7Z7Es5hnU14C"
      },
      "source": [
        "y_sub_3 = model_3.predict(test.loc[:, features_2])\n",
        "y_pred_MLP_loss3 = pd.DataFrame(y_sub_3, columns= ['reactivity', \n",
        "            'deg_Mg_pH10', 'deg_pH10', 'deg_Mg_50C', 'deg_50C'])\n",
        "\n",
        "y_pred_MLP_loss3.insert(0, \"id_seqpos\", test_sub['id'], True) "
      ],
      "id": "7Z7Es5hnU14C",
      "execution_count": null,
      "outputs": []
    },
    {
      "cell_type": "code",
      "metadata": {
        "id": "ZeDY0U-cU60z"
      },
      "source": [
        "y_pred_MLP_loss3.to_csv('mlp_mse.csv', index=False)"
      ],
      "id": "ZeDY0U-cU60z",
      "execution_count": null,
      "outputs": []
    },
    {
      "cell_type": "markdown",
      "metadata": {
        "id": "U-0aPaPHZG_X"
      },
      "source": [
        ""
      ],
      "id": "U-0aPaPHZG_X"
    },
    {
      "cell_type": "code",
      "metadata": {
        "colab": {
          "base_uri": "https://localhost:8080/",
          "height": 715
        },
        "id": "Y95bLqWBU93f",
        "outputId": "c313bae4-9c6b-4fda-a30e-583c6b41adf3"
      },
      "source": [
        "loss_mse = evaluate(model_3, X_test_2, y_test_2)\n",
        "loss_mcrmse = evaluate(model_2, X_test_2, y_test_2)\n",
        "loss_rmse = evaluate(model, X_test_2, y_test_2)"
      ],
      "id": "Y95bLqWBU93f",
      "execution_count": null,
      "outputs": [
        {
          "output_type": "error",
          "ename": "ValueError",
          "evalue": "ignored",
          "traceback": [
            "\u001b[0;31m---------------------------------------------------------------------------\u001b[0m",
            "\u001b[0;31mValueError\u001b[0m                                Traceback (most recent call last)",
            "\u001b[0;32m<ipython-input-122-89bfeb72a132>\u001b[0m in \u001b[0;36m<module>\u001b[0;34m()\u001b[0m\n\u001b[0;32m----> 1\u001b[0;31m \u001b[0mloss_mse\u001b[0m \u001b[0;34m=\u001b[0m \u001b[0mevaluate\u001b[0m\u001b[0;34m(\u001b[0m\u001b[0mmodel_3\u001b[0m\u001b[0;34m,\u001b[0m \u001b[0mX_test_2\u001b[0m\u001b[0;34m,\u001b[0m \u001b[0my_test_2\u001b[0m\u001b[0;34m)\u001b[0m\u001b[0;34m\u001b[0m\u001b[0;34m\u001b[0m\u001b[0m\n\u001b[0m\u001b[1;32m      2\u001b[0m \u001b[0mloss_mcrmse\u001b[0m \u001b[0;34m=\u001b[0m \u001b[0mevaluate\u001b[0m\u001b[0;34m(\u001b[0m\u001b[0mmodel_2\u001b[0m\u001b[0;34m,\u001b[0m \u001b[0mX_test_2\u001b[0m\u001b[0;34m,\u001b[0m \u001b[0my_test_2\u001b[0m\u001b[0;34m)\u001b[0m\u001b[0;34m\u001b[0m\u001b[0;34m\u001b[0m\u001b[0m\n\u001b[1;32m      3\u001b[0m \u001b[0mloss_rmse\u001b[0m \u001b[0;34m=\u001b[0m \u001b[0mevaluate\u001b[0m\u001b[0;34m(\u001b[0m\u001b[0mmodel\u001b[0m\u001b[0;34m,\u001b[0m \u001b[0mX_test_2\u001b[0m\u001b[0;34m,\u001b[0m \u001b[0my_test_2\u001b[0m\u001b[0;34m)\u001b[0m\u001b[0;34m\u001b[0m\u001b[0;34m\u001b[0m\u001b[0m\n",
            "\u001b[0;32m<ipython-input-93-54dadeb506af>\u001b[0m in \u001b[0;36mevaluate\u001b[0;34m(model, test_features, test_y)\u001b[0m\n\u001b[1;32m      1\u001b[0m \u001b[0;32mdef\u001b[0m \u001b[0mevaluate\u001b[0m\u001b[0;34m(\u001b[0m\u001b[0mmodel\u001b[0m\u001b[0;34m,\u001b[0m \u001b[0mtest_features\u001b[0m\u001b[0;34m,\u001b[0m \u001b[0mtest_y\u001b[0m\u001b[0;34m)\u001b[0m\u001b[0;34m:\u001b[0m\u001b[0;34m\u001b[0m\u001b[0;34m\u001b[0m\u001b[0m\n\u001b[0;32m----> 2\u001b[0;31m     \u001b[0mpredictions\u001b[0m \u001b[0;34m=\u001b[0m \u001b[0mmodel\u001b[0m\u001b[0;34m.\u001b[0m\u001b[0mpredict\u001b[0m\u001b[0;34m(\u001b[0m\u001b[0mtest_features\u001b[0m\u001b[0;34m)\u001b[0m\u001b[0;34m\u001b[0m\u001b[0;34m\u001b[0m\u001b[0m\n\u001b[0m\u001b[1;32m      3\u001b[0m     \u001b[0mmcrmsc\u001b[0m \u001b[0;34m=\u001b[0m \u001b[0mutility_fct\u001b[0m\u001b[0;34m.\u001b[0m\u001b[0mmcrmsc_yannick\u001b[0m\u001b[0;34m(\u001b[0m\u001b[0mtest_y\u001b[0m\u001b[0;34m,\u001b[0m \u001b[0mpredictions\u001b[0m\u001b[0;34m)\u001b[0m\u001b[0;34m[\u001b[0m\u001b[0;36m0\u001b[0m\u001b[0;34m]\u001b[0m\u001b[0;34m\u001b[0m\u001b[0;34m\u001b[0m\u001b[0m\n\u001b[1;32m      4\u001b[0m     \u001b[0mprint\u001b[0m\u001b[0;34m(\u001b[0m\u001b[0;34m'MCRMSC: {:0.4f}.'\u001b[0m\u001b[0;34m.\u001b[0m\u001b[0mformat\u001b[0m\u001b[0;34m(\u001b[0m\u001b[0mmcrmsc\u001b[0m\u001b[0;34m)\u001b[0m\u001b[0;34m)\u001b[0m\u001b[0;34m\u001b[0m\u001b[0;34m\u001b[0m\u001b[0m\n\u001b[1;32m      5\u001b[0m \u001b[0;34m\u001b[0m\u001b[0m\n",
            "\u001b[0;32m/usr/local/lib/python3.7/dist-packages/tensorflow/python/keras/engine/training.py\u001b[0m in \u001b[0;36mpredict\u001b[0;34m(self, x, batch_size, verbose, steps, callbacks, max_queue_size, workers, use_multiprocessing)\u001b[0m\n\u001b[1;32m   1627\u001b[0m           \u001b[0;32mfor\u001b[0m \u001b[0mstep\u001b[0m \u001b[0;32min\u001b[0m \u001b[0mdata_handler\u001b[0m\u001b[0;34m.\u001b[0m\u001b[0msteps\u001b[0m\u001b[0;34m(\u001b[0m\u001b[0;34m)\u001b[0m\u001b[0;34m:\u001b[0m\u001b[0;34m\u001b[0m\u001b[0;34m\u001b[0m\u001b[0m\n\u001b[1;32m   1628\u001b[0m             \u001b[0mcallbacks\u001b[0m\u001b[0;34m.\u001b[0m\u001b[0mon_predict_batch_begin\u001b[0m\u001b[0;34m(\u001b[0m\u001b[0mstep\u001b[0m\u001b[0;34m)\u001b[0m\u001b[0;34m\u001b[0m\u001b[0;34m\u001b[0m\u001b[0m\n\u001b[0;32m-> 1629\u001b[0;31m             \u001b[0mtmp_batch_outputs\u001b[0m \u001b[0;34m=\u001b[0m \u001b[0mself\u001b[0m\u001b[0;34m.\u001b[0m\u001b[0mpredict_function\u001b[0m\u001b[0;34m(\u001b[0m\u001b[0miterator\u001b[0m\u001b[0;34m)\u001b[0m\u001b[0;34m\u001b[0m\u001b[0;34m\u001b[0m\u001b[0m\n\u001b[0m\u001b[1;32m   1630\u001b[0m             \u001b[0;32mif\u001b[0m \u001b[0mdata_handler\u001b[0m\u001b[0;34m.\u001b[0m\u001b[0mshould_sync\u001b[0m\u001b[0;34m:\u001b[0m\u001b[0;34m\u001b[0m\u001b[0;34m\u001b[0m\u001b[0m\n\u001b[1;32m   1631\u001b[0m               \u001b[0mcontext\u001b[0m\u001b[0;34m.\u001b[0m\u001b[0masync_wait\u001b[0m\u001b[0;34m(\u001b[0m\u001b[0;34m)\u001b[0m\u001b[0;34m\u001b[0m\u001b[0;34m\u001b[0m\u001b[0m\n",
            "\u001b[0;32m/usr/local/lib/python3.7/dist-packages/tensorflow/python/eager/def_function.py\u001b[0m in \u001b[0;36m__call__\u001b[0;34m(self, *args, **kwds)\u001b[0m\n\u001b[1;32m    826\u001b[0m     \u001b[0mtracing_count\u001b[0m \u001b[0;34m=\u001b[0m \u001b[0mself\u001b[0m\u001b[0;34m.\u001b[0m\u001b[0mexperimental_get_tracing_count\u001b[0m\u001b[0;34m(\u001b[0m\u001b[0;34m)\u001b[0m\u001b[0;34m\u001b[0m\u001b[0;34m\u001b[0m\u001b[0m\n\u001b[1;32m    827\u001b[0m     \u001b[0;32mwith\u001b[0m \u001b[0mtrace\u001b[0m\u001b[0;34m.\u001b[0m\u001b[0mTrace\u001b[0m\u001b[0;34m(\u001b[0m\u001b[0mself\u001b[0m\u001b[0;34m.\u001b[0m\u001b[0m_name\u001b[0m\u001b[0;34m)\u001b[0m \u001b[0;32mas\u001b[0m \u001b[0mtm\u001b[0m\u001b[0;34m:\u001b[0m\u001b[0;34m\u001b[0m\u001b[0;34m\u001b[0m\u001b[0m\n\u001b[0;32m--> 828\u001b[0;31m       \u001b[0mresult\u001b[0m \u001b[0;34m=\u001b[0m \u001b[0mself\u001b[0m\u001b[0;34m.\u001b[0m\u001b[0m_call\u001b[0m\u001b[0;34m(\u001b[0m\u001b[0;34m*\u001b[0m\u001b[0margs\u001b[0m\u001b[0;34m,\u001b[0m \u001b[0;34m**\u001b[0m\u001b[0mkwds\u001b[0m\u001b[0;34m)\u001b[0m\u001b[0;34m\u001b[0m\u001b[0;34m\u001b[0m\u001b[0m\n\u001b[0m\u001b[1;32m    829\u001b[0m       \u001b[0mcompiler\u001b[0m \u001b[0;34m=\u001b[0m \u001b[0;34m\"xla\"\u001b[0m \u001b[0;32mif\u001b[0m \u001b[0mself\u001b[0m\u001b[0;34m.\u001b[0m\u001b[0m_experimental_compile\u001b[0m \u001b[0;32melse\u001b[0m \u001b[0;34m\"nonXla\"\u001b[0m\u001b[0;34m\u001b[0m\u001b[0;34m\u001b[0m\u001b[0m\n\u001b[1;32m    830\u001b[0m       \u001b[0mnew_tracing_count\u001b[0m \u001b[0;34m=\u001b[0m \u001b[0mself\u001b[0m\u001b[0;34m.\u001b[0m\u001b[0mexperimental_get_tracing_count\u001b[0m\u001b[0;34m(\u001b[0m\u001b[0;34m)\u001b[0m\u001b[0;34m\u001b[0m\u001b[0;34m\u001b[0m\u001b[0m\n",
            "\u001b[0;32m/usr/local/lib/python3.7/dist-packages/tensorflow/python/eager/def_function.py\u001b[0m in \u001b[0;36m_call\u001b[0;34m(self, *args, **kwds)\u001b[0m\n\u001b[1;32m    860\u001b[0m       \u001b[0;31m# In this case we have not created variables on the first call. So we can\u001b[0m\u001b[0;34m\u001b[0m\u001b[0;34m\u001b[0m\u001b[0;34m\u001b[0m\u001b[0m\n\u001b[1;32m    861\u001b[0m       \u001b[0;31m# run the first trace but we should fail if variables are created.\u001b[0m\u001b[0;34m\u001b[0m\u001b[0;34m\u001b[0m\u001b[0;34m\u001b[0m\u001b[0m\n\u001b[0;32m--> 862\u001b[0;31m       \u001b[0mresults\u001b[0m \u001b[0;34m=\u001b[0m \u001b[0mself\u001b[0m\u001b[0;34m.\u001b[0m\u001b[0m_stateful_fn\u001b[0m\u001b[0;34m(\u001b[0m\u001b[0;34m*\u001b[0m\u001b[0margs\u001b[0m\u001b[0;34m,\u001b[0m \u001b[0;34m**\u001b[0m\u001b[0mkwds\u001b[0m\u001b[0;34m)\u001b[0m\u001b[0;34m\u001b[0m\u001b[0;34m\u001b[0m\u001b[0m\n\u001b[0m\u001b[1;32m    863\u001b[0m       \u001b[0;32mif\u001b[0m \u001b[0mself\u001b[0m\u001b[0;34m.\u001b[0m\u001b[0m_created_variables\u001b[0m\u001b[0;34m:\u001b[0m\u001b[0;34m\u001b[0m\u001b[0;34m\u001b[0m\u001b[0m\n\u001b[1;32m    864\u001b[0m         raise ValueError(\"Creating variables on a non-first call to a function\"\n",
            "\u001b[0;32m/usr/local/lib/python3.7/dist-packages/tensorflow/python/eager/function.py\u001b[0m in \u001b[0;36m__call__\u001b[0;34m(self, *args, **kwargs)\u001b[0m\n\u001b[1;32m   2939\u001b[0m     \u001b[0;32mwith\u001b[0m \u001b[0mself\u001b[0m\u001b[0;34m.\u001b[0m\u001b[0m_lock\u001b[0m\u001b[0;34m:\u001b[0m\u001b[0;34m\u001b[0m\u001b[0;34m\u001b[0m\u001b[0m\n\u001b[1;32m   2940\u001b[0m       (graph_function,\n\u001b[0;32m-> 2941\u001b[0;31m        filtered_flat_args) = self._maybe_define_function(args, kwargs)\n\u001b[0m\u001b[1;32m   2942\u001b[0m     return graph_function._call_flat(\n\u001b[1;32m   2943\u001b[0m         filtered_flat_args, captured_inputs=graph_function.captured_inputs)  # pylint: disable=protected-access\n",
            "\u001b[0;32m/usr/local/lib/python3.7/dist-packages/tensorflow/python/eager/function.py\u001b[0m in \u001b[0;36m_maybe_define_function\u001b[0;34m(self, args, kwargs)\u001b[0m\n\u001b[1;32m   3356\u001b[0m               call_context_key in self._function_cache.missed):\n\u001b[1;32m   3357\u001b[0m             return self._define_function_with_shape_relaxation(\n\u001b[0;32m-> 3358\u001b[0;31m                 args, kwargs, flat_args, filtered_flat_args, cache_key_context)\n\u001b[0m\u001b[1;32m   3359\u001b[0m \u001b[0;34m\u001b[0m\u001b[0m\n\u001b[1;32m   3360\u001b[0m           \u001b[0mself\u001b[0m\u001b[0;34m.\u001b[0m\u001b[0m_function_cache\u001b[0m\u001b[0;34m.\u001b[0m\u001b[0mmissed\u001b[0m\u001b[0;34m.\u001b[0m\u001b[0madd\u001b[0m\u001b[0;34m(\u001b[0m\u001b[0mcall_context_key\u001b[0m\u001b[0;34m)\u001b[0m\u001b[0;34m\u001b[0m\u001b[0;34m\u001b[0m\u001b[0m\n",
            "\u001b[0;32m/usr/local/lib/python3.7/dist-packages/tensorflow/python/eager/function.py\u001b[0m in \u001b[0;36m_define_function_with_shape_relaxation\u001b[0;34m(self, args, kwargs, flat_args, filtered_flat_args, cache_key_context)\u001b[0m\n\u001b[1;32m   3278\u001b[0m \u001b[0;34m\u001b[0m\u001b[0m\n\u001b[1;32m   3279\u001b[0m     graph_function = self._create_graph_function(\n\u001b[0;32m-> 3280\u001b[0;31m         args, kwargs, override_flat_arg_shapes=relaxed_arg_shapes)\n\u001b[0m\u001b[1;32m   3281\u001b[0m     \u001b[0mself\u001b[0m\u001b[0;34m.\u001b[0m\u001b[0m_function_cache\u001b[0m\u001b[0;34m.\u001b[0m\u001b[0marg_relaxed\u001b[0m\u001b[0;34m[\u001b[0m\u001b[0mrank_only_cache_key\u001b[0m\u001b[0;34m]\u001b[0m \u001b[0;34m=\u001b[0m \u001b[0mgraph_function\u001b[0m\u001b[0;34m\u001b[0m\u001b[0;34m\u001b[0m\u001b[0m\n\u001b[1;32m   3282\u001b[0m \u001b[0;34m\u001b[0m\u001b[0m\n",
            "\u001b[0;32m/usr/local/lib/python3.7/dist-packages/tensorflow/python/eager/function.py\u001b[0m in \u001b[0;36m_create_graph_function\u001b[0;34m(self, args, kwargs, override_flat_arg_shapes)\u001b[0m\n\u001b[1;32m   3204\u001b[0m             \u001b[0marg_names\u001b[0m\u001b[0;34m=\u001b[0m\u001b[0marg_names\u001b[0m\u001b[0;34m,\u001b[0m\u001b[0;34m\u001b[0m\u001b[0;34m\u001b[0m\u001b[0m\n\u001b[1;32m   3205\u001b[0m             \u001b[0moverride_flat_arg_shapes\u001b[0m\u001b[0;34m=\u001b[0m\u001b[0moverride_flat_arg_shapes\u001b[0m\u001b[0;34m,\u001b[0m\u001b[0;34m\u001b[0m\u001b[0;34m\u001b[0m\u001b[0m\n\u001b[0;32m-> 3206\u001b[0;31m             capture_by_value=self._capture_by_value),\n\u001b[0m\u001b[1;32m   3207\u001b[0m         \u001b[0mself\u001b[0m\u001b[0;34m.\u001b[0m\u001b[0m_function_attributes\u001b[0m\u001b[0;34m,\u001b[0m\u001b[0;34m\u001b[0m\u001b[0;34m\u001b[0m\u001b[0m\n\u001b[1;32m   3208\u001b[0m         \u001b[0mfunction_spec\u001b[0m\u001b[0;34m=\u001b[0m\u001b[0mself\u001b[0m\u001b[0;34m.\u001b[0m\u001b[0mfunction_spec\u001b[0m\u001b[0;34m,\u001b[0m\u001b[0;34m\u001b[0m\u001b[0;34m\u001b[0m\u001b[0m\n",
            "\u001b[0;32m/usr/local/lib/python3.7/dist-packages/tensorflow/python/framework/func_graph.py\u001b[0m in \u001b[0;36mfunc_graph_from_py_func\u001b[0;34m(name, python_func, args, kwargs, signature, func_graph, autograph, autograph_options, add_control_dependencies, arg_names, op_return_value, collections, capture_by_value, override_flat_arg_shapes)\u001b[0m\n\u001b[1;32m    988\u001b[0m         \u001b[0m_\u001b[0m\u001b[0;34m,\u001b[0m \u001b[0moriginal_func\u001b[0m \u001b[0;34m=\u001b[0m \u001b[0mtf_decorator\u001b[0m\u001b[0;34m.\u001b[0m\u001b[0munwrap\u001b[0m\u001b[0;34m(\u001b[0m\u001b[0mpython_func\u001b[0m\u001b[0;34m)\u001b[0m\u001b[0;34m\u001b[0m\u001b[0;34m\u001b[0m\u001b[0m\n\u001b[1;32m    989\u001b[0m \u001b[0;34m\u001b[0m\u001b[0m\n\u001b[0;32m--> 990\u001b[0;31m       \u001b[0mfunc_outputs\u001b[0m \u001b[0;34m=\u001b[0m \u001b[0mpython_func\u001b[0m\u001b[0;34m(\u001b[0m\u001b[0;34m*\u001b[0m\u001b[0mfunc_args\u001b[0m\u001b[0;34m,\u001b[0m \u001b[0;34m**\u001b[0m\u001b[0mfunc_kwargs\u001b[0m\u001b[0;34m)\u001b[0m\u001b[0;34m\u001b[0m\u001b[0;34m\u001b[0m\u001b[0m\n\u001b[0m\u001b[1;32m    991\u001b[0m \u001b[0;34m\u001b[0m\u001b[0m\n\u001b[1;32m    992\u001b[0m       \u001b[0;31m# invariant: `func_outputs` contains only Tensors, CompositeTensors,\u001b[0m\u001b[0;34m\u001b[0m\u001b[0;34m\u001b[0m\u001b[0;34m\u001b[0m\u001b[0m\n",
            "\u001b[0;32m/usr/local/lib/python3.7/dist-packages/tensorflow/python/eager/def_function.py\u001b[0m in \u001b[0;36mwrapped_fn\u001b[0;34m(*args, **kwds)\u001b[0m\n\u001b[1;32m    632\u001b[0m             \u001b[0mxla_context\u001b[0m\u001b[0;34m.\u001b[0m\u001b[0mExit\u001b[0m\u001b[0;34m(\u001b[0m\u001b[0;34m)\u001b[0m\u001b[0;34m\u001b[0m\u001b[0;34m\u001b[0m\u001b[0m\n\u001b[1;32m    633\u001b[0m         \u001b[0;32melse\u001b[0m\u001b[0;34m:\u001b[0m\u001b[0;34m\u001b[0m\u001b[0;34m\u001b[0m\u001b[0m\n\u001b[0;32m--> 634\u001b[0;31m           \u001b[0mout\u001b[0m \u001b[0;34m=\u001b[0m \u001b[0mweak_wrapped_fn\u001b[0m\u001b[0;34m(\u001b[0m\u001b[0;34m)\u001b[0m\u001b[0;34m.\u001b[0m\u001b[0m__wrapped__\u001b[0m\u001b[0;34m(\u001b[0m\u001b[0;34m*\u001b[0m\u001b[0margs\u001b[0m\u001b[0;34m,\u001b[0m \u001b[0;34m**\u001b[0m\u001b[0mkwds\u001b[0m\u001b[0;34m)\u001b[0m\u001b[0;34m\u001b[0m\u001b[0;34m\u001b[0m\u001b[0m\n\u001b[0m\u001b[1;32m    635\u001b[0m         \u001b[0;32mreturn\u001b[0m \u001b[0mout\u001b[0m\u001b[0;34m\u001b[0m\u001b[0;34m\u001b[0m\u001b[0m\n\u001b[1;32m    636\u001b[0m \u001b[0;34m\u001b[0m\u001b[0m\n",
            "\u001b[0;32m/usr/local/lib/python3.7/dist-packages/tensorflow/python/framework/func_graph.py\u001b[0m in \u001b[0;36mwrapper\u001b[0;34m(*args, **kwargs)\u001b[0m\n\u001b[1;32m    975\u001b[0m           \u001b[0;32mexcept\u001b[0m \u001b[0mException\u001b[0m \u001b[0;32mas\u001b[0m \u001b[0me\u001b[0m\u001b[0;34m:\u001b[0m  \u001b[0;31m# pylint:disable=broad-except\u001b[0m\u001b[0;34m\u001b[0m\u001b[0;34m\u001b[0m\u001b[0m\n\u001b[1;32m    976\u001b[0m             \u001b[0;32mif\u001b[0m \u001b[0mhasattr\u001b[0m\u001b[0;34m(\u001b[0m\u001b[0me\u001b[0m\u001b[0;34m,\u001b[0m \u001b[0;34m\"ag_error_metadata\"\u001b[0m\u001b[0;34m)\u001b[0m\u001b[0;34m:\u001b[0m\u001b[0;34m\u001b[0m\u001b[0;34m\u001b[0m\u001b[0m\n\u001b[0;32m--> 977\u001b[0;31m               \u001b[0;32mraise\u001b[0m \u001b[0me\u001b[0m\u001b[0;34m.\u001b[0m\u001b[0mag_error_metadata\u001b[0m\u001b[0;34m.\u001b[0m\u001b[0mto_exception\u001b[0m\u001b[0;34m(\u001b[0m\u001b[0me\u001b[0m\u001b[0;34m)\u001b[0m\u001b[0;34m\u001b[0m\u001b[0;34m\u001b[0m\u001b[0m\n\u001b[0m\u001b[1;32m    978\u001b[0m             \u001b[0;32melse\u001b[0m\u001b[0;34m:\u001b[0m\u001b[0;34m\u001b[0m\u001b[0;34m\u001b[0m\u001b[0m\n\u001b[1;32m    979\u001b[0m               \u001b[0;32mraise\u001b[0m\u001b[0;34m\u001b[0m\u001b[0;34m\u001b[0m\u001b[0m\n",
            "\u001b[0;31mValueError\u001b[0m: in user code:\n\n    /usr/local/lib/python3.7/dist-packages/tensorflow/python/keras/engine/training.py:1478 predict_function  *\n        return step_function(self, iterator)\n    /usr/local/lib/python3.7/dist-packages/tensorflow/python/keras/engine/training.py:1468 step_function  **\n        outputs = model.distribute_strategy.run(run_step, args=(data,))\n    /usr/local/lib/python3.7/dist-packages/tensorflow/python/distribute/distribute_lib.py:1259 run\n        return self._extended.call_for_each_replica(fn, args=args, kwargs=kwargs)\n    /usr/local/lib/python3.7/dist-packages/tensorflow/python/distribute/distribute_lib.py:2730 call_for_each_replica\n        return self._call_for_each_replica(fn, args, kwargs)\n    /usr/local/lib/python3.7/dist-packages/tensorflow/python/distribute/distribute_lib.py:3417 _call_for_each_replica\n        return fn(*args, **kwargs)\n    /usr/local/lib/python3.7/dist-packages/tensorflow/python/keras/engine/training.py:1461 run_step  **\n        outputs = model.predict_step(data)\n    /usr/local/lib/python3.7/dist-packages/tensorflow/python/keras/engine/training.py:1434 predict_step\n        return self(x, training=False)\n    /usr/local/lib/python3.7/dist-packages/tensorflow/python/keras/engine/base_layer.py:998 __call__\n        input_spec.assert_input_compatibility(self.input_spec, inputs, self.name)\n    /usr/local/lib/python3.7/dist-packages/tensorflow/python/keras/engine/input_spec.py:259 assert_input_compatibility\n        ' but received input with shape ' + display_shape(x.shape))\n\n    ValueError: Input 0 of layer sequential_2 is incompatible with the layer: expected axis -1 of input shape to have value 22 but received input with shape (None, 23)\n"
          ]
        }
      ]
    },
    {
      "cell_type": "code",
      "metadata": {
        "colab": {
          "base_uri": "https://localhost:8080/"
        },
        "id": "j3h6evEQW9P4",
        "outputId": "d28dd67d-816d-4d41-92a7-b0622cd4f1e0"
      },
      "source": [
        "#loss_mse_train = evaluate(model_3, X_train_2, y_train_2)\n",
        "#loss_mcrmse_train = evaluate(model_2, X_train_2, y_train_2)\n",
        "loss_rmse_train = evaluate(model, X_train_2, y_train_2)"
      ],
      "id": "j3h6evEQW9P4",
      "execution_count": null,
      "outputs": [
        {
          "output_type": "stream",
          "text": [
            "MCRMSC: 0.3874.\n"
          ],
          "name": "stdout"
        }
      ]
    },
    {
      "cell_type": "code",
      "metadata": {
        "colab": {
          "base_uri": "https://localhost:8080/"
        },
        "id": "nfQ3NXzATVN8",
        "outputId": "4092dc07-5a32-4850-9576-1dfab159afe7"
      },
      "source": [
        "print('test set loss with rmse =', loss_rmse)\n",
        "#print('test set loss with mse =', loss_mse)\n",
        "#print('test set loss with mcrmse =', loss_mcrmse)"
      ],
      "id": "nfQ3NXzATVN8",
      "execution_count": null,
      "outputs": [
        {
          "output_type": "stream",
          "text": [
            "test set loss with rmse = 0.3919928030661709\n"
          ],
          "name": "stdout"
        }
      ]
    },
    {
      "cell_type": "markdown",
      "metadata": {
        "id": "80XOgp52Toim"
      },
      "source": [
        "We can see there are not much differnce between rmse and mse loss on the test data set. But while with uplod, compare to public test dataset. rmse has a much better score, 2%. Which means MSE and MCRMSE are prone to over fit the train data set and RMSE is much better than the other two in terme of choice of loss. "
      ],
      "id": "80XOgp52Toim"
    },
    {
      "cell_type": "markdown",
      "metadata": {
        "id": "e6wBuw3HUMqE"
      },
      "source": [
        "![Screenshot 2021-03-31 at 14.40.49.png](data:image/png;base64,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)"
      ],
      "id": "e6wBuw3HUMqE"
    },
    {
      "cell_type": "code",
      "metadata": {
        "colab": {
          "base_uri": "https://localhost:8080/",
          "height": 1000
        },
        "id": "RdDH-rKfZQla",
        "outputId": "5e44975b-ec74-4438-c1c9-fad3c5ed4e03"
      },
      "source": [
        "plot_model(model_2,show_shapes=True)\n"
      ],
      "id": "RdDH-rKfZQla",
      "execution_count": null,
      "outputs": [
        {
          "output_type": "execute_result",
          "data": {
            "image/png": "[encoded data removed]",
            "text/plain": [
              "<IPython.core.display.Image object>"
            ]
          },
          "metadata": {
            "tags": []
          },
          "execution_count": 102
        }
      ]
    },
    {
      "cell_type": "code",
      "metadata": {
        "id": "wg2Yfznke0NA"
      },
      "source": [
        ""
      ],
      "id": "wg2Yfznke0NA",
      "execution_count": null,
      "outputs": []
    }
  ]
}