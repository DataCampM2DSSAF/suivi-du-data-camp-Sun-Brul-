{
 "cells": [
  {
   "cell_type": "code",
   "execution_count": 1,
   "metadata": {
    "collapsed": false,
    "jupyter": {
     "outputs_hidden": false
    }
   },
   "outputs": [],
   "source": [
    "#general libabray \n",
    "import pandas as pd\n",
    "import numpy as np\n",
    "\n",
    "#model\n",
    "#random forest for feature importance\n",
    "from sklearn.ensemble import RandomForestRegressor\n",
    "\n",
    "import utility_fct\n",
    "\n",
    "#measure and split tool\n",
    "from sklearn.model_selection import train_test_split\n",
    "from sklearn.metrics import mean_squared_error\n",
    "from sklearn.model_selection import RandomizedSearchCV\n",
    "from sklearn import metrics\n",
    "import matplotlib.pyplot as plt\n",
    "import seaborn as sns"
   ]
  },
  {
   "cell_type": "code",
   "execution_count": 2,
   "metadata": {
    "collapsed": true
   },
   "outputs": [],
   "source": [
    "#import dataset:\n",
    "train = pd.read_json(\"/Users/Yannick/Desktop/Kaggle_covid/stanford-covid-vaccine/train.json\",lines=True)\n",
    "test = pd.read_csv('/Users/Yannick/Desktop/Kaggle_covid/test_final.csv') # test files after transformation, with all the labels\n",
    "test_org = pd.read_json('/Users/Yannick/Desktop/Kaggle_covid/stanford-covid-vaccine/test.json',lines=True) # original test file\n",
    "train_seq = pd.read_csv('/Users/Yannick/Desktop/Kaggle_covid/train_sequenced.csv')\n"
   ]
  },
  {
   "cell_type": "code",
   "execution_count": 3,
   "metadata": {
    "collapsed": false,
    "jupyter": {
     "outputs_hidden": false
    }
   },
   "outputs": [],
   "source": [
    "test_sub = utility_fct.expend_feature_test(test_org) #transform test data set for submission form and with the right idseq columns\n",
    "\n",
    "y = train_seq.loc[:,[\"reactivity\",\"deg_Mg_pH10\",\"deg_pH10\",\"deg_Mg_50C\",\"deg_50C\"]] "
   ]
  },
  {
   "cell_type": "code",
   "execution_count": 4,
   "metadata": {
    "collapsed": false
   },
   "outputs": [
    {
     "data": {
      "text/plain": [
       "'train = pd.read_json(\"/Users/Yannick/Desktop/Kaggle_covid/stanford-covid-vaccine/train.json\",lines=True)\\nseq = utility_fct.fianle_transform(train)\\nletters_loop_type=[\\'E\\',\\'H\\',\\'I\\',\\'M\\',\\'S\\',\\'X\\']\\n\\ndef ajout_N_predicted_loop(data):\\n    for i in letters_loop_type:\\n        col = np.where(data[i]==1, data[\\'N\\'], 0) \\n        data [\"N_\"+i] = col\\n    col_B=np.where(data.N_E+data.N_H+data.N_I+data.N_M+data.N_S+data.N_X==0,data.N,0)\\n    data[\"N_B\"]=col_B\\n    return data\\n\\nseq=ajout_N_predicted_loop(seq)\\nseq.head()'"
      ]
     },
     "execution_count": 4,
     "metadata": {},
     "output_type": "execute_result"
    }
   ],
   "source": [
    "\"\"\"train = pd.read_json(\"/Users/Yannick/Desktop/Kaggle_covid/stanford-covid-vaccine/train.json\",lines=True)\n",
    "seq = utility_fct.fianle_transform(train)\n",
    "letters_loop_type=['E','H','I','M','S','X']\n",
    "\n",
    "def ajout_N_predicted_loop(data):\n",
    "    for i in letters_loop_type:\n",
    "        col = np.where(data[i]==1, data['N'], 0) \n",
    "        data [\"N_\"+i] = col\n",
    "    col_B=np.where(data.N_E+data.N_H+data.N_I+data.N_M+data.N_S+data.N_X==0,data.N,0)\n",
    "    data[\"N_B\"]=col_B\n",
    "    return data\n",
    "\n",
    "seq=ajout_N_predicted_loop(seq)\n",
    "seq.head()\"\"\""
   ]
  },
  {
   "cell_type": "code",
   "execution_count": 5,
   "metadata": {
    "collapsed": false
   },
   "outputs": [
    {
     "data": {
      "text/plain": [
       "Index(['id', 'reactivity_error', 'deg_error_Mg_pH10', 'deg_error_pH10',\n",
       "       'deg_error_Mg_50C', 'deg_error_50C', 'reactivity', 'deg_Mg_pH10',\n",
       "       'deg_pH10', 'deg_Mg_50C', 'deg_50C', 'count_gr', 'N', 'C', 'G', 'U',\n",
       "       'E', 'H', 'I', 'M', 'S', 'X', ')', '.', 'N_E', 'N_H', 'N_I', 'N_M',\n",
       "       'N_S', 'N_X', 'N_B'],\n",
       "      dtype='object')"
      ]
     },
     "execution_count": 5,
     "metadata": {},
     "output_type": "execute_result"
    }
   ],
   "source": [
    "train_seq.columns"
   ]
  },
  {
   "cell_type": "code",
   "execution_count": 44,
   "metadata": {
    "collapsed": true
   },
   "outputs": [],
   "source": [
    "def evaluate(model, test_features, test_y):\n",
    "    \"\"\"\n",
    "    model evaluation with MCRMSC mertric\n",
    "    \"\"\"\n",
    "    predictions = model.predict(test_features)\n",
    "    mcrmsc = utility_fct.mcrmsc_yannick(test_y, predictions)[0]\n",
    "    print(str(model) + 'Performance')\n",
    "    print('MCRMSC: {:0.4f} '.format(mcrmsc))\n",
    "    return mcrmsc"
   ]
  },
  {
   "cell_type": "code",
   "execution_count": 22,
   "metadata": {
    "collapsed": true
   },
   "outputs": [],
   "source": [
    "def y_pred_df(model, test_feature, test_file):\n",
    "    \"\"\"\n",
    "    generation of submission predicitin dataframe with good format\n",
    "    \"\"\"\n",
    "    y_pred_test = model.predict(test_feature)\n",
    "    y_pred_df_random = pd.DataFrame(y_pred_test, columns= ['reactivity', \n",
    "            'deg_Mg_pH10', 'deg_pH10', 'deg_Mg_50C', 'deg_50C'])\n",
    "    y_pred_df_random.insert(0, \"id_seqpos\", test_file['id'], True) \n",
    "    \n",
    "    return (y_pred_df_random)"
   ]
  },
  {
   "cell_type": "code",
   "execution_count": 27,
   "metadata": {
    "collapsed": false,
    "jupyter": {
     "outputs_hidden": false
    }
   },
   "outputs": [
    {
     "data": {
      "text/html": [
       "<div>\n",
       "<style scoped>\n",
       "    .dataframe tbody tr th:only-of-type {\n",
       "        vertical-align: middle;\n",
       "    }\n",
       "\n",
       "    .dataframe tbody tr th {\n",
       "        vertical-align: top;\n",
       "    }\n",
       "\n",
       "    .dataframe thead th {\n",
       "        text-align: right;\n",
       "    }\n",
       "</style>\n",
       "<table border=\"1\" class=\"dataframe\">\n",
       "  <thead>\n",
       "    <tr style=\"text-align: right;\">\n",
       "      <th></th>\n",
       "      <th>importance</th>\n",
       "    </tr>\n",
       "    <tr>\n",
       "      <th>feature</th>\n",
       "      <th></th>\n",
       "    </tr>\n",
       "  </thead>\n",
       "  <tbody>\n",
       "    <tr>\n",
       "      <th>.</th>\n",
       "      <td>0.322</td>\n",
       "    </tr>\n",
       "    <tr>\n",
       "      <th>G</th>\n",
       "      <td>0.245</td>\n",
       "    </tr>\n",
       "    <tr>\n",
       "      <th>S</th>\n",
       "      <td>0.226</td>\n",
       "    </tr>\n",
       "    <tr>\n",
       "      <th>E</th>\n",
       "      <td>0.140</td>\n",
       "    </tr>\n",
       "    <tr>\n",
       "      <th>C</th>\n",
       "      <td>0.024</td>\n",
       "    </tr>\n",
       "    <tr>\n",
       "      <th>I</th>\n",
       "      <td>0.024</td>\n",
       "    </tr>\n",
       "    <tr>\n",
       "      <th>H</th>\n",
       "      <td>0.008</td>\n",
       "    </tr>\n",
       "    <tr>\n",
       "      <th>U</th>\n",
       "      <td>0.007</td>\n",
       "    </tr>\n",
       "    <tr>\n",
       "      <th>X</th>\n",
       "      <td>0.002</td>\n",
       "    </tr>\n",
       "    <tr>\n",
       "      <th>M</th>\n",
       "      <td>0.001</td>\n",
       "    </tr>\n",
       "    <tr>\n",
       "      <th>)</th>\n",
       "      <td>0.001</td>\n",
       "    </tr>\n",
       "  </tbody>\n",
       "</table>\n",
       "</div>"
      ],
      "text/plain": [
       "         importance\n",
       "feature            \n",
       ".             0.322\n",
       "G             0.245\n",
       "S             0.226\n",
       "E             0.140\n",
       "C             0.024\n",
       "I             0.024\n",
       "H             0.008\n",
       "U             0.007\n",
       "X             0.002\n",
       "M             0.001\n",
       ")             0.001"
      ]
     },
     "execution_count": 27,
     "metadata": {},
     "output_type": "execute_result"
    },
    {
     "data": {
      "image/png": "[encoded data removed]",
      "text/plain": [
       "<Figure size 720x360 with 1 Axes>"
      ]
     },
     "metadata": {
      "needs_background": "light"
     },
     "output_type": "display_data"
    }
   ],
   "source": [
    "# model_1 \n",
    "model_1 = RandomForestRegressor(random_state=42)\n",
    "features_1 = ['C', 'G', 'U','E', 'H', 'I', 'M', 'S', 'X', ')', '.']\n",
    "\n",
    "X_1 =train_seq.loc[:,features_1]\n",
    "\n",
    "X_1_train, X_1_test, y_1_train, y_1_test = train_test_split(X_1, y, test_size=0.25, random_state=1,shuffle=False)\n",
    "\n",
    "model_1.fit(X_1_train, y_1_train)\n",
    "importances = pd.DataFrame({'feature':features_1 ,'importance':np.round(model_1.feature_importances_,3)})\n",
    "plt.figure(figsize=(10, 5))\n",
    "sns.barplot(x=importances['importance'], y=importances['feature'])\n",
    "plt.title('Feaure Importance')\n",
    "plt.tight_layout()\n",
    "importances = importances.sort_values('importance', ascending=False).set_index('feature')\n",
    "importances"
   ]
  },
  {
   "cell_type": "code",
   "execution_count": 28,
   "metadata": {
    "collapsed": false
   },
   "outputs": [
    {
     "name": "stdout",
     "output_type": "stream",
     "text": [
      "Model Performance\n",
      "MCRMSC: 0.4208 \n"
     ]
    },
    {
     "data": {
      "text/plain": [
       "0.42075388134121117"
      ]
     },
     "execution_count": 28,
     "metadata": {},
     "output_type": "execute_result"
    }
   ],
   "source": [
    "y_1_pred = model.predict(X_1_test)\n",
    "evaluate(model, X_1_test, y_1_test)"
   ]
  },
  {
   "cell_type": "code",
   "execution_count": 29,
   "metadata": {
    "collapsed": true
   },
   "outputs": [],
   "source": [
    "#for generating submission \n",
    "y_pred_test = y_pred_df(model_1, test.loc[:,features_1], test_sub)\n",
    "#y_pred_df_random.to_csv('sub_random_none.csv', index=False)"
   ]
  },
  {
   "cell_type": "markdown",
   "metadata": {},
   "source": [
    "## Model 2 avec tout nos features "
   ]
  },
  {
   "cell_type": "code",
   "execution_count": 59,
   "metadata": {
    "collapsed": false,
    "jupyter": {
     "outputs_hidden": false
    }
   },
   "outputs": [
    {
     "data": {
      "text/html": [
       "<div>\n",
       "<style scoped>\n",
       "    .dataframe tbody tr th:only-of-type {\n",
       "        vertical-align: middle;\n",
       "    }\n",
       "\n",
       "    .dataframe tbody tr th {\n",
       "        vertical-align: top;\n",
       "    }\n",
       "\n",
       "    .dataframe thead th {\n",
       "        text-align: right;\n",
       "    }\n",
       "</style>\n",
       "<table border=\"1\" class=\"dataframe\">\n",
       "  <thead>\n",
       "    <tr style=\"text-align: right;\">\n",
       "      <th></th>\n",
       "      <th>importance</th>\n",
       "    </tr>\n",
       "    <tr>\n",
       "      <th>feature</th>\n",
       "      <th></th>\n",
       "    </tr>\n",
       "  </thead>\n",
       "  <tbody>\n",
       "    <tr>\n",
       "      <th>N_E</th>\n",
       "      <td>0.314</td>\n",
       "    </tr>\n",
       "    <tr>\n",
       "      <th>.</th>\n",
       "      <td>0.182</td>\n",
       "    </tr>\n",
       "    <tr>\n",
       "      <th>N_S</th>\n",
       "      <td>0.155</td>\n",
       "    </tr>\n",
       "    <tr>\n",
       "      <th>G</th>\n",
       "      <td>0.145</td>\n",
       "    </tr>\n",
       "    <tr>\n",
       "      <th>S</th>\n",
       "      <td>0.083</td>\n",
       "    </tr>\n",
       "    <tr>\n",
       "      <th>C</th>\n",
       "      <td>0.021</td>\n",
       "    </tr>\n",
       "    <tr>\n",
       "      <th>N_H</th>\n",
       "      <td>0.020</td>\n",
       "    </tr>\n",
       "    <tr>\n",
       "      <th>N_I</th>\n",
       "      <td>0.020</td>\n",
       "    </tr>\n",
       "    <tr>\n",
       "      <th>E</th>\n",
       "      <td>0.018</td>\n",
       "    </tr>\n",
       "    <tr>\n",
       "      <th>U</th>\n",
       "      <td>0.011</td>\n",
       "    </tr>\n",
       "    <tr>\n",
       "      <th>I</th>\n",
       "      <td>0.008</td>\n",
       "    </tr>\n",
       "    <tr>\n",
       "      <th>N_X</th>\n",
       "      <td>0.007</td>\n",
       "    </tr>\n",
       "    <tr>\n",
       "      <th>N_B</th>\n",
       "      <td>0.006</td>\n",
       "    </tr>\n",
       "    <tr>\n",
       "      <th>N_M</th>\n",
       "      <td>0.005</td>\n",
       "    </tr>\n",
       "    <tr>\n",
       "      <th>H</th>\n",
       "      <td>0.003</td>\n",
       "    </tr>\n",
       "    <tr>\n",
       "      <th>)</th>\n",
       "      <td>0.002</td>\n",
       "    </tr>\n",
       "    <tr>\n",
       "      <th>X</th>\n",
       "      <td>0.000</td>\n",
       "    </tr>\n",
       "    <tr>\n",
       "      <th>M</th>\n",
       "      <td>0.000</td>\n",
       "    </tr>\n",
       "  </tbody>\n",
       "</table>\n",
       "</div>"
      ],
      "text/plain": [
       "         importance\n",
       "feature            \n",
       "N_E           0.314\n",
       ".             0.182\n",
       "N_S           0.155\n",
       "G             0.145\n",
       "S             0.083\n",
       "C             0.021\n",
       "N_H           0.020\n",
       "N_I           0.020\n",
       "E             0.018\n",
       "U             0.011\n",
       "I             0.008\n",
       "N_X           0.007\n",
       "N_B           0.006\n",
       "N_M           0.005\n",
       "H             0.003\n",
       ")             0.002\n",
       "X             0.000\n",
       "M             0.000"
      ]
     },
     "execution_count": 59,
     "metadata": {},
     "output_type": "execute_result"
    },
    {
     "data": {
      "image/png": "[encoded data removed]",
      "text/plain": [
       "<Figure size 720x360 with 1 Axes>"
      ]
     },
     "metadata": {
      "needs_background": "light"
     },
     "output_type": "display_data"
    }
   ],
   "source": [
    "#model_2\n",
    "model_2 = RandomForestRegressor(random_state=42)\n",
    "features_2 = [ 'C', 'G', 'U','E', 'H', 'I', 'M', 'S', 'X', ')', \n",
    "             '.', 'N_E', 'N_H', 'N_I', 'N_M','N_S', 'N_X', 'N_B']\n",
    "\n",
    "X_2 =train_seq.loc[:,features_2]\n",
    "X_2_train, X_2_test, y_2_train, y_2_test = train_test_split(X_2, y, test_size=0.25, random_state=1,shuffle=False)\n",
    "\n",
    "model_2.fit(X_2_train, y_2_train)\n",
    "\n",
    "importances = pd.DataFrame({'feature':features_2 ,'importance':np.round(model_2.feature_importances_,3)})\n",
    "plt.figure(figsize=(10, 5))\n",
    "sns.barplot(x=importances['importance'], y=importances['feature'])\n",
    "plt.title('Feaure Importance')\n",
    "plt.tight_layout()\n",
    "plt.savefig('Feaure.png')\n",
    "importances = importances.sort_values('importance',ascending=False).set_index('feature')\n",
    "importances"
   ]
  },
  {
   "cell_type": "code",
   "execution_count": 32,
   "metadata": {
    "collapsed": false
   },
   "outputs": [
    {
     "name": "stdout",
     "output_type": "stream",
     "text": [
      "Model Performance\n",
      "MCRMSC: 0.3935 \n"
     ]
    },
    {
     "data": {
      "text/plain": [
       "0.393467532675235"
      ]
     },
     "execution_count": 32,
     "metadata": {},
     "output_type": "execute_result"
    }
   ],
   "source": [
    "y_pred_model_2 = y_pred_df(model_2, test.loc[:,features_2], test_sub)\n",
    "evaluate(model_2, X_2_test, y_2_test)"
   ]
  },
  {
   "cell_type": "code",
   "execution_count": null,
   "metadata": {
    "collapsed": true
   },
   "outputs": [],
   "source": [
    "#y_pred_model_2.to_csv('sub_random_none.csv', index=False)"
   ]
  },
  {
   "cell_type": "markdown",
   "metadata": {},
   "source": [
    "## Model 3 avec suppression de predicted loop type par rapport au model 2 "
   ]
  },
  {
   "cell_type": "code",
   "execution_count": 33,
   "metadata": {
    "collapsed": false,
    "jupyter": {
     "outputs_hidden": false
    }
   },
   "outputs": [
    {
     "data": {
      "text/html": [
       "<div>\n",
       "<style scoped>\n",
       "    .dataframe tbody tr th:only-of-type {\n",
       "        vertical-align: middle;\n",
       "    }\n",
       "\n",
       "    .dataframe tbody tr th {\n",
       "        vertical-align: top;\n",
       "    }\n",
       "\n",
       "    .dataframe thead th {\n",
       "        text-align: right;\n",
       "    }\n",
       "</style>\n",
       "<table border=\"1\" class=\"dataframe\">\n",
       "  <thead>\n",
       "    <tr style=\"text-align: right;\">\n",
       "      <th></th>\n",
       "      <th>importance</th>\n",
       "    </tr>\n",
       "    <tr>\n",
       "      <th>feature</th>\n",
       "      <th></th>\n",
       "    </tr>\n",
       "  </thead>\n",
       "  <tbody>\n",
       "    <tr>\n",
       "      <th>N_E</th>\n",
       "      <td>0.332</td>\n",
       "    </tr>\n",
       "    <tr>\n",
       "      <th>N_S</th>\n",
       "      <td>0.211</td>\n",
       "    </tr>\n",
       "    <tr>\n",
       "      <th>.</th>\n",
       "      <td>0.210</td>\n",
       "    </tr>\n",
       "    <tr>\n",
       "      <th>G</th>\n",
       "      <td>0.145</td>\n",
       "    </tr>\n",
       "    <tr>\n",
       "      <th>N_I</th>\n",
       "      <td>0.028</td>\n",
       "    </tr>\n",
       "    <tr>\n",
       "      <th>N_H</th>\n",
       "      <td>0.023</td>\n",
       "    </tr>\n",
       "    <tr>\n",
       "      <th>C</th>\n",
       "      <td>0.021</td>\n",
       "    </tr>\n",
       "    <tr>\n",
       "      <th>U</th>\n",
       "      <td>0.011</td>\n",
       "    </tr>\n",
       "    <tr>\n",
       "      <th>N_X</th>\n",
       "      <td>0.007</td>\n",
       "    </tr>\n",
       "    <tr>\n",
       "      <th>N_B</th>\n",
       "      <td>0.006</td>\n",
       "    </tr>\n",
       "    <tr>\n",
       "      <th>N_M</th>\n",
       "      <td>0.005</td>\n",
       "    </tr>\n",
       "    <tr>\n",
       "      <th>)</th>\n",
       "      <td>0.002</td>\n",
       "    </tr>\n",
       "  </tbody>\n",
       "</table>\n",
       "</div>"
      ],
      "text/plain": [
       "         importance\n",
       "feature            \n",
       "N_E           0.332\n",
       "N_S           0.211\n",
       ".             0.210\n",
       "G             0.145\n",
       "N_I           0.028\n",
       "N_H           0.023\n",
       "C             0.021\n",
       "U             0.011\n",
       "N_X           0.007\n",
       "N_B           0.006\n",
       "N_M           0.005\n",
       ")             0.002"
      ]
     },
     "execution_count": 33,
     "metadata": {},
     "output_type": "execute_result"
    },
    {
     "data": {
      "image/png": "[encoded data removed]",
      "text/plain": [
       "<Figure size 720x360 with 1 Axes>"
      ]
     },
     "metadata": {
      "needs_background": "light"
     },
     "output_type": "display_data"
    }
   ],
   "source": [
    "#model_3\n",
    "model_3 = RandomForestRegressor( random_state=42)\n",
    "features_3 = [ 'C', 'G', 'U', ')', '.', 'N_E', 'N_H', 'N_I', 'N_M','N_S', 'N_X', 'N_B']\n",
    "\n",
    "X_3 =train_seq.loc[:,features_3]\n",
    "X_3_train, X_3_test, y_3_train, y_3_test = train_test_split(X_3, y, test_size=0.25, random_state=1,shuffle=False)\n",
    "\n",
    "\n",
    "model_3.fit(X_3_train, y_3_train)\n",
    "importances = pd.DataFrame({'feature':features_3 ,'importance':np.round(model_3.feature_importances_,3)})\n",
    "plt.figure(figsize=(10, 5))\n",
    "sns.barplot(x=importances['importance'], y=importances['feature'])\n",
    "plt.title('Feaure Importance')\n",
    "plt.tight_layout()\n",
    "importances = importances.sort_values('importance',ascending=False).set_index('feature')\n",
    "importances"
   ]
  },
  {
   "cell_type": "code",
   "execution_count": 34,
   "metadata": {
    "collapsed": false
   },
   "outputs": [
    {
     "name": "stdout",
     "output_type": "stream",
     "text": [
      "Model Performance\n",
      "MCRMSC: 0.3935 \n"
     ]
    },
    {
     "data": {
      "text/plain": [
       "0.39346750239546197"
      ]
     },
     "execution_count": 34,
     "metadata": {},
     "output_type": "execute_result"
    }
   ],
   "source": [
    "y_pred_model_3 = y_pred_df(model_3, test.loc[:,features_3], test_sub)\n",
    "evaluate(model_3, X_3_test, y_3_test)"
   ]
  },
  {
   "cell_type": "markdown",
   "metadata": {},
   "source": [
    "## Model 4: on prend seulement les parametres dont la somme d'importance <= 90%"
   ]
  },
  {
   "cell_type": "code",
   "execution_count": 42,
   "metadata": {
    "collapsed": false
   },
   "outputs": [
    {
     "data": {
      "text/html": [
       "<div>\n",
       "<style scoped>\n",
       "    .dataframe tbody tr th:only-of-type {\n",
       "        vertical-align: middle;\n",
       "    }\n",
       "\n",
       "    .dataframe tbody tr th {\n",
       "        vertical-align: top;\n",
       "    }\n",
       "\n",
       "    .dataframe thead th {\n",
       "        text-align: right;\n",
       "    }\n",
       "</style>\n",
       "<table border=\"1\" class=\"dataframe\">\n",
       "  <thead>\n",
       "    <tr style=\"text-align: right;\">\n",
       "      <th></th>\n",
       "      <th>importance</th>\n",
       "    </tr>\n",
       "    <tr>\n",
       "      <th>feature</th>\n",
       "      <th></th>\n",
       "    </tr>\n",
       "  </thead>\n",
       "  <tbody>\n",
       "    <tr>\n",
       "      <th>N_E</th>\n",
       "      <td>0.319</td>\n",
       "    </tr>\n",
       "    <tr>\n",
       "      <th>.</th>\n",
       "      <td>0.209</td>\n",
       "    </tr>\n",
       "    <tr>\n",
       "      <th>G</th>\n",
       "      <td>0.146</td>\n",
       "    </tr>\n",
       "    <tr>\n",
       "      <th>N_S</th>\n",
       "      <td>0.130</td>\n",
       "    </tr>\n",
       "    <tr>\n",
       "      <th>S</th>\n",
       "      <td>0.084</td>\n",
       "    </tr>\n",
       "    <tr>\n",
       "      <th>N_H</th>\n",
       "      <td>0.023</td>\n",
       "    </tr>\n",
       "    <tr>\n",
       "      <th>C</th>\n",
       "      <td>0.021</td>\n",
       "    </tr>\n",
       "    <tr>\n",
       "      <th>N_I</th>\n",
       "      <td>0.019</td>\n",
       "    </tr>\n",
       "    <tr>\n",
       "      <th>E</th>\n",
       "      <td>0.016</td>\n",
       "    </tr>\n",
       "    <tr>\n",
       "      <th>U</th>\n",
       "      <td>0.010</td>\n",
       "    </tr>\n",
       "    <tr>\n",
       "      <th>I</th>\n",
       "      <td>0.009</td>\n",
       "    </tr>\n",
       "    <tr>\n",
       "      <th>N_X</th>\n",
       "      <td>0.008</td>\n",
       "    </tr>\n",
       "    <tr>\n",
       "      <th>N_B</th>\n",
       "      <td>0.006</td>\n",
       "    </tr>\n",
       "  </tbody>\n",
       "</table>\n",
       "</div>"
      ],
      "text/plain": [
       "         importance\n",
       "feature            \n",
       "N_E           0.319\n",
       ".             0.209\n",
       "G             0.146\n",
       "N_S           0.130\n",
       "S             0.084\n",
       "N_H           0.023\n",
       "C             0.021\n",
       "N_I           0.019\n",
       "E             0.016\n",
       "U             0.010\n",
       "I             0.009\n",
       "N_X           0.008\n",
       "N_B           0.006"
      ]
     },
     "execution_count": 42,
     "metadata": {},
     "output_type": "execute_result"
    },
    {
     "data": {
      "image/png": "[encoded data removed]",
      "text/plain": [
       "<Figure size 720x360 with 1 Axes>"
      ]
     },
     "metadata": {
      "needs_background": "light"
     },
     "output_type": "display_data"
    }
   ],
   "source": [
    "model_4 = RandomForestRegressor( random_state=42)\n",
    "features_4 = [ 'C', 'G', 'U','E', 'I', 'S', '.', 'N_E', 'N_H', 'N_I','N_S', 'N_X', 'N_B']\n",
    "X_4 =train_seq.loc[:,features_4]\n",
    "\n",
    "X_4_train, X_4_test, y_4_train, y_4_test = train_test_split(X_4, y, test_size=0.25, random_state=1,shuffle=False)\n",
    "model_4.fit(X_4_train, y_4_train)\n",
    "\n",
    "importances = pd.DataFrame({'feature':features_4 ,'importance':np.round(model_4.feature_importances_,3)})\n",
    "plt.figure(figsize=(10, 5))\n",
    "sns.barplot(x=importances['importance'], y=importances['feature'])\n",
    "plt.title('Feaure Importance')\n",
    "plt.tight_layout()\n",
    "importances = importances.sort_values('importance',ascending=False).set_index('feature')\n",
    "importances"
   ]
  },
  {
   "cell_type": "code",
   "execution_count": 43,
   "metadata": {
    "collapsed": false
   },
   "outputs": [
    {
     "name": "stdout",
     "output_type": "stream",
     "text": [
      "Model Performance\n",
      "MCRMSC: 0.3934 \n"
     ]
    },
    {
     "data": {
      "text/plain": [
       "0.3934287995211152"
      ]
     },
     "execution_count": 43,
     "metadata": {},
     "output_type": "execute_result"
    }
   ],
   "source": [
    "y_pred_model_4 = y_pred_df(model_4, test.loc[:,features_4], test_sub)\n",
    "evaluate(model_4, X_4_test, y_4_test)"
   ]
  },
  {
   "cell_type": "code",
   "execution_count": 45,
   "metadata": {
    "collapsed": false
   },
   "outputs": [
    {
     "name": "stdout",
     "output_type": "stream",
     "text": [
      "RandomForestRegressor(random_state=42)Performance\n",
      "MCRMSC: 0.4208 \n",
      "RandomForestRegressor(random_state=42)Performance\n",
      "MCRMSC: 0.3935 \n",
      "RandomForestRegressor(random_state=42)Performance\n",
      "MCRMSC: 0.3935 \n",
      "RandomForestRegressor(random_state=42)Performance\n",
      "MCRMSC: 0.3934 \n"
     ]
    },
    {
     "data": {
      "text/plain": [
       "0.3934287995211152"
      ]
     },
     "execution_count": 45,
     "metadata": {},
     "output_type": "execute_result"
    }
   ],
   "source": [
    "MCRMSC_1 = evaluate(model_1, X_1_test, y_1_test)\n",
    "MCRMSC_2 = evaluate(model_2, X_2_test, y_2_test)\n",
    "MCRMSC_3 = evaluate(model_3, X_3_test, y_3_test)\n",
    "MCRMSC_4 = evaluate(model_4, X_4_test, y_4_test)"
   ]
  },
  {
   "cell_type": "code",
   "execution_count": 48,
   "metadata": {
    "collapsed": false
   },
   "outputs": [
    {
     "name": "stdout",
     "output_type": "stream",
     "text": [
      "RandomForestRegressor(random_state=42)Performance\n",
      "MCRMSC: 0.3935 \n",
      "RandomForestRegressor(random_state=42)Performance\n",
      "MCRMSC: 0.4208 \n",
      "RandomForestRegressor(random_state=42)Performance\n",
      "MCRMSC: 0.4208 \n",
      "Improvement of 6.48%.\n"
     ]
    }
   ],
   "source": [
    "print('Improvement of {:0.2f}%.'.format(abs(100 * (MCRMSC_2- MCRMSC_1) /MCRMSC_1)))"
   ]
  },
  {
   "cell_type": "markdown",
   "metadata": {},
   "source": [
    "On voit que dans le 3 derniere model, il y a pas d'amelioration entre eux. Mais il y a bien une amelioration des performence par rapport a un simple one hot encoding des varaibles."
   ]
  },
  {
   "cell_type": "markdown",
   "metadata": {},
   "source": [
    "## Selection des meuilleuri parametre pour le model Random forest, selon les features 4 "
   ]
  },
  {
   "cell_type": "code",
   "execution_count": 52,
   "metadata": {
    "collapsed": true
   },
   "outputs": [],
   "source": [
    "# Number of trees in Random Forest\n",
    "rf_n_estimators = [100, 250, 500]\n",
    "# Maximum number of levels in tree\n",
    "rf_max_depth = [int(x) for x in np.linspace(5, 15, 3)]\n",
    "rf_max_depth.append(None)\n",
    "# Add the default as a possible value\n",
    "# Number of features to consider at every split\n",
    "rf_max_features = ['auto', 'sqrt']\n",
    "#“auto”then max_features=n_features\n",
    "\n",
    "# Criterion to split on\n",
    "rf_criterion = ['mse']\n",
    "\n",
    "# Minimum decrease in impurity required for split to happen\n",
    "rf_min_impurity_decrease = [0.0, 0.05]\n",
    "\n",
    "# Create the grid\n",
    "rf_grid = {'n_estimators': rf_n_estimators,\n",
    "               'max_depth': rf_max_depth,\n",
    "               'max_features': rf_max_features,\n",
    "               'criterion': rf_criterion,\n",
    "               'min_impurity_decrease': rf_min_impurity_decrease}"
   ]
  },
  {
   "cell_type": "markdown",
   "metadata": {},
   "source": [
    "Creating 48 = the total combination of parameter, so it's not a random search"
   ]
  },
  {
   "cell_type": "code",
   "execution_count": 53,
   "metadata": {
    "collapsed": true
   },
   "outputs": [],
   "source": [
    "# Create the model to be tuned\n",
    "rf_base = RandomForestRegressor()\n",
    "\n",
    "# Create the random search Random Forest\n",
    "rf_random = RandomizedSearchCV(estimator = rf_base, param_distributions = rf_grid, \n",
    "                               n_iter = 48, cv = 3, verbose = 2, random_state = 42, \n",
    "                               n_jobs = -1)\n"
   ]
  },
  {
   "cell_type": "code",
   "execution_count": 54,
   "metadata": {
    "collapsed": false
   },
   "outputs": [
    {
     "name": "stdout",
     "output_type": "stream",
     "text": [
      "Fitting 3 folds for each of 48 candidates, totalling 144 fits\n"
     ]
    },
    {
     "data": {
      "text/plain": [
       "{'n_estimators': 500,\n",
       " 'min_impurity_decrease': 0.0,\n",
       " 'max_features': 'sqrt',\n",
       " 'max_depth': 10,\n",
       " 'criterion': 'mse'}"
      ]
     },
     "execution_count": 54,
     "metadata": {},
     "output_type": "execute_result"
    }
   ],
   "source": [
    "rf_random.fit(X_4_train, y_4_train)\n",
    "\n",
    "#View the best parameters from the random search\n",
    "rf_random.best_params_"
   ]
  },
  {
   "cell_type": "code",
   "execution_count": 55,
   "metadata": {
    "collapsed": true
   },
   "outputs": [],
   "source": [
    "model_opt = rf_random.best_estimator_"
   ]
  },
  {
   "cell_type": "code",
   "execution_count": 57,
   "metadata": {
    "collapsed": false
   },
   "outputs": [
    {
     "name": "stdout",
     "output_type": "stream",
     "text": [
      "RandomForestRegressor(random_state=42)Performance\n",
      "MCRMSC: 0.3934 \n",
      "RandomForestRegressor(max_depth=10, max_features='sqrt', n_estimators=500)Performance\n",
      "MCRMSC: 0.3926 \n"
     ]
    }
   ],
   "source": [
    "base_MCRMSC =evaluate(model_4, X_4_test, y_4_true)\n",
    "opt_MCRMSC = evaluate(model_opt, X_4_test, y_4_true)"
   ]
  },
  {
   "cell_type": "code",
   "execution_count": 58,
   "metadata": {
    "collapsed": false
   },
   "outputs": [
    {
     "name": "stdout",
     "output_type": "stream",
     "text": [
      "Improvement of 0.22%.\n"
     ]
    }
   ],
   "source": [
    "print('Improvement of {:0.2f}%.'.format( 100 * (base_MCRMSC - opt_MCRMSC) / base_MCRMSC))"
   ]
  },
  {
   "cell_type": "markdown",
   "metadata": {},
   "source": [
    "Finalement on adopte le modele avec l'optimization des parametres de random forest."
   ]
  },
  {
   "cell_type": "code",
   "execution_count": null,
   "metadata": {
    "collapsed": true
   },
   "outputs": [],
   "source": [
    "y_pred_model_opt = y_pred_df(model_opt, test.loc[:,features_4], test_sub)\n",
    "y_pred_model_opt.head()"
   ]
  },
  {
   "cell_type": "code",
   "execution_count": null,
   "metadata": {
    "collapsed": true
   },
   "outputs": [],
   "source": [
    "y_pred_model_opt.to_csv('sub_random_opt.csv', index=False)"
   ]
  },
  {
   "cell_type": "code",
   "execution_count": null,
   "metadata": {
    "collapsed": true
   },
   "outputs": [],
   "source": [
    "estimator = model_4.estimators_[5]\n",
    "\n",
    "from sklearn.tree import export_graphviz\n",
    "# Export as dot file\n",
    "image_tree = export_graphviz(estimator, out_file='tree.dot', \n",
    "                feature_names = test.loc[:,features_4].columns,\n",
    "                class_names = [\"reactivity\",\"deg_Mg_pH10\",\"deg_pH10\",\"deg_Mg_50C\",\"deg_50C\"],\n",
    "                rounded = True, proportion = False, \n",
    "                precision = 2, filled = True)\n",
    "\n",
    "# Convert to png using system command (requires Graphviz)\n",
    "from subprocess import call\n",
    "call(['dot', '-Tpng', 'tree.dot', '-o', 'tree.png', '-Gdpi=600'])\n",
    "\n",
    "# Display in jupyter notebook\n",
    "from IPython.display import Image\n",
    "Image(filename = 'tree.png')"
   ]
  },
  {
   "cell_type": "code",
   "execution_count": null,
   "metadata": {
    "collapsed": true
   },
   "outputs": [],
   "source": [
    "estimator = model_opt.estimators_[2]\n",
    "from sklearn.tree import export_graphviz\n",
    "# Export as dot file\n",
    "image_tree = export_graphviz(estimator, out_file='tree_opt.dot', \n",
    "                feature_names = test.loc[:,features_4].columns,\n",
    "                class_names = [\"reactivity\",\"deg_Mg_pH10\",\"deg_pH10\",\"deg_Mg_50C\",\"deg_50C\"],\n",
    "                rounded = True, proportion = False, \n",
    "                precision = 2, filled = True)\n",
    "\n",
    "# Convert to png using system command (requires Graphviz)\n",
    "from subprocess import call\n",
    "call(['dot', '-Tpng', 'tree_opt.dot', '-o', 'tree_opt.png', '-Gdpi=600'])\n",
    "\n",
    "# Display in jupyter notebook\n",
    "from IPython.display import Image\n",
    "Image(filename = 'tree_opt.png')"
   ]
  },
  {
   "cell_type": "code",
   "execution_count": null,
   "metadata": {
    "collapsed": true
   },
   "outputs": [],
   "source": [
    "y_pred_model_opt = y_pred_df(model_opt, test.loc[:,features_4], test_sub)\n",
    "y_pred_model_4.head()"
   ]
  },
  {
   "cell_type": "code",
   "execution_count": null,
   "metadata": {
    "collapsed": true
   },
   "outputs": [],
   "source": [
    "y_pred_model_4.to_csv('sub_random_opt.csv', index=False)"
   ]
  },
  {
   "cell_type": "code",
   "execution_count": null,
   "metadata": {
    "collapsed": true
   },
   "outputs": [],
   "source": []
  }
 ],
 "metadata": {
  "kernelspec": {
   "display_name": "Python 3",
   "language": "python",
   "name": "python3"
  },
  "language_info": {
   "codemirror_mode": {
    "name": "ipython",
    "version": 3
   },
   "file_extension": ".py",
   "mimetype": "text/x-python",
   "name": "python",
   "nbconvert_exporter": "python",
   "pygments_lexer": "ipython3",
   "version": "3.6.0"
  }
 },
 "nbformat": 4,
 "nbformat_minor": 5
}
