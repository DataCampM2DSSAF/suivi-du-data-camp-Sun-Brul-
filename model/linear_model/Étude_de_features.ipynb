{
 "cells": [
  {
   "cell_type": "markdown",
   "metadata": {},
   "source": [
    "# Création de variable pour améliorer le modèle"
   ]
  },
  {
   "cell_type": "code",
   "execution_count": 1,
   "metadata": {},
   "outputs": [],
   "source": [
    "import pandas as pd\n",
    "import numpy as np\n",
    "from sklearn.model_selection import train_test_split\n",
    "from sklearn.linear_model import LinearRegression\n",
    "from sklearn.linear_model import Ridge\n",
    "from sklearn.linear_model import Lasso\n",
    "import matplotlib.pyplot as plt"
   ]
  },
  {
   "cell_type": "code",
   "execution_count": 2,
   "metadata": {},
   "outputs": [],
   "source": [
    "train = pd.read_json(\"/Users/romainbrule/Documents/Cours/Master2/KAGGLE/stanford-covid-vaccine/train.json\",lines=True)\n",
    "train.set_index('index',inplace=True)"
   ]
  },
  {
   "cell_type": "code",
   "execution_count": 3,
   "metadata": {},
   "outputs": [],
   "source": [
    "def expend_feature (df):\n",
    "    \"\"\"\n",
    "    Return a dataframe with expension of sequence\n",
    "    \n",
    "    Args:\n",
    "        df (Dataframe): same format as train\n",
    "        i_row (int): number of row we want to expand\n",
    "    \n",
    "    Returns:\n",
    "        sub_df: a dataframe with:\n",
    "        number of rows = seq_scored\n",
    "        columns name:[id, base, base_structure_type, base_predicted_loop_type, reactivity_error,\n",
    "        deg_error_Mg_pH10,deg_error_pH10, deg_error_Mg_50C, deg_error_50C, reactivity, \n",
    "        deg_Mg_pH10, deg_pH10, deg_Mg_50C, deg_50C]\n",
    "    \"\"\"\n",
    "    if (df.shape[0] != df.id.nunique()):\n",
    "        print('repetition in RNA sequnence, clean dataframe first')\n",
    "        return # dose the same as retunr None, which exit the function \n",
    "    \n",
    "    else:\n",
    "        col_names = ['id','base', 'base_structure_type', 'base_predicted_loop_type', 'reactivity_error',\n",
    "            'deg_error_Mg_pH10', 'deg_error_pH10', 'deg_error_Mg_50C', 'deg_error_50C', 'reactivity', \n",
    "            'deg_Mg_pH10', 'deg_pH10', 'deg_Mg_50C', 'deg_50C']\n",
    "\n",
    "        #dataframe creation using list of lists\n",
    "        # loop for each unique sequence\n",
    "        sub_data = []\n",
    "        for row_i in df.index:\n",
    "            #loop for the legth of sequnece score (trian length is different from test)\n",
    "            serie_i = df.loc[row_i] #panda series object\n",
    "            seq_length  = serie_i['seq_scored']\n",
    "            for seq_i in range (seq_length):\n",
    "                seq_data = [serie_i['id'], serie_i['sequence'][seq_i],\n",
    "                            serie_i['structure'][seq_i], serie_i['predicted_loop_type'][seq_i],\n",
    "                            serie_i['reactivity_error'][seq_i], serie_i['deg_error_Mg_pH10'][seq_i],\n",
    "                            serie_i['deg_error_pH10'][seq_i], serie_i['deg_error_Mg_50C'][seq_i],\n",
    "                            serie_i['deg_error_50C'][seq_i], serie_i['reactivity'][seq_i],\n",
    "                            serie_i['deg_Mg_pH10'][seq_i], serie_i['deg_pH10'][seq_i],\n",
    "                            serie_i['deg_Mg_50C'][seq_i], serie_i['deg_50C'][seq_i]]\n",
    "                sub_data.append(seq_data)\n",
    "\n",
    "        sub_df = pd.DataFrame(sub_data, columns =col_names,  dtype = float) \n",
    "        return sub_df\n",
    "\n",
    "\n",
    "def count(x,colonne):\n",
    "    return (colonne==x).sum()\n",
    "\n",
    "\n",
    "def add_features(seq): # Coumpt the numerous of the group\n",
    "    # Concerning nucleotides\n",
    "    gr_base=1\n",
    "    seq['count_gr_base']=gr_base\n",
    "    for i in range (1,seq.shape[0]):\n",
    "        if ((seq.id.iloc[i]!=seq.id.iloc[i-1]) or (seq.base.iloc[i]!=seq.base.iloc[i-1])):\n",
    "            gr_base=gr_base+1\n",
    "        seq.count_gr_base[i]=gr_base\n",
    "    #Count the number of nucleotide which are the same \n",
    "    seq['N_base']=seq['count_gr_base'].apply(lambda x: count(x,seq['count_gr_base']))\n",
    "    \n",
    "    # Concerning loop_type\n",
    "    gr_loop_type=1\n",
    "    seq['count_gr_loop_type']=gr_loop_type\n",
    "    for i in range (1,seq.shape[0]):\n",
    "        if ((seq.id.iloc[i]!=seq.id.iloc[i-1]) or (seq.base_predicted_loop_type.iloc[i]!=seq.base_predicted_loop_type.iloc[i-1])):\n",
    "            gr_loop_type=gr_loop_type+1\n",
    "        seq.count_gr_loop_type[i]=gr_loop_type\n",
    "    #Count the number of letters in the group \n",
    "    seq['N_loop_type']=seq['count_gr_loop_type'].apply(lambda x: count(x,seq['count_gr_loop_type']))\n",
    "\n",
    "    #Concerning the number of point in 'base_structure_type'\n",
    "    Number_point=seq[seq.base_structure_type=='.'].groupby([\"id\"])['base_structure_type'].count()\n",
    "    seq['N_point']=Number_point[0]\n",
    "    idx=0\n",
    "    for i in range (1,seq.shape[0]):\n",
    "        if (seq.id.iloc[i]!=seq.id.iloc[i-1]):\n",
    "            idx+=1\n",
    "        seq.loc[i,['N_point']]=Number_point[idx]  \n",
    "    \n",
    "    return seq\n",
    "    \n",
    "    \n",
    "def fianle_transform (dataframe):\n",
    "    # filter with SN_filter criteria \n",
    "    data_filter = dataframe[dataframe[\"SN_filter\"] == 1]\n",
    "    \n",
    "    #use expend to change feature \n",
    "    data_filter_seq = expend_feature(data_filter)\n",
    "    \n",
    "    #add feature \n",
    "    data_filter_seq = add_features(data_filter_seq)\n",
    "    \n",
    "    #make feature onehot encoding\n",
    "    one_hot_base = pd.get_dummies(data_filter_seq['base'],drop_first=True) #drop \"A\"\n",
    "    one_hot_loop = pd.get_dummies(data_filter_seq['base_predicted_loop_type'],drop_first=True) # drop \"B\"\n",
    "    one_hot_struct = pd.get_dummies(data_filter_seq['base_structure_type'],drop_first=True)# drop \"(\"\n",
    "    \n",
    "    #final dataset\n",
    "    data_filter_seq = data_filter_seq.drop([\"base\", \"base_predicted_loop_type\",\"base_structure_type\"], axis = 1)\n",
    "    df = pd.concat([data_filter_seq,one_hot_base, one_hot_loop ,one_hot_struct], axis = 1)\n",
    "    return df"
   ]
  },
  {
   "cell_type": "code",
   "execution_count": 4,
   "metadata": {},
   "outputs": [
    {
     "name": "stderr",
     "output_type": "stream",
     "text": [
      "/Users/romainbrule/opt/anaconda3/lib/python3.7/site-packages/ipykernel_launcher.py:57: SettingWithCopyWarning: \n",
      "A value is trying to be set on a copy of a slice from a DataFrame\n",
      "\n",
      "See the caveats in the documentation: http://pandas.pydata.org/pandas-docs/stable/user_guide/indexing.html#returning-a-view-versus-a-copy\n",
      "/Users/romainbrule/opt/anaconda3/lib/python3.7/site-packages/ipykernel_launcher.py:67: SettingWithCopyWarning: \n",
      "A value is trying to be set on a copy of a slice from a DataFrame\n",
      "\n",
      "See the caveats in the documentation: http://pandas.pydata.org/pandas-docs/stable/user_guide/indexing.html#returning-a-view-versus-a-copy\n"
     ]
    }
   ],
   "source": [
    "seq=fianle_transform(train)\n",
    "#seq = pd.read_csv(\"/Users/romainbrule/Documents/Cours/Master2/KAGGLE/train_model.csv\")"
   ]
  },
  {
   "cell_type": "code",
   "execution_count": 5,
   "metadata": {},
   "outputs": [
    {
     "data": {
      "text/plain": [
       "Index(['id', 'reactivity_error', 'deg_error_Mg_pH10', 'deg_error_pH10',\n",
       "       'deg_error_Mg_50C', 'deg_error_50C', 'reactivity', 'deg_Mg_pH10',\n",
       "       'deg_pH10', 'deg_Mg_50C', 'deg_50C', 'count_gr_base', 'N_base',\n",
       "       'count_gr_loop_type', 'N_loop_type', 'N_point', 'C', 'G', 'U', 'E', 'H',\n",
       "       'I', 'M', 'S', 'X', ')', '.'],\n",
       "      dtype='object')"
      ]
     },
     "execution_count": 5,
     "metadata": {},
     "output_type": "execute_result"
    }
   ],
   "source": [
    "#seq = pd.read_csv('seq_filter.csv').drop(columns = ['Unnamed: 0'])\n",
    "seq.columns"
   ]
  },
  {
   "cell_type": "markdown",
   "metadata": {},
   "source": [
    "### Erreur de Kaggle\n",
    "\n",
    "D'après Kaggle, le score est calculé par un MCRMSE. On créer donc une fonction qui le calcul:"
   ]
  },
  {
   "cell_type": "code",
   "execution_count": 6,
   "metadata": {},
   "outputs": [],
   "source": [
    "#Notre erreur \n",
    "\n",
    "def MSE(vec1,vec2):\n",
    "    Res = 0 \n",
    "    n=len(vec1)\n",
    "    for i in range (0,n):  #looping through each element of the list\n",
    "        diff_squared = (vec1[i]-vec2[i])**2   \n",
    "        Res = Res + diff_squared  #taking a sum of all the differences\n",
    "    return Res/n #dividing summation by total values to obtain average\n",
    "\n",
    "def MCRMSE(y_true, y_pred):\n",
    "    y_true=y_true.values\n",
    "    n,Nt=y_pred.shape\n",
    "    Res=0\n",
    "    for i in range(0,Nt):\n",
    "        Res=Res+np.sqrt(MSE(y_true[:,i],y_pred[:,i]))\n",
    "    return Res/Nt\n",
    "    "
   ]
  },
  {
   "cell_type": "markdown",
   "metadata": {},
   "source": [
    "### Modèle avec toute les features de base"
   ]
  },
  {
   "cell_type": "code",
   "execution_count": 7,
   "metadata": {},
   "outputs": [],
   "source": [
    "y = seq.loc[:,[\"reactivity\",\"deg_Mg_pH10\",\"deg_pH10\",\"deg_Mg_50C\",\"deg_50C\"]]\n",
    "X=seq.loc[:,['reactivity_error', 'deg_error_Mg_pH10', 'deg_error_pH10',\n",
    "          'deg_error_Mg_50C', 'deg_error_50C', 'C', 'G', 'U','E', 'H', 'I', 'M', 'S', 'X', ')', '.']]"
   ]
  },
  {
   "cell_type": "code",
   "execution_count": 8,
   "metadata": {},
   "outputs": [],
   "source": [
    " X_train, X_test, y_train, y_true = train_test_split(X, y, test_size=0.2, random_state=1,shuffle=False)"
   ]
  },
  {
   "cell_type": "code",
   "execution_count": 9,
   "metadata": {},
   "outputs": [
    {
     "name": "stdout",
     "output_type": "stream",
     "text": [
      "score 0.3686208894502586\n"
     ]
    }
   ],
   "source": [
    "reg = LinearRegression()\n",
    "reg.fit(X_train,y_train)\n",
    "y_pred = reg.predict(X_test)\n",
    "print(\"score\", MCRMSE(y_true, y_pred))"
   ]
  },
  {
   "cell_type": "markdown",
   "metadata": {},
   "source": [
    "Néanmoins on utilise des features que l'on ne pourra pas utiliser"
   ]
  },
  {
   "cell_type": "markdown",
   "metadata": {},
   "source": [
    "### Modèle linéaire de base"
   ]
  },
  {
   "cell_type": "code",
   "execution_count": 10,
   "metadata": {},
   "outputs": [],
   "source": [
    "y = seq.loc[:,[\"reactivity\",\"deg_Mg_pH10\",\"deg_pH10\",\"deg_Mg_50C\",\"deg_50C\"]]\n",
    "X=seq.loc[:,['C', 'G', 'U','E', 'H', 'I', 'M', 'S', 'X', ')', '.']]"
   ]
  },
  {
   "cell_type": "code",
   "execution_count": 11,
   "metadata": {},
   "outputs": [],
   "source": [
    " X_train, X_test, y_train, y_true = train_test_split(X, y, test_size=0.2, random_state=1,shuffle=False)"
   ]
  },
  {
   "cell_type": "code",
   "execution_count": 12,
   "metadata": {},
   "outputs": [
    {
     "name": "stdout",
     "output_type": "stream",
     "text": [
      "score 0.43594757017695496\n"
     ]
    }
   ],
   "source": [
    "reg = LinearRegression()\n",
    "reg.fit(X_train,y_train)\n",
    "y_pred = reg.predict(X_test)\n",
    "print(\"score\", MCRMSE(y_true, y_pred))"
   ]
  },
  {
   "cell_type": "markdown",
   "metadata": {},
   "source": [
    "# Sur predicted_loop_type"
   ]
  },
  {
   "cell_type": "markdown",
   "metadata": {},
   "source": [
    "### proportion de predicted_loop_type"
   ]
  },
  {
   "cell_type": "code",
   "execution_count": 13,
   "metadata": {},
   "outputs": [],
   "source": [
    "seq['prop_E']=seq.E.sum()/len(seq)\n",
    "seq['prop_H']=seq.H.sum()/len(seq)\n",
    "seq['prop_I']=seq.I.sum()/len(seq)\n",
    "seq['prop_M']=seq.M.sum()/len(seq)\n",
    "seq['prop_S']=seq.S.sum()/len(seq)\n",
    "seq['prop_X']=seq.X.sum()/len(seq)"
   ]
  },
  {
   "cell_type": "code",
   "execution_count": 14,
   "metadata": {},
   "outputs": [],
   "source": [
    "y = seq.loc[:,[\"reactivity\",\"deg_Mg_pH10\",\"deg_pH10\",\"deg_Mg_50C\",\"deg_50C\"]]\n",
    "X=seq.loc[:,['C', 'G', 'U','E', 'H', 'I', 'M', 'S', 'X', ')', '.','prop_E','prop_H','prop_I','prop_M',\n",
    "             'prop_S','prop_X']]"
   ]
  },
  {
   "cell_type": "code",
   "execution_count": 15,
   "metadata": {},
   "outputs": [],
   "source": [
    " X_train, X_test, y_train, y_true = train_test_split(X, y, test_size=0.2, random_state=1,shuffle=False)"
   ]
  },
  {
   "cell_type": "code",
   "execution_count": 16,
   "metadata": {},
   "outputs": [
    {
     "name": "stdout",
     "output_type": "stream",
     "text": [
      "score 0.43594320644040874\n"
     ]
    }
   ],
   "source": [
    "reg = LinearRegression()\n",
    "reg.fit(X_train,y_train)\n",
    "y_pred = reg.predict(X_test)\n",
    "print(\"score\", MCRMSE(y_true, y_pred))"
   ]
  },
  {
   "cell_type": "markdown",
   "metadata": {},
   "source": [
    "### ajout de longeur sequence loop_type"
   ]
  },
  {
   "cell_type": "code",
   "execution_count": 17,
   "metadata": {},
   "outputs": [],
   "source": [
    "y = seq.loc[:,[\"reactivity\",\"deg_Mg_pH10\",\"deg_pH10\",\"deg_Mg_50C\",\"deg_50C\"]]\n",
    "X=seq.loc[:,['N_loop_type', 'C', 'G', 'U','E', 'H', 'I', 'M', 'S', 'X', ')', '.']]"
   ]
  },
  {
   "cell_type": "code",
   "execution_count": 18,
   "metadata": {},
   "outputs": [],
   "source": [
    " X_train, X_test, y_train, y_true = train_test_split(X, y, test_size=0.2, random_state=1,shuffle=False)"
   ]
  },
  {
   "cell_type": "code",
   "execution_count": 19,
   "metadata": {},
   "outputs": [
    {
     "name": "stdout",
     "output_type": "stream",
     "text": [
      "score 0.4153390601852943\n"
     ]
    }
   ],
   "source": [
    "reg = LinearRegression()\n",
    "reg.fit(X_train,y_train)\n",
    "y_pred = reg.predict(X_test)\n",
    "print(\"score\", MCRMSE(y_true, y_pred))"
   ]
  },
  {
   "cell_type": "markdown",
   "metadata": {},
   "source": [
    "L'ajout de la longeur de la chaine semble améliorer le modèle."
   ]
  },
  {
   "cell_type": "markdown",
   "metadata": {},
   "source": [
    "### ajout la longeur de la séquence par lettre loop_type"
   ]
  },
  {
   "cell_type": "code",
   "execution_count": 20,
   "metadata": {},
   "outputs": [],
   "source": [
    "letters_loop_type_1=['E','H','I','M','S','X']\n",
    "\n",
    "def ajout_N_predicted_loop(data):\n",
    "    for i in letters_loop_type_1:\n",
    "        col = np.where(data[i]==1, data['N_loop_type'], 0) \n",
    "        data [\"N_\"+i] = col\n",
    "    col_B=np.where(data.N_E+data.N_H+data.N_I+data.N_M+data.N_S+data.N_X==0,data.N_loop_type,0)\n",
    "    data[\"N_B\"]=col_B\n",
    "    return data"
   ]
  },
  {
   "cell_type": "code",
   "execution_count": 21,
   "metadata": {},
   "outputs": [],
   "source": [
    "seq=ajout_N_predicted_loop(seq)"
   ]
  },
  {
   "cell_type": "code",
   "execution_count": 22,
   "metadata": {},
   "outputs": [],
   "source": [
    "y = seq.loc[:,[\"reactivity\",\"deg_Mg_pH10\",\"deg_pH10\",\"deg_Mg_50C\",\"deg_50C\"]]\n",
    "X=seq.loc[:,[ 'C', 'G', 'U','E', 'H', 'I', 'M', 'S', 'X', ')', \n",
    "             '.', 'N_E', 'N_H', 'N_I', 'N_M','N_S', 'N_X', 'N_B']]"
   ]
  },
  {
   "cell_type": "code",
   "execution_count": 23,
   "metadata": {},
   "outputs": [],
   "source": [
    "X_train, X_test, y_train, y_true = train_test_split(X, y, test_size=0.2, random_state=1,shuffle=False)"
   ]
  },
  {
   "cell_type": "code",
   "execution_count": 24,
   "metadata": {},
   "outputs": [
    {
     "name": "stdout",
     "output_type": "stream",
     "text": [
      "score 0.4129670426456875\n"
     ]
    }
   ],
   "source": [
    "reg = LinearRegression()\n",
    "reg.fit(X_train,y_train)\n",
    "y_pred = reg.predict(X_test)\n",
    "print(\"score\", MCRMSE(y_true, y_pred))"
   ]
  },
  {
   "cell_type": "markdown",
   "metadata": {},
   "source": [
    "Améliore également un peu le modèle"
   ]
  },
  {
   "cell_type": "markdown",
   "metadata": {},
   "source": [
    "### que la longeur de la séquence par lettre loop_type"
   ]
  },
  {
   "cell_type": "code",
   "execution_count": 25,
   "metadata": {},
   "outputs": [],
   "source": [
    "y = seq.loc[:,[\"reactivity\",\"deg_Mg_pH10\",\"deg_pH10\",\"deg_Mg_50C\",\"deg_50C\"]]\n",
    "X=seq.loc[:,[ 'C', 'G', 'U', ')','.', 'N_E', 'N_H', 'N_I', 'N_M','N_S', 'N_X', 'N_B']]"
   ]
  },
  {
   "cell_type": "code",
   "execution_count": 26,
   "metadata": {},
   "outputs": [],
   "source": [
    "X_train, X_test, y_train, y_true = train_test_split(X, y, test_size=0.2, random_state=1,shuffle=False)"
   ]
  },
  {
   "cell_type": "code",
   "execution_count": 27,
   "metadata": {},
   "outputs": [
    {
     "name": "stdout",
     "output_type": "stream",
     "text": [
      "score 0.43959432599836534\n"
     ]
    }
   ],
   "source": [
    "reg = LinearRegression()\n",
    "reg.fit(X_train,y_train)\n",
    "y_pred = reg.predict(X_test)\n",
    "print(\"score\", MCRMSE(y_true, y_pred))"
   ]
  },
  {
   "cell_type": "markdown",
   "metadata": {},
   "source": [
    "Modèle moins bon"
   ]
  },
  {
   "cell_type": "markdown",
   "metadata": {},
   "source": [
    "# Sur nucléotides"
   ]
  },
  {
   "cell_type": "markdown",
   "metadata": {},
   "source": [
    "### ajout de la proportion des nucléotides"
   ]
  },
  {
   "cell_type": "code",
   "execution_count": 28,
   "metadata": {},
   "outputs": [],
   "source": [
    "seq['prop_C']=seq.C.sum()/len(seq)\n",
    "seq['prop_G']=seq.G.sum()/len(seq)\n",
    "seq['prop_U']=seq.U.sum()/len(seq)"
   ]
  },
  {
   "cell_type": "code",
   "execution_count": 29,
   "metadata": {},
   "outputs": [],
   "source": [
    "y = seq.loc[:,[\"reactivity\",\"deg_Mg_pH10\",\"deg_pH10\",\"deg_Mg_50C\",\"deg_50C\"]]\n",
    "X=seq.loc[:,['C', 'G', 'U','E', 'H', 'I', 'M', 'S', 'X', ')', '.','prop_C','prop_G','prop_U']]"
   ]
  },
  {
   "cell_type": "code",
   "execution_count": 30,
   "metadata": {},
   "outputs": [],
   "source": [
    "X_train, X_test, y_train, y_true = train_test_split(X, y, test_size=0.2, random_state=1,shuffle=False)"
   ]
  },
  {
   "cell_type": "code",
   "execution_count": 31,
   "metadata": {},
   "outputs": [
    {
     "name": "stdout",
     "output_type": "stream",
     "text": [
      "score 0.4359232751205944\n"
     ]
    }
   ],
   "source": [
    "reg = LinearRegression()\n",
    "reg.fit(X_train,y_train)\n",
    "y_pred = reg.predict(X_test)\n",
    "print(\"score\", MCRMSE(y_true, y_pred))"
   ]
  },
  {
   "cell_type": "markdown",
   "metadata": {},
   "source": [
    "Le modèle ne change quasiment pas "
   ]
  },
  {
   "cell_type": "markdown",
   "metadata": {},
   "source": [
    "### ajout de la longeur de la séquence des nucléotides "
   ]
  },
  {
   "cell_type": "code",
   "execution_count": 32,
   "metadata": {},
   "outputs": [],
   "source": [
    "y = seq.loc[:,[\"reactivity\",\"deg_Mg_pH10\",\"deg_pH10\",\"deg_Mg_50C\",\"deg_50C\"]]\n",
    "X=seq.loc[:,['N_base', 'C', 'G', 'U','E', 'H', 'I', 'M', 'S', 'X', ')', '.']]"
   ]
  },
  {
   "cell_type": "code",
   "execution_count": 33,
   "metadata": {},
   "outputs": [],
   "source": [
    "X_train, X_test, y_train, y_true = train_test_split(X, y, test_size=0.2, random_state=1,shuffle=False)"
   ]
  },
  {
   "cell_type": "code",
   "execution_count": 34,
   "metadata": {},
   "outputs": [
    {
     "name": "stdout",
     "output_type": "stream",
     "text": [
      "score 0.4357248281682562\n"
     ]
    }
   ],
   "source": [
    "reg = LinearRegression()\n",
    "reg.fit(X_train,y_train)\n",
    "y_pred = reg.predict(X_test)\n",
    "print(\"score\", MCRMSE(y_true, y_pred))"
   ]
  },
  {
   "cell_type": "markdown",
   "metadata": {},
   "source": [
    "Améliore très legerement le modèle de base"
   ]
  },
  {
   "cell_type": "markdown",
   "metadata": {},
   "source": [
    "### ajout la longeur de la séquence des nucléotides"
   ]
  },
  {
   "cell_type": "code",
   "execution_count": 35,
   "metadata": {},
   "outputs": [],
   "source": [
    "letters_nucleotide_1=['C','G','U']\n",
    "\n",
    "def ajout_N_nucleotide(data):\n",
    "    for i in letters_nucleotide_1:\n",
    "        col = np.where(data[i]==1, data['N_base'], 0) \n",
    "        data [\"N_base_\"+i] = col\n",
    "    col_A=np.where(data.N_base_C+data.N_base_G+data.N_base_U==0,data.N_base,0)\n",
    "    data[\"N_base_A\"]=col_A\n",
    "    return data"
   ]
  },
  {
   "cell_type": "code",
   "execution_count": 36,
   "metadata": {},
   "outputs": [],
   "source": [
    "seq=ajout_N_nucleotide(seq)"
   ]
  },
  {
   "cell_type": "code",
   "execution_count": 37,
   "metadata": {},
   "outputs": [],
   "source": [
    "y = seq.loc[:,[\"reactivity\",\"deg_Mg_pH10\",\"deg_pH10\",\"deg_Mg_50C\",\"deg_50C\"]]\n",
    "X=seq.loc[:,['E', 'H', 'I', 'M', 'S', 'X', ')', \n",
    "             '.','C','G','U', 'N_base_A', 'N_base_C', 'N_base_G', 'N_base_U']]"
   ]
  },
  {
   "cell_type": "code",
   "execution_count": 38,
   "metadata": {},
   "outputs": [],
   "source": [
    "X_train, X_test, y_train, y_true = train_test_split(X, y, test_size=0.2, random_state=1,shuffle=False)"
   ]
  },
  {
   "cell_type": "code",
   "execution_count": 39,
   "metadata": {},
   "outputs": [
    {
     "name": "stdout",
     "output_type": "stream",
     "text": [
      "score 0.432973485022614\n"
     ]
    }
   ],
   "source": [
    "reg = LinearRegression()\n",
    "reg.fit(X_train,y_train)\n",
    "y_pred = reg.predict(X_test)\n",
    "print(\"score\", MCRMSE(y_true, y_pred))"
   ]
  },
  {
   "cell_type": "markdown",
   "metadata": {},
   "source": [
    "Amélioration plus nette"
   ]
  },
  {
   "cell_type": "markdown",
   "metadata": {},
   "source": [
    "### que la longeur de la séquence des nucléotides"
   ]
  },
  {
   "cell_type": "code",
   "execution_count": 40,
   "metadata": {},
   "outputs": [],
   "source": [
    "y = seq.loc[:,[\"reactivity\",\"deg_Mg_pH10\",\"deg_pH10\",\"deg_Mg_50C\",\"deg_50C\"]]\n",
    "X=seq.loc[:,['E', 'H', 'I', 'M', 'S', 'X', ')', \n",
    "             '.', 'N_base_A', 'N_base_C', 'N_base_G', 'N_base_U']]"
   ]
  },
  {
   "cell_type": "code",
   "execution_count": 41,
   "metadata": {},
   "outputs": [],
   "source": [
    "X_train, X_test, y_train, y_true = train_test_split(X, y, test_size=0.2, random_state=1,shuffle=False)"
   ]
  },
  {
   "cell_type": "code",
   "execution_count": 42,
   "metadata": {},
   "outputs": [
    {
     "name": "stdout",
     "output_type": "stream",
     "text": [
      "score 0.43350058365638605\n"
     ]
    }
   ],
   "source": [
    "reg = LinearRegression()\n",
    "reg.fit(X_train,y_train)\n",
    "y_pred = reg.predict(X_test)\n",
    "print(\"score\", MCRMSE(y_true, y_pred))"
   ]
  },
  {
   "cell_type": "markdown",
   "metadata": {},
   "source": [
    "N'améliore pas"
   ]
  },
  {
   "cell_type": "markdown",
   "metadata": {},
   "source": [
    "# Sur 'base_structure_type'"
   ]
  },
  {
   "cell_type": "markdown",
   "metadata": {},
   "source": [
    "### ajout de la longeur de la molécule"
   ]
  },
  {
   "cell_type": "code",
   "execution_count": 43,
   "metadata": {},
   "outputs": [],
   "source": [
    "y = seq.loc[:,[\"reactivity\",\"deg_Mg_pH10\",\"deg_pH10\",\"deg_Mg_50C\",\"deg_50C\"]]\n",
    "X=seq.loc[:,['C', 'G', 'U','E', 'H', 'I', 'M', 'S', 'X', ')', '.','N_point']]"
   ]
  },
  {
   "cell_type": "code",
   "execution_count": 44,
   "metadata": {},
   "outputs": [],
   "source": [
    "X_train, X_test, y_train, y_true = train_test_split(X, y, test_size=0.2, random_state=1,shuffle=False)"
   ]
  },
  {
   "cell_type": "code",
   "execution_count": 45,
   "metadata": {},
   "outputs": [
    {
     "name": "stdout",
     "output_type": "stream",
     "text": [
      "score 0.4283260041998166\n"
     ]
    }
   ],
   "source": [
    "reg = LinearRegression()\n",
    "reg.fit(X_train,y_train)\n",
    "y_pred = reg.predict(X_test)\n",
    "print(\"score\", MCRMSE(y_true, y_pred))"
   ]
  },
  {
   "cell_type": "markdown",
   "metadata": {},
   "source": [
    "Améliore le modèle"
   ]
  },
  {
   "cell_type": "markdown",
   "metadata": {},
   "source": [
    "# Modèle finale"
   ]
  },
  {
   "cell_type": "code",
   "execution_count": 46,
   "metadata": {},
   "outputs": [],
   "source": [
    "y = seq.loc[:,[\"reactivity\",\"deg_Mg_pH10\",\"deg_pH10\",\"deg_Mg_50C\",\"deg_50C\"]]\n",
    "X=seq.loc[:,[ 'C', 'G', 'U','E', 'H', 'I', 'M', 'S', 'X', ')', \n",
    "             '.', 'N_E', 'N_H', 'N_I', 'N_M','N_S', 'N_X', 'N_B',\n",
    "             'N_base_A', 'N_base_C', 'N_base_G', 'N_base_U','N_point']]"
   ]
  },
  {
   "cell_type": "code",
   "execution_count": 47,
   "metadata": {},
   "outputs": [],
   "source": [
    "X_train, X_test, y_train, y_true = train_test_split(X, y, test_size=0.2, random_state=1,shuffle=False)"
   ]
  },
  {
   "cell_type": "code",
   "execution_count": 48,
   "metadata": {},
   "outputs": [
    {
     "name": "stdout",
     "output_type": "stream",
     "text": [
      "score 0.4119529149260742\n"
     ]
    }
   ],
   "source": [
    "reg = LinearRegression()\n",
    "reg.fit(X_train,y_train)\n",
    "y_pred = reg.predict(X_test)\n",
    "print(\"score\", MCRMSE(y_true, y_pred))"
   ]
  },
  {
   "cell_type": "code",
   "execution_count": 49,
   "metadata": {},
   "outputs": [],
   "source": [
    "train=seq.loc[:,[\"reactivity\",\"deg_Mg_pH10\",\"deg_pH10\",\"deg_Mg_50C\",\"deg_50C\",\n",
    "                 'C', 'G', 'U','E', 'H', 'I', 'M', 'S', 'X', ')', \n",
    "             '.', 'N_E', 'N_H', 'N_I', 'N_M','N_S', 'N_X', 'N_B',\n",
    "             'N_base_A', 'N_base_C', 'N_base_G', 'N_base_U','N_point']]\n",
    "train.to_csv('train_model.csv', index=False)"
   ]
  },
  {
   "cell_type": "markdown",
   "metadata": {},
   "source": [
    "## Avec penalisation Ridge"
   ]
  },
  {
   "cell_type": "code",
   "execution_count": 50,
   "metadata": {},
   "outputs": [],
   "source": [
    "X_train, X_test, y_train, y_true = train_test_split(X, y, test_size=0.2, random_state=1,shuffle=False)"
   ]
  },
  {
   "cell_type": "code",
   "execution_count": 51,
   "metadata": {},
   "outputs": [],
   "source": [
    "res=[]\n",
    "vect=np.arange(200,600,1)\n",
    "for i in vect:\n",
    "    rid = Ridge(i).fit(X_train, y_train)\n",
    "    y_pred= rid.predict(X_test)\n",
    "    res.append(MCRMSE(y_true, y_pred))"
   ]
  },
  {
   "cell_type": "code",
   "execution_count": 52,
   "metadata": {},
   "outputs": [
    {
     "data": {
      "text/plain": [
       "[<matplotlib.lines.Line2D at 0x7f8218d7a2d0>]"
      ]
     },
     "execution_count": 52,
     "metadata": {},
     "output_type": "execute_result"
    },
    {
     "data": {
      "image/png": "[encoded data removed]",
      "text/plain": [
       "<Figure size 432x288 with 1 Axes>"
      ]
     },
     "metadata": {
      "needs_background": "light"
     },
     "output_type": "display_data"
    }
   ],
   "source": [
    "plt.plot(vect,res)"
   ]
  },
  {
   "cell_type": "code",
   "execution_count": 53,
   "metadata": {},
   "outputs": [
    {
     "name": "stdout",
     "output_type": "stream",
     "text": [
      "alpha=  408\n",
      "0.4116560870563001\n"
     ]
    }
   ],
   "source": [
    "alpha=vect[res.index(min(res))] #optimal parameter\n",
    "rid = Ridge(alpha).fit(X_train, y_train)\n",
    "y_pred= rid.predict(X_test)\n",
    "print('alpha= ',alpha)\n",
    "print(MCRMSE(y_true, y_pred))"
   ]
  },
  {
   "cell_type": "markdown",
   "metadata": {},
   "source": [
    "## Avec pénalisation lasso"
   ]
  },
  {
   "cell_type": "code",
   "execution_count": 54,
   "metadata": {},
   "outputs": [],
   "source": [
    "res2=[]\n",
    "vect2=np.arange(0.0001,0.005,0.0001)\n",
    "for i in vect2:\n",
    "    las = Lasso(i).fit(X_train, y_train)\n",
    "    y_pred= las.predict(X_test)\n",
    "    res2.append(MCRMSE(y_true, y_pred))"
   ]
  },
  {
   "cell_type": "code",
   "execution_count": 55,
   "metadata": {},
   "outputs": [
    {
     "data": {
      "text/plain": [
       "[<matplotlib.lines.Line2D at 0x7f821d4e2790>]"
      ]
     },
     "execution_count": 55,
     "metadata": {},
     "output_type": "execute_result"
    },
    {
     "data": {
      "image/png": "[encoded data removed]",
      "text/plain": [
       "<Figure size 432x288 with 1 Axes>"
      ]
     },
     "metadata": {
      "needs_background": "light"
     },
     "output_type": "display_data"
    }
   ],
   "source": [
    "plt.plot(vect2,res2)"
   ]
  },
  {
   "cell_type": "code",
   "execution_count": 56,
   "metadata": {},
   "outputs": [
    {
     "name": "stdout",
     "output_type": "stream",
     "text": [
      "alpha=  0.0012000000000000001\n",
      "0.4112330036294045\n"
     ]
    }
   ],
   "source": [
    "alpha2=vect2[res2.index(min(res2))] #optimal parameter\n",
    "las = Lasso(alpha2).fit(X_train, y_train)\n",
    "y_pred= las.predict(X_test)\n",
    "print('alpha= ',alpha2)\n",
    "print(MCRMSE(y_true, y_pred))"
   ]
  },
  {
   "cell_type": "code",
   "execution_count": null,
   "metadata": {},
   "outputs": [],
   "source": []
  }
 ],
 "metadata": {
  "kernelspec": {
   "display_name": "Python 3",
   "language": "python",
   "name": "python3"
  },
  "language_info": {
   "codemirror_mode": {
    "name": "ipython",
    "version": 3
   },
   "file_extension": ".py",
   "mimetype": "text/x-python",
   "name": "python",
   "nbconvert_exporter": "python",
   "pygments_lexer": "ipython3",
   "version": "3.7.4"
  }
 },
 "nbformat": 4,
 "nbformat_minor": 2
}
