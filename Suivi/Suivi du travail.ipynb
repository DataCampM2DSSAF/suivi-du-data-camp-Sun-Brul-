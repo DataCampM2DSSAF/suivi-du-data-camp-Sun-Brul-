{
 "cells": [
  {
   "cell_type": "markdown",
   "metadata": {},
   "source": [
    "# Suivi du travail effectué"
   ]
  },
  {
   "cell_type": "markdown",
   "metadata": {},
   "source": [
    "## 22 janvier-5 février"
   ]
  },
  {
   "cell_type": "markdown",
   "metadata": {},
   "source": [
    "Travai effectué:\n",
    "- Compréhension des données\n",
    "- Étude de la corrélation entre les variables\n",
    "- Étude de la dégradation et de la réactivité en fonction du millieu \n",
    "- Étude de la dégradation et de la réactivité en fonction des nucléotides\n",
    "- Étude de la dégradation et de la réactivité en fonction de \"predicted_loop_type\" (type d'angenssement des nucléotides) et du millieu\n",
    "- Étude des données dites de mauvaises qualités avec \"SN_filter\"\t\n",
    "\n",
    "\n",
    "- Nous pensons également que la longueur des chaines de lettre dans \"predicted_loop_type\" peut faire varier la réactiviter et la dégradation "
   ]
  },
  {
   "cell_type": "markdown",
   "metadata": {},
   "source": [
    "## 5 au 19 février "
   ]
  },
  {
   "cell_type": "markdown",
   "metadata": {},
   "source": [
    "Travail a effectuer pour vendredi 12 février:\n",
    "- Étude des corrélations entre les lettres/ lettre dégradation \n",
    "- Finir la longeur des formes "
   ]
  },
  {
   "cell_type": "markdown",
   "metadata": {},
   "source": [
    "Piste à suivre \n",
    "- Comment utiliser \"structure\" ou pas ?\n",
    "- Essayer de trouver un modèle"
   ]
  },
  {
   "cell_type": "code",
   "execution_count": null,
   "metadata": {},
   "outputs": [],
   "source": []
  }
 ],
 "metadata": {
  "kernelspec": {
   "display_name": "Python 3",
   "language": "python",
   "name": "python3"
  },
  "language_info": {
   "codemirror_mode": {
    "name": "ipython",
    "version": 3
   },
   "file_extension": ".py",
   "mimetype": "text/x-python",
   "name": "python",
   "nbconvert_exporter": "python",
   "pygments_lexer": "ipython3",
   "version": "3.7.4"
  }
 },
 "nbformat": 4,
 "nbformat_minor": 2
}
