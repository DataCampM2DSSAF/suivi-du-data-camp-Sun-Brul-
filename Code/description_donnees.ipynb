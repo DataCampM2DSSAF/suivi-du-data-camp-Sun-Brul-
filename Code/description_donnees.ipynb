{
 "cells": [
  {
   "cell_type": "markdown",
   "metadata": {
    "papermill": {
     "duration": 0.018689,
     "end_time": "2021-02-24T17:43:48.939248",
     "exception": false,
     "start_time": "2021-02-24T17:43:48.920559",
     "status": "completed"
    },
    "tags": []
   },
   "source": [
    "**Import **"
   ]
  },
  {
   "cell_type": "code",
   "execution_count": 330,
   "metadata": {
    "execution": {
     "iopub.execute_input": "2021-02-24T17:43:48.983250Z",
     "iopub.status.busy": "2021-02-24T17:43:48.982273Z",
     "iopub.status.idle": "2021-02-24T17:43:50.846196Z",
     "shell.execute_reply": "2021-02-24T17:43:50.844574Z"
    },
    "papermill": {
     "duration": 1.891528,
     "end_time": "2021-02-24T17:43:50.846329",
     "exception": false,
     "start_time": "2021-02-24T17:43:48.954801",
     "status": "completed"
    },
    "tags": []
   },
   "outputs": [],
   "source": [
    "## copy pretrain model to working dir\n",
    "import shutil\n",
    "import glob\n",
    "import numpy as np # linear algebra\n",
    "import pandas as pd # data processing, CSV file I/O (e.g. pd.read_csv)\n",
    "import gc\n",
    "import os\n",
    "import matplotlib.pyplot as plt\n",
    "%matplotlib inline\n",
    "\n",
    "import json\n",
    "import glob\n",
    "from tqdm.notebook import tqdm\n",
    "import seaborn as sns\n",
    "\n",
    "\n",
    "\n",
    "train = pd.read_json(\"/Users/romainbrule/Documents/Cours/Master2/KAGGLE/stanford-covid-vaccine/train.json\",lines=True)\n",
    "test  = pd.read_json(\"/Users/romainbrule/Documents/Cours/Master2/KAGGLE/stanford-covid-vaccine/test.json\",lines=True)\n",
    "#test_pub = test[test[\"seq_length\"] == 107]\n",
    "#test_pri = test[test[\"seq_length\"] == 130]\n",
    "#sub = pd.read_csv(\"/kaggle/input/stanford-covid-vaccine/sample_submission.csv\")\n"
   ]
  },
  {
   "cell_type": "code",
   "execution_count": 138,
   "metadata": {
    "execution": {
     "iopub.execute_input": "2021-02-24T17:43:50.885862Z",
     "iopub.status.busy": "2021-02-24T17:43:50.885189Z",
     "iopub.status.idle": "2021-02-24T17:43:51.072396Z",
     "shell.execute_reply": "2021-02-24T17:43:51.072910Z"
    },
    "papermill": {
     "duration": 0.209438,
     "end_time": "2021-02-24T17:43:51.073046",
     "exception": false,
     "start_time": "2021-02-24T17:43:50.863608",
     "status": "completed"
    },
    "tags": []
   },
   "outputs": [
    {
     "data": {
      "text/html": [
       "<div>\n",
       "<style scoped>\n",
       "    .dataframe tbody tr th:only-of-type {\n",
       "        vertical-align: middle;\n",
       "    }\n",
       "\n",
       "    .dataframe tbody tr th {\n",
       "        vertical-align: top;\n",
       "    }\n",
       "\n",
       "    .dataframe thead th {\n",
       "        text-align: right;\n",
       "    }\n",
       "</style>\n",
       "<table border=\"1\" class=\"dataframe\">\n",
       "  <thead>\n",
       "    <tr style=\"text-align: right;\">\n",
       "      <th></th>\n",
       "      <th>id</th>\n",
       "      <th>sequence</th>\n",
       "      <th>structure</th>\n",
       "      <th>predicted_loop_type</th>\n",
       "      <th>signal_to_noise</th>\n",
       "      <th>SN_filter</th>\n",
       "      <th>seq_length</th>\n",
       "      <th>seq_scored</th>\n",
       "      <th>reactivity_error</th>\n",
       "      <th>deg_error_Mg_pH10</th>\n",
       "      <th>deg_error_pH10</th>\n",
       "      <th>deg_error_Mg_50C</th>\n",
       "      <th>deg_error_50C</th>\n",
       "      <th>reactivity</th>\n",
       "      <th>deg_Mg_pH10</th>\n",
       "      <th>deg_pH10</th>\n",
       "      <th>deg_Mg_50C</th>\n",
       "      <th>deg_50C</th>\n",
       "    </tr>\n",
       "    <tr>\n",
       "      <th>index</th>\n",
       "      <th></th>\n",
       "      <th></th>\n",
       "      <th></th>\n",
       "      <th></th>\n",
       "      <th></th>\n",
       "      <th></th>\n",
       "      <th></th>\n",
       "      <th></th>\n",
       "      <th></th>\n",
       "      <th></th>\n",
       "      <th></th>\n",
       "      <th></th>\n",
       "      <th></th>\n",
       "      <th></th>\n",
       "      <th></th>\n",
       "      <th></th>\n",
       "      <th></th>\n",
       "      <th></th>\n",
       "    </tr>\n",
       "  </thead>\n",
       "  <tbody>\n",
       "    <tr>\n",
       "      <td>0</td>\n",
       "      <td>id_001f94081</td>\n",
       "      <td>GGAAAAGCUCUAAUAACAGGAGACUAGGACUACGUAUUUCUAGGUA...</td>\n",
       "      <td>.....((((((.......)))).)).((.....((..((((((......</td>\n",
       "      <td>EEEEESSSSSSHHHHHHHSSSSBSSXSSIIIIISSIISSSSSSHHH...</td>\n",
       "      <td>6.894</td>\n",
       "      <td>1</td>\n",
       "      <td>107</td>\n",
       "      <td>68</td>\n",
       "      <td>[0.1359, 0.20700000000000002, 0.1633, 0.1452, ...</td>\n",
       "      <td>[0.26130000000000003, 0.38420000000000004, 0.1...</td>\n",
       "      <td>[0.2631, 0.28600000000000003, 0.0964, 0.1574, ...</td>\n",
       "      <td>[0.1501, 0.275, 0.0947, 0.18660000000000002, 0...</td>\n",
       "      <td>[0.2167, 0.34750000000000003, 0.188, 0.2124, 0...</td>\n",
       "      <td>[0.3297, 1.5693000000000001, 1.1227, 0.8686, 0...</td>\n",
       "      <td>[0.7556, 2.983, 0.2526, 1.3789, 0.637600000000...</td>\n",
       "      <td>[2.3375, 3.5060000000000002, 0.3008, 1.0108, 0...</td>\n",
       "      <td>[0.35810000000000003, 2.9683, 0.2589, 1.4552, ...</td>\n",
       "      <td>[0.6382, 3.4773, 0.9988, 1.3228, 0.78770000000...</td>\n",
       "    </tr>\n",
       "    <tr>\n",
       "      <td>1</td>\n",
       "      <td>id_0049f53ba</td>\n",
       "      <td>GGAAAAAGCGCGCGCGGUUAGCGCGCGCUUUUGCGCGCGCUGUACC...</td>\n",
       "      <td>.....(((((((((((((((((((((((....)))))))))).)))...</td>\n",
       "      <td>EEEEESSSSSSSSSSSSSSSSSSSSSSSHHHHSSSSSSSSSSBSSS...</td>\n",
       "      <td>0.193</td>\n",
       "      <td>0</td>\n",
       "      <td>107</td>\n",
       "      <td>68</td>\n",
       "      <td>[2.8272, 2.8272, 2.8272, 4.7343, 2.5676, 2.567...</td>\n",
       "      <td>[73705.3985, 73705.3985, 73705.3985, 73705.398...</td>\n",
       "      <td>[10.1986, 9.2418, 5.0933, 5.0933, 5.0933, 5.09...</td>\n",
       "      <td>[16.6174, 13.868, 8.1968, 8.1968, 8.1968, 8.19...</td>\n",
       "      <td>[15.4857, 7.9596, 13.3957, 5.8777, 5.8777, 5.8...</td>\n",
       "      <td>[0.0, 0.0, 0.0, 2.2965, 0.0, 0.0, 0.0, 0.0, 0....</td>\n",
       "      <td>[0.0, 0.0, 0.0, 0.0, 0.0, 0.0, 0.0, 0.0, 0.0, ...</td>\n",
       "      <td>[4.947, 4.4523, 0.0, 0.0, 0.0, 0.0, 0.0, 0.0, ...</td>\n",
       "      <td>[4.8511, 4.0426, 0.0, 0.0, 0.0, 0.0, 0.0, 0.0,...</td>\n",
       "      <td>[7.6692, 0.0, 10.9561, 0.0, 0.0, 0.0, 0.0, 0.0...</td>\n",
       "    </tr>\n",
       "    <tr>\n",
       "      <td>2</td>\n",
       "      <td>id_006f36f57</td>\n",
       "      <td>GGAAAGUGCUCAGAUAAGCUAAGCUCGAAUAGCAAUCGAAUAGAAU...</td>\n",
       "      <td>.....((((.((.....((((.(((.....)))..((((......)...</td>\n",
       "      <td>EEEEESSSSISSIIIIISSSSMSSSHHHHHSSSMMSSSSHHHHHHS...</td>\n",
       "      <td>8.800</td>\n",
       "      <td>1</td>\n",
       "      <td>107</td>\n",
       "      <td>68</td>\n",
       "      <td>[0.0931, 0.13290000000000002, 0.11280000000000...</td>\n",
       "      <td>[0.1365, 0.2237, 0.1812, 0.1333, 0.1148, 0.160...</td>\n",
       "      <td>[0.17020000000000002, 0.178, 0.111, 0.091, 0.0...</td>\n",
       "      <td>[0.1033, 0.1464, 0.1126, 0.09620000000000001, ...</td>\n",
       "      <td>[0.14980000000000002, 0.1761, 0.1517, 0.116700...</td>\n",
       "      <td>[0.44820000000000004, 1.4822, 1.1819, 0.743400...</td>\n",
       "      <td>[0.2504, 1.4021, 0.9804, 0.49670000000000003, ...</td>\n",
       "      <td>[2.243, 2.9361, 1.0553, 0.721, 0.6396000000000...</td>\n",
       "      <td>[0.5163, 1.6823000000000001, 1.0426, 0.7902, 0...</td>\n",
       "      <td>[0.9501000000000001, 1.7974999999999999, 1.499...</td>\n",
       "    </tr>\n",
       "    <tr>\n",
       "      <td>3</td>\n",
       "      <td>id_0082d463b</td>\n",
       "      <td>GGAAAAGCGCGCGCGCGCGCGCGAAAAAGCGCGCGCGCGCGCGCGC...</td>\n",
       "      <td>......((((((((((((((((......))))))))))))))))((...</td>\n",
       "      <td>EEEEEESSSSSSSSSSSSSSSSHHHHHHSSSSSSSSSSSSSSSSSS...</td>\n",
       "      <td>0.104</td>\n",
       "      <td>0</td>\n",
       "      <td>107</td>\n",
       "      <td>68</td>\n",
       "      <td>[3.5229, 6.0748, 3.0374, 3.0374, 3.0374, 3.037...</td>\n",
       "      <td>[73705.3985, 73705.3985, 73705.3985, 73705.398...</td>\n",
       "      <td>[11.8007, 12.7566, 5.7733, 5.7733, 5.7733, 5.7...</td>\n",
       "      <td>[121286.7181, 121286.7182, 121286.7181, 121286...</td>\n",
       "      <td>[15.3995, 8.1124, 7.7824, 7.7824, 7.7824, 7.78...</td>\n",
       "      <td>[0.0, 2.2399, 0.0, 0.0, 0.0, 0.0, 0.0, 0.0, 0....</td>\n",
       "      <td>[0.0, -0.5083, 0.0, 0.0, 0.0, 0.0, 0.0, 0.0, 0...</td>\n",
       "      <td>[3.4248, 6.8128, 0.0, 0.0, 0.0, 0.0, 0.0, 0.0,...</td>\n",
       "      <td>[0.0, -0.8365, 0.0, 0.0, 0.0, 0.0, 0.0, 0.0, 0...</td>\n",
       "      <td>[7.6692, -1.3223, 0.0, 0.0, 0.0, 0.0, 0.0, 0.0...</td>\n",
       "    </tr>\n",
       "    <tr>\n",
       "      <td>4</td>\n",
       "      <td>id_0087940f4</td>\n",
       "      <td>GGAAAAUAUAUAAUAUAUUAUAUAAAUAUAUUAUAGAAGUAUAAUA...</td>\n",
       "      <td>.....(((((((.((((((((((((.(((((((((....)))))))...</td>\n",
       "      <td>EEEEESSSSSSSBSSSSSSSSSSSSBSSSSSSSSSHHHHSSSSSSS...</td>\n",
       "      <td>0.423</td>\n",
       "      <td>0</td>\n",
       "      <td>107</td>\n",
       "      <td>68</td>\n",
       "      <td>[1.665, 2.1728, 2.0041, 1.2405, 0.620200000000...</td>\n",
       "      <td>[4.2139, 3.9637000000000002, 3.2467, 2.4716, 1...</td>\n",
       "      <td>[3.0942, 3.015, 2.1212, 2.0552, 0.881500000000...</td>\n",
       "      <td>[2.6717, 2.4818, 1.9919, 2.5484999999999998, 1...</td>\n",
       "      <td>[1.3285, 3.6173, 1.3057, 1.3021, 1.1507, 1.150...</td>\n",
       "      <td>[0.8267, 2.6577, 2.8481, 0.40090000000000003, ...</td>\n",
       "      <td>[2.1058, 3.138, 2.5437000000000003, 1.0932, 0....</td>\n",
       "      <td>[4.7366, 4.6243, 1.2068, 1.1538, 0.0, 0.0, 0.7...</td>\n",
       "      <td>[2.2052, 1.7947000000000002, 0.7457, 3.1233, 0...</td>\n",
       "      <td>[0.0, 5.1198, -0.3551, -0.3518, 0.0, 0.0, 0.0,...</td>\n",
       "    </tr>\n",
       "    <tr>\n",
       "      <td>...</td>\n",
       "      <td>...</td>\n",
       "      <td>...</td>\n",
       "      <td>...</td>\n",
       "      <td>...</td>\n",
       "      <td>...</td>\n",
       "      <td>...</td>\n",
       "      <td>...</td>\n",
       "      <td>...</td>\n",
       "      <td>...</td>\n",
       "      <td>...</td>\n",
       "      <td>...</td>\n",
       "      <td>...</td>\n",
       "      <td>...</td>\n",
       "      <td>...</td>\n",
       "      <td>...</td>\n",
       "      <td>...</td>\n",
       "      <td>...</td>\n",
       "      <td>...</td>\n",
       "    </tr>\n",
       "    <tr>\n",
       "      <td>2395</td>\n",
       "      <td>id_ff84602f7</td>\n",
       "      <td>GGAAAAUAGCAGAGGAAAUACUAGAGCAAUUGCAAAGGCCGAUCAU...</td>\n",
       "      <td>........((..((......))...)).........(((..........</td>\n",
       "      <td>EEEEEEEESSIISSHHHHHHSSIIISSXXXXXXXXXSSSHHHHHHH...</td>\n",
       "      <td>4.036</td>\n",
       "      <td>1</td>\n",
       "      <td>107</td>\n",
       "      <td>68</td>\n",
       "      <td>[0.2585, 0.29710000000000003, 0.2748, 0.205000...</td>\n",
       "      <td>[0.2745, 0.37010000000000004, 0.291, 0.1137000...</td>\n",
       "      <td>[0.3446, 0.3815, 0.26940000000000003, 0.1182, ...</td>\n",
       "      <td>[0.2093, 0.2985, 0.2922, 0.08360000000000001, ...</td>\n",
       "      <td>[0.29460000000000003, 0.40850000000000003, 0.3...</td>\n",
       "      <td>[0.6957, 1.251, 1.3235999999999999, 0.7521, 0....</td>\n",
       "      <td>[0.6439, 2.0117, 1.3682, 0.0918, 0.65860000000...</td>\n",
       "      <td>[2.1589, 3.3601, 1.6179000000000001, 0.1344000...</td>\n",
       "      <td>[0.47900000000000004, 1.9583, 2.4635, 0.0512, ...</td>\n",
       "      <td>[0.5759000000000001, 2.3736, 1.4158, 0.1914000...</td>\n",
       "    </tr>\n",
       "    <tr>\n",
       "      <td>2396</td>\n",
       "      <td>id_ff85fcdba</td>\n",
       "      <td>GGAAAACAAAAACAAACAACAAAAACAAACAACAAAAACAAACAAC...</td>\n",
       "      <td>.................................................</td>\n",
       "      <td>EEEEEEEEEEEEEEEEEEEEEEEEEEEEEEEEEEEEEEEEEEEEEE...</td>\n",
       "      <td>3.227</td>\n",
       "      <td>1</td>\n",
       "      <td>107</td>\n",
       "      <td>68</td>\n",
       "      <td>[0.2169, 0.2513, 0.2303, 0.22260000000000002, ...</td>\n",
       "      <td>[0.1883, 0.22790000000000002, 0.1497, 0.154300...</td>\n",
       "      <td>[0.5582, 0.4887, 0.3845, 0.34040000000000004, ...</td>\n",
       "      <td>[0.2758, 0.3659, 0.2155, 0.28340000000000004, ...</td>\n",
       "      <td>[0.401, 0.388, 0.3403, 0.3608, 0.3057, 0.242, ...</td>\n",
       "      <td>[0.2891, 0.4496, 0.7165, 0.7128, 0.59310000000...</td>\n",
       "      <td>[0.3619, 0.6924, 0.2988, 0.3639, 0.545, 0.2263...</td>\n",
       "      <td>[2.8541, 1.6106, 1.4343, 1.0797, 0.6803, 0.559...</td>\n",
       "      <td>[0.2964, 0.9351, 0.2555, 0.7603000000000001, 0...</td>\n",
       "      <td>[0.6526000000000001, 0.2548, 0.6927, 0.9316000...</td>\n",
       "    </tr>\n",
       "    <tr>\n",
       "      <td>2397</td>\n",
       "      <td>id_ffa99f541</td>\n",
       "      <td>GGAAAGCCAUACCUAGGCUUCGGCCUAGGUAUGGCGGUGAUCUGGU...</td>\n",
       "      <td>.....(((((((((((((....)))))))))))))(((((((((((...</td>\n",
       "      <td>EEEEESSSSSSSSSSSSSHHHHSSSSSSSSSSSSSSSSSSSSSSSS...</td>\n",
       "      <td>0.345</td>\n",
       "      <td>0</td>\n",
       "      <td>107</td>\n",
       "      <td>68</td>\n",
       "      <td>[1.5567, 1.2999, 0.9492, 0.9879, 0.8146, 0.455...</td>\n",
       "      <td>[1.9599000000000002, 1.3505, 1.619600000000000...</td>\n",
       "      <td>[3.7554, 2.618, 2.0539, 0.9674, 1.6963, 1.6687...</td>\n",
       "      <td>[1.545, 1.7649, 1.2032, 0.9904000000000001, 1....</td>\n",
       "      <td>[4.747, 4.8132, 3.0986, 2.9818, 2.8738, 1.4856...</td>\n",
       "      <td>[1.6204, 1.7046000000000001, 0.6201, 0.795, 0....</td>\n",
       "      <td>[1.7708, 0.67, 1.7689, 1.0919, 0.0, 0.0, 0.0, ...</td>\n",
       "      <td>[6.4088, 3.4249, 1.649, 0.0, 0.8095, 0.7951, 0...</td>\n",
       "      <td>[0.6038, 3.0322, 0.9703, 0.4756, 0.9154, 0.0, ...</td>\n",
       "      <td>[2.9632, 6.3911999999999995, 1.5339, 1.4749, 1...</td>\n",
       "    </tr>\n",
       "    <tr>\n",
       "      <td>2398</td>\n",
       "      <td>id_ffe06f3fe</td>\n",
       "      <td>GGAAACGAUAGCAGAAGAGAUCGAUAUAGAGCAUAAGCUAAGAAUA...</td>\n",
       "      <td>.....((((..(....)..))))......(((....)))..........</td>\n",
       "      <td>EEEEESSSSIISHHHHSIISSSSXXXXXXSSSHHHHSSSXXXXXXX...</td>\n",
       "      <td>5.553</td>\n",
       "      <td>0</td>\n",
       "      <td>107</td>\n",
       "      <td>68</td>\n",
       "      <td>[0.1431, 0.1847, 0.15960000000000002, 0.1466, ...</td>\n",
       "      <td>[0.13970000000000002, 0.2404, 0.1443, 0.122400...</td>\n",
       "      <td>[0.2275, 0.2394, 0.14350000000000002, 0.1273, ...</td>\n",
       "      <td>[0.0944, 0.1453, 0.1067, 0.0994, 0.06470000000...</td>\n",
       "      <td>[0.1691, 0.22740000000000002, 0.178, 0.1762, 0...</td>\n",
       "      <td>[0.6919000000000001, 1.4823, 1.3685, 1.2473, 0...</td>\n",
       "      <td>[0.4544, 2.4603, 0.8778, 0.6402, 0.28340000000...</td>\n",
       "      <td>[2.7157999999999998, 3.1249000000000002, 1.137...</td>\n",
       "      <td>[0.3262, 1.3932, 0.8832000000000001, 0.8144, 0...</td>\n",
       "      <td>[0.5814, 1.5119, 1.1749, 1.2676, 0.22190000000...</td>\n",
       "    </tr>\n",
       "    <tr>\n",
       "      <td>2399</td>\n",
       "      <td>id_fff546103</td>\n",
       "      <td>GGAAAGCUAGGACGUGGGAGCGUAGCUCUCCACACGGGUACGCCAA...</td>\n",
       "      <td>.....((((((((((((((((...)))).)))).((((((((((.....</td>\n",
       "      <td>EEEEESSSSSSSSSSSSSSSSHHHSSSSBSSSSMSSSSSSSSSSHH...</td>\n",
       "      <td>6.545</td>\n",
       "      <td>1</td>\n",
       "      <td>107</td>\n",
       "      <td>68</td>\n",
       "      <td>[0.1782, 0.2043, 0.1842, 0.13240000000000002, ...</td>\n",
       "      <td>[0.3272, 0.3558, 0.27440000000000003, 0.222600...</td>\n",
       "      <td>[0.2958, 0.28140000000000004, 0.19410000000000...</td>\n",
       "      <td>[0.22060000000000002, 0.254, 0.2109, 0.1636, 0...</td>\n",
       "      <td>[0.2379, 0.27590000000000003, 0.22160000000000...</td>\n",
       "      <td>[1.0102, 1.7928000000000002, 1.9228, 0.9649000...</td>\n",
       "      <td>[1.4842, 2.4813, 1.737, 1.2082, 0.959000000000...</td>\n",
       "      <td>[2.3588, 2.2161, 1.2522, 0.7875000000000001, 0...</td>\n",
       "      <td>[1.3281, 2.3854, 2.0464, 1.2384, 0.631, 0.1848...</td>\n",
       "      <td>[0.7043, 1.4864, 1.3035, 1.2176, 0.82900000000...</td>\n",
       "    </tr>\n",
       "  </tbody>\n",
       "</table>\n",
       "<p>2400 rows × 18 columns</p>\n",
       "</div>"
      ],
      "text/plain": [
       "                 id                                           sequence  \\\n",
       "index                                                                    \n",
       "0      id_001f94081  GGAAAAGCUCUAAUAACAGGAGACUAGGACUACGUAUUUCUAGGUA...   \n",
       "1      id_0049f53ba  GGAAAAAGCGCGCGCGGUUAGCGCGCGCUUUUGCGCGCGCUGUACC...   \n",
       "2      id_006f36f57  GGAAAGUGCUCAGAUAAGCUAAGCUCGAAUAGCAAUCGAAUAGAAU...   \n",
       "3      id_0082d463b  GGAAAAGCGCGCGCGCGCGCGCGAAAAAGCGCGCGCGCGCGCGCGC...   \n",
       "4      id_0087940f4  GGAAAAUAUAUAAUAUAUUAUAUAAAUAUAUUAUAGAAGUAUAAUA...   \n",
       "...             ...                                                ...   \n",
       "2395   id_ff84602f7  GGAAAAUAGCAGAGGAAAUACUAGAGCAAUUGCAAAGGCCGAUCAU...   \n",
       "2396   id_ff85fcdba  GGAAAACAAAAACAAACAACAAAAACAAACAACAAAAACAAACAAC...   \n",
       "2397   id_ffa99f541  GGAAAGCCAUACCUAGGCUUCGGCCUAGGUAUGGCGGUGAUCUGGU...   \n",
       "2398   id_ffe06f3fe  GGAAACGAUAGCAGAAGAGAUCGAUAUAGAGCAUAAGCUAAGAAUA...   \n",
       "2399   id_fff546103  GGAAAGCUAGGACGUGGGAGCGUAGCUCUCCACACGGGUACGCCAA...   \n",
       "\n",
       "                                               structure  \\\n",
       "index                                                      \n",
       "0      .....((((((.......)))).)).((.....((..((((((......   \n",
       "1      .....(((((((((((((((((((((((....)))))))))).)))...   \n",
       "2      .....((((.((.....((((.(((.....)))..((((......)...   \n",
       "3      ......((((((((((((((((......))))))))))))))))((...   \n",
       "4      .....(((((((.((((((((((((.(((((((((....)))))))...   \n",
       "...                                                  ...   \n",
       "2395   ........((..((......))...)).........(((..........   \n",
       "2396   .................................................   \n",
       "2397   .....(((((((((((((....)))))))))))))(((((((((((...   \n",
       "2398   .....((((..(....)..))))......(((....)))..........   \n",
       "2399   .....((((((((((((((((...)))).)))).((((((((((.....   \n",
       "\n",
       "                                     predicted_loop_type  signal_to_noise  \\\n",
       "index                                                                       \n",
       "0      EEEEESSSSSSHHHHHHHSSSSBSSXSSIIIIISSIISSSSSSHHH...            6.894   \n",
       "1      EEEEESSSSSSSSSSSSSSSSSSSSSSSHHHHSSSSSSSSSSBSSS...            0.193   \n",
       "2      EEEEESSSSISSIIIIISSSSMSSSHHHHHSSSMMSSSSHHHHHHS...            8.800   \n",
       "3      EEEEEESSSSSSSSSSSSSSSSHHHHHHSSSSSSSSSSSSSSSSSS...            0.104   \n",
       "4      EEEEESSSSSSSBSSSSSSSSSSSSBSSSSSSSSSHHHHSSSSSSS...            0.423   \n",
       "...                                                  ...              ...   \n",
       "2395   EEEEEEEESSIISSHHHHHHSSIIISSXXXXXXXXXSSSHHHHHHH...            4.036   \n",
       "2396   EEEEEEEEEEEEEEEEEEEEEEEEEEEEEEEEEEEEEEEEEEEEEE...            3.227   \n",
       "2397   EEEEESSSSSSSSSSSSSHHHHSSSSSSSSSSSSSSSSSSSSSSSS...            0.345   \n",
       "2398   EEEEESSSSIISHHHHSIISSSSXXXXXXSSSHHHHSSSXXXXXXX...            5.553   \n",
       "2399   EEEEESSSSSSSSSSSSSSSSHHHSSSSBSSSSMSSSSSSSSSSHH...            6.545   \n",
       "\n",
       "       SN_filter  seq_length  seq_scored  \\\n",
       "index                                      \n",
       "0              1         107          68   \n",
       "1              0         107          68   \n",
       "2              1         107          68   \n",
       "3              0         107          68   \n",
       "4              0         107          68   \n",
       "...          ...         ...         ...   \n",
       "2395           1         107          68   \n",
       "2396           1         107          68   \n",
       "2397           0         107          68   \n",
       "2398           0         107          68   \n",
       "2399           1         107          68   \n",
       "\n",
       "                                        reactivity_error  \\\n",
       "index                                                      \n",
       "0      [0.1359, 0.20700000000000002, 0.1633, 0.1452, ...   \n",
       "1      [2.8272, 2.8272, 2.8272, 4.7343, 2.5676, 2.567...   \n",
       "2      [0.0931, 0.13290000000000002, 0.11280000000000...   \n",
       "3      [3.5229, 6.0748, 3.0374, 3.0374, 3.0374, 3.037...   \n",
       "4      [1.665, 2.1728, 2.0041, 1.2405, 0.620200000000...   \n",
       "...                                                  ...   \n",
       "2395   [0.2585, 0.29710000000000003, 0.2748, 0.205000...   \n",
       "2396   [0.2169, 0.2513, 0.2303, 0.22260000000000002, ...   \n",
       "2397   [1.5567, 1.2999, 0.9492, 0.9879, 0.8146, 0.455...   \n",
       "2398   [0.1431, 0.1847, 0.15960000000000002, 0.1466, ...   \n",
       "2399   [0.1782, 0.2043, 0.1842, 0.13240000000000002, ...   \n",
       "\n",
       "                                       deg_error_Mg_pH10  \\\n",
       "index                                                      \n",
       "0      [0.26130000000000003, 0.38420000000000004, 0.1...   \n",
       "1      [73705.3985, 73705.3985, 73705.3985, 73705.398...   \n",
       "2      [0.1365, 0.2237, 0.1812, 0.1333, 0.1148, 0.160...   \n",
       "3      [73705.3985, 73705.3985, 73705.3985, 73705.398...   \n",
       "4      [4.2139, 3.9637000000000002, 3.2467, 2.4716, 1...   \n",
       "...                                                  ...   \n",
       "2395   [0.2745, 0.37010000000000004, 0.291, 0.1137000...   \n",
       "2396   [0.1883, 0.22790000000000002, 0.1497, 0.154300...   \n",
       "2397   [1.9599000000000002, 1.3505, 1.619600000000000...   \n",
       "2398   [0.13970000000000002, 0.2404, 0.1443, 0.122400...   \n",
       "2399   [0.3272, 0.3558, 0.27440000000000003, 0.222600...   \n",
       "\n",
       "                                          deg_error_pH10  \\\n",
       "index                                                      \n",
       "0      [0.2631, 0.28600000000000003, 0.0964, 0.1574, ...   \n",
       "1      [10.1986, 9.2418, 5.0933, 5.0933, 5.0933, 5.09...   \n",
       "2      [0.17020000000000002, 0.178, 0.111, 0.091, 0.0...   \n",
       "3      [11.8007, 12.7566, 5.7733, 5.7733, 5.7733, 5.7...   \n",
       "4      [3.0942, 3.015, 2.1212, 2.0552, 0.881500000000...   \n",
       "...                                                  ...   \n",
       "2395   [0.3446, 0.3815, 0.26940000000000003, 0.1182, ...   \n",
       "2396   [0.5582, 0.4887, 0.3845, 0.34040000000000004, ...   \n",
       "2397   [3.7554, 2.618, 2.0539, 0.9674, 1.6963, 1.6687...   \n",
       "2398   [0.2275, 0.2394, 0.14350000000000002, 0.1273, ...   \n",
       "2399   [0.2958, 0.28140000000000004, 0.19410000000000...   \n",
       "\n",
       "                                        deg_error_Mg_50C  \\\n",
       "index                                                      \n",
       "0      [0.1501, 0.275, 0.0947, 0.18660000000000002, 0...   \n",
       "1      [16.6174, 13.868, 8.1968, 8.1968, 8.1968, 8.19...   \n",
       "2      [0.1033, 0.1464, 0.1126, 0.09620000000000001, ...   \n",
       "3      [121286.7181, 121286.7182, 121286.7181, 121286...   \n",
       "4      [2.6717, 2.4818, 1.9919, 2.5484999999999998, 1...   \n",
       "...                                                  ...   \n",
       "2395   [0.2093, 0.2985, 0.2922, 0.08360000000000001, ...   \n",
       "2396   [0.2758, 0.3659, 0.2155, 0.28340000000000004, ...   \n",
       "2397   [1.545, 1.7649, 1.2032, 0.9904000000000001, 1....   \n",
       "2398   [0.0944, 0.1453, 0.1067, 0.0994, 0.06470000000...   \n",
       "2399   [0.22060000000000002, 0.254, 0.2109, 0.1636, 0...   \n",
       "\n",
       "                                           deg_error_50C  \\\n",
       "index                                                      \n",
       "0      [0.2167, 0.34750000000000003, 0.188, 0.2124, 0...   \n",
       "1      [15.4857, 7.9596, 13.3957, 5.8777, 5.8777, 5.8...   \n",
       "2      [0.14980000000000002, 0.1761, 0.1517, 0.116700...   \n",
       "3      [15.3995, 8.1124, 7.7824, 7.7824, 7.7824, 7.78...   \n",
       "4      [1.3285, 3.6173, 1.3057, 1.3021, 1.1507, 1.150...   \n",
       "...                                                  ...   \n",
       "2395   [0.29460000000000003, 0.40850000000000003, 0.3...   \n",
       "2396   [0.401, 0.388, 0.3403, 0.3608, 0.3057, 0.242, ...   \n",
       "2397   [4.747, 4.8132, 3.0986, 2.9818, 2.8738, 1.4856...   \n",
       "2398   [0.1691, 0.22740000000000002, 0.178, 0.1762, 0...   \n",
       "2399   [0.2379, 0.27590000000000003, 0.22160000000000...   \n",
       "\n",
       "                                              reactivity  \\\n",
       "index                                                      \n",
       "0      [0.3297, 1.5693000000000001, 1.1227, 0.8686, 0...   \n",
       "1      [0.0, 0.0, 0.0, 2.2965, 0.0, 0.0, 0.0, 0.0, 0....   \n",
       "2      [0.44820000000000004, 1.4822, 1.1819, 0.743400...   \n",
       "3      [0.0, 2.2399, 0.0, 0.0, 0.0, 0.0, 0.0, 0.0, 0....   \n",
       "4      [0.8267, 2.6577, 2.8481, 0.40090000000000003, ...   \n",
       "...                                                  ...   \n",
       "2395   [0.6957, 1.251, 1.3235999999999999, 0.7521, 0....   \n",
       "2396   [0.2891, 0.4496, 0.7165, 0.7128, 0.59310000000...   \n",
       "2397   [1.6204, 1.7046000000000001, 0.6201, 0.795, 0....   \n",
       "2398   [0.6919000000000001, 1.4823, 1.3685, 1.2473, 0...   \n",
       "2399   [1.0102, 1.7928000000000002, 1.9228, 0.9649000...   \n",
       "\n",
       "                                             deg_Mg_pH10  \\\n",
       "index                                                      \n",
       "0      [0.7556, 2.983, 0.2526, 1.3789, 0.637600000000...   \n",
       "1      [0.0, 0.0, 0.0, 0.0, 0.0, 0.0, 0.0, 0.0, 0.0, ...   \n",
       "2      [0.2504, 1.4021, 0.9804, 0.49670000000000003, ...   \n",
       "3      [0.0, -0.5083, 0.0, 0.0, 0.0, 0.0, 0.0, 0.0, 0...   \n",
       "4      [2.1058, 3.138, 2.5437000000000003, 1.0932, 0....   \n",
       "...                                                  ...   \n",
       "2395   [0.6439, 2.0117, 1.3682, 0.0918, 0.65860000000...   \n",
       "2396   [0.3619, 0.6924, 0.2988, 0.3639, 0.545, 0.2263...   \n",
       "2397   [1.7708, 0.67, 1.7689, 1.0919, 0.0, 0.0, 0.0, ...   \n",
       "2398   [0.4544, 2.4603, 0.8778, 0.6402, 0.28340000000...   \n",
       "2399   [1.4842, 2.4813, 1.737, 1.2082, 0.959000000000...   \n",
       "\n",
       "                                                deg_pH10  \\\n",
       "index                                                      \n",
       "0      [2.3375, 3.5060000000000002, 0.3008, 1.0108, 0...   \n",
       "1      [4.947, 4.4523, 0.0, 0.0, 0.0, 0.0, 0.0, 0.0, ...   \n",
       "2      [2.243, 2.9361, 1.0553, 0.721, 0.6396000000000...   \n",
       "3      [3.4248, 6.8128, 0.0, 0.0, 0.0, 0.0, 0.0, 0.0,...   \n",
       "4      [4.7366, 4.6243, 1.2068, 1.1538, 0.0, 0.0, 0.7...   \n",
       "...                                                  ...   \n",
       "2395   [2.1589, 3.3601, 1.6179000000000001, 0.1344000...   \n",
       "2396   [2.8541, 1.6106, 1.4343, 1.0797, 0.6803, 0.559...   \n",
       "2397   [6.4088, 3.4249, 1.649, 0.0, 0.8095, 0.7951, 0...   \n",
       "2398   [2.7157999999999998, 3.1249000000000002, 1.137...   \n",
       "2399   [2.3588, 2.2161, 1.2522, 0.7875000000000001, 0...   \n",
       "\n",
       "                                              deg_Mg_50C  \\\n",
       "index                                                      \n",
       "0      [0.35810000000000003, 2.9683, 0.2589, 1.4552, ...   \n",
       "1      [4.8511, 4.0426, 0.0, 0.0, 0.0, 0.0, 0.0, 0.0,...   \n",
       "2      [0.5163, 1.6823000000000001, 1.0426, 0.7902, 0...   \n",
       "3      [0.0, -0.8365, 0.0, 0.0, 0.0, 0.0, 0.0, 0.0, 0...   \n",
       "4      [2.2052, 1.7947000000000002, 0.7457, 3.1233, 0...   \n",
       "...                                                  ...   \n",
       "2395   [0.47900000000000004, 1.9583, 2.4635, 0.0512, ...   \n",
       "2396   [0.2964, 0.9351, 0.2555, 0.7603000000000001, 0...   \n",
       "2397   [0.6038, 3.0322, 0.9703, 0.4756, 0.9154, 0.0, ...   \n",
       "2398   [0.3262, 1.3932, 0.8832000000000001, 0.8144, 0...   \n",
       "2399   [1.3281, 2.3854, 2.0464, 1.2384, 0.631, 0.1848...   \n",
       "\n",
       "                                                 deg_50C  \n",
       "index                                                     \n",
       "0      [0.6382, 3.4773, 0.9988, 1.3228, 0.78770000000...  \n",
       "1      [7.6692, 0.0, 10.9561, 0.0, 0.0, 0.0, 0.0, 0.0...  \n",
       "2      [0.9501000000000001, 1.7974999999999999, 1.499...  \n",
       "3      [7.6692, -1.3223, 0.0, 0.0, 0.0, 0.0, 0.0, 0.0...  \n",
       "4      [0.0, 5.1198, -0.3551, -0.3518, 0.0, 0.0, 0.0,...  \n",
       "...                                                  ...  \n",
       "2395   [0.5759000000000001, 2.3736, 1.4158, 0.1914000...  \n",
       "2396   [0.6526000000000001, 0.2548, 0.6927, 0.9316000...  \n",
       "2397   [2.9632, 6.3911999999999995, 1.5339, 1.4749, 1...  \n",
       "2398   [0.5814, 1.5119, 1.1749, 1.2676, 0.22190000000...  \n",
       "2399   [0.7043, 1.4864, 1.3035, 1.2176, 0.82900000000...  \n",
       "\n",
       "[2400 rows x 18 columns]"
      ]
     },
     "execution_count": 138,
     "metadata": {},
     "output_type": "execute_result"
    }
   ],
   "source": [
    "train.set_index('index',inplace=True)\n",
    "train"
   ]
  },
  {
   "cell_type": "markdown",
   "metadata": {},
   "source": [
    "### On sépare les lignes du tableau"
   ]
  },
  {
   "cell_type": "code",
   "execution_count": 139,
   "metadata": {},
   "outputs": [],
   "source": [
    "def expend_feature (df):\n",
    "    \"\"\"\n",
    "    Return a dataframe with expension of sequence\n",
    "    \n",
    "    Args:\n",
    "        df (Dataframe): same format as train\n",
    "        i_row (int): number of row we want to expand\n",
    "    \n",
    "    Returns:\n",
    "        sub_df: a dataframe with:\n",
    "        number of rows = seq_scored\n",
    "        columns name:[id, base, base_structure_type, base_predicted_loop_type, reactivity_error,\n",
    "        deg_error_Mg_pH10,deg_error_pH10, deg_error_Mg_50C, deg_error_50C, reactivity, \n",
    "        deg_Mg_pH10, deg_pH10, deg_Mg_50C, deg_50C]\n",
    "    \"\"\"\n",
    "    if (df.shape[0] != df.id.nunique()):\n",
    "        print('repetition in RNA sequnence, clean dataframe first')\n",
    "        return # dose the same as retunr None, which exit the function \n",
    "    \n",
    "    else:\n",
    "        col_names = ['id','base', 'base_structure_type', 'base_predicted_loop_type', 'reactivity_error',\n",
    "            'deg_error_Mg_pH10', 'deg_error_pH10', 'deg_error_Mg_50C', 'deg_error_50C', 'reactivity', \n",
    "            'deg_Mg_pH10', 'deg_pH10', 'deg_Mg_50C', 'deg_50C']\n",
    "\n",
    "        #dataframe creation using list of lists\n",
    "        # loop for each unique sequence\n",
    "        sub_data = []\n",
    "        for row_i in df.index:\n",
    "            #loop for the legth of sequnece score (trian length is different from test)\n",
    "            serie_i = df.loc[row_i] #panda series object\n",
    "            seq_length  = serie_i['seq_scored']\n",
    "            for seq_i in range (seq_length):\n",
    "                seq_data = [serie_i['id'], serie_i['sequence'][seq_i],\n",
    "                            serie_i['structure'][seq_i], serie_i['predicted_loop_type'][seq_i],\n",
    "                            serie_i['reactivity_error'][seq_i], serie_i['deg_error_Mg_pH10'][seq_i],\n",
    "                            serie_i['deg_error_pH10'][seq_i], serie_i['deg_error_Mg_50C'][seq_i],\n",
    "                            serie_i['deg_error_50C'][seq_i], serie_i['reactivity'][seq_i],\n",
    "                            serie_i['deg_Mg_pH10'][seq_i], serie_i['deg_pH10'][seq_i],\n",
    "                            serie_i['deg_Mg_50C'][seq_i], serie_i['deg_50C'][seq_i]]\n",
    "                sub_data.append(seq_data)\n",
    "\n",
    "        sub_df = pd.DataFrame(sub_data, columns =col_names,  dtype = float) \n",
    "        return sub_df"
   ]
  },
  {
   "cell_type": "code",
   "execution_count": 236,
   "metadata": {},
   "outputs": [],
   "source": [
    "seq = expend_feature(train)"
   ]
  },
  {
   "cell_type": "code",
   "execution_count": 237,
   "metadata": {},
   "outputs": [
    {
     "data": {
      "text/html": [
       "<div>\n",
       "<style scoped>\n",
       "    .dataframe tbody tr th:only-of-type {\n",
       "        vertical-align: middle;\n",
       "    }\n",
       "\n",
       "    .dataframe tbody tr th {\n",
       "        vertical-align: top;\n",
       "    }\n",
       "\n",
       "    .dataframe thead th {\n",
       "        text-align: right;\n",
       "    }\n",
       "</style>\n",
       "<table border=\"1\" class=\"dataframe\">\n",
       "  <thead>\n",
       "    <tr style=\"text-align: right;\">\n",
       "      <th></th>\n",
       "      <th>id</th>\n",
       "      <th>base</th>\n",
       "      <th>base_structure_type</th>\n",
       "      <th>base_predicted_loop_type</th>\n",
       "      <th>reactivity_error</th>\n",
       "      <th>deg_error_Mg_pH10</th>\n",
       "      <th>deg_error_pH10</th>\n",
       "      <th>deg_error_Mg_50C</th>\n",
       "      <th>deg_error_50C</th>\n",
       "      <th>reactivity</th>\n",
       "      <th>deg_Mg_pH10</th>\n",
       "      <th>deg_pH10</th>\n",
       "      <th>deg_Mg_50C</th>\n",
       "      <th>deg_50C</th>\n",
       "    </tr>\n",
       "  </thead>\n",
       "  <tbody>\n",
       "    <tr>\n",
       "      <td>0</td>\n",
       "      <td>id_001f94081</td>\n",
       "      <td>G</td>\n",
       "      <td>.</td>\n",
       "      <td>E</td>\n",
       "      <td>0.1359</td>\n",
       "      <td>0.2613</td>\n",
       "      <td>0.2631</td>\n",
       "      <td>0.1501</td>\n",
       "      <td>0.2167</td>\n",
       "      <td>0.3297</td>\n",
       "      <td>0.7556</td>\n",
       "      <td>2.3375</td>\n",
       "      <td>0.3581</td>\n",
       "      <td>0.6382</td>\n",
       "    </tr>\n",
       "    <tr>\n",
       "      <td>1</td>\n",
       "      <td>id_001f94081</td>\n",
       "      <td>G</td>\n",
       "      <td>.</td>\n",
       "      <td>E</td>\n",
       "      <td>0.2070</td>\n",
       "      <td>0.3842</td>\n",
       "      <td>0.2860</td>\n",
       "      <td>0.2750</td>\n",
       "      <td>0.3475</td>\n",
       "      <td>1.5693</td>\n",
       "      <td>2.9830</td>\n",
       "      <td>3.5060</td>\n",
       "      <td>2.9683</td>\n",
       "      <td>3.4773</td>\n",
       "    </tr>\n",
       "    <tr>\n",
       "      <td>2</td>\n",
       "      <td>id_001f94081</td>\n",
       "      <td>A</td>\n",
       "      <td>.</td>\n",
       "      <td>E</td>\n",
       "      <td>0.1633</td>\n",
       "      <td>0.1372</td>\n",
       "      <td>0.0964</td>\n",
       "      <td>0.0947</td>\n",
       "      <td>0.1880</td>\n",
       "      <td>1.1227</td>\n",
       "      <td>0.2526</td>\n",
       "      <td>0.3008</td>\n",
       "      <td>0.2589</td>\n",
       "      <td>0.9988</td>\n",
       "    </tr>\n",
       "    <tr>\n",
       "      <td>3</td>\n",
       "      <td>id_001f94081</td>\n",
       "      <td>A</td>\n",
       "      <td>.</td>\n",
       "      <td>E</td>\n",
       "      <td>0.1452</td>\n",
       "      <td>0.2531</td>\n",
       "      <td>0.1574</td>\n",
       "      <td>0.1866</td>\n",
       "      <td>0.2124</td>\n",
       "      <td>0.8686</td>\n",
       "      <td>1.3789</td>\n",
       "      <td>1.0108</td>\n",
       "      <td>1.4552</td>\n",
       "      <td>1.3228</td>\n",
       "    </tr>\n",
       "    <tr>\n",
       "      <td>4</td>\n",
       "      <td>id_001f94081</td>\n",
       "      <td>A</td>\n",
       "      <td>.</td>\n",
       "      <td>E</td>\n",
       "      <td>0.1314</td>\n",
       "      <td>0.1798</td>\n",
       "      <td>0.1000</td>\n",
       "      <td>0.1369</td>\n",
       "      <td>0.1703</td>\n",
       "      <td>0.7217</td>\n",
       "      <td>0.6376</td>\n",
       "      <td>0.2635</td>\n",
       "      <td>0.7244</td>\n",
       "      <td>0.7877</td>\n",
       "    </tr>\n",
       "  </tbody>\n",
       "</table>\n",
       "</div>"
      ],
      "text/plain": [
       "             id base base_structure_type base_predicted_loop_type  \\\n",
       "0  id_001f94081    G                   .                        E   \n",
       "1  id_001f94081    G                   .                        E   \n",
       "2  id_001f94081    A                   .                        E   \n",
       "3  id_001f94081    A                   .                        E   \n",
       "4  id_001f94081    A                   .                        E   \n",
       "\n",
       "   reactivity_error  deg_error_Mg_pH10  deg_error_pH10  deg_error_Mg_50C  \\\n",
       "0            0.1359             0.2613          0.2631            0.1501   \n",
       "1            0.2070             0.3842          0.2860            0.2750   \n",
       "2            0.1633             0.1372          0.0964            0.0947   \n",
       "3            0.1452             0.2531          0.1574            0.1866   \n",
       "4            0.1314             0.1798          0.1000            0.1369   \n",
       "\n",
       "   deg_error_50C  reactivity  deg_Mg_pH10  deg_pH10  deg_Mg_50C  deg_50C  \n",
       "0         0.2167      0.3297       0.7556    2.3375      0.3581   0.6382  \n",
       "1         0.3475      1.5693       2.9830    3.5060      2.9683   3.4773  \n",
       "2         0.1880      1.1227       0.2526    0.3008      0.2589   0.9988  \n",
       "3         0.2124      0.8686       1.3789    1.0108      1.4552   1.3228  \n",
       "4         0.1703      0.7217       0.6376    0.2635      0.7244   0.7877  "
      ]
     },
     "execution_count": 237,
     "metadata": {},
     "output_type": "execute_result"
    }
   ],
   "source": [
    "seq.head()"
   ]
  },
  {
   "cell_type": "markdown",
   "metadata": {},
   "source": [
    "On se rend compte qu'il y a des données qui sont completement abérrantes. Il faudra que l'on décide lesquels enlevés. Pour le print du début on décide de plot les moyenne pour enlever les valeurs trop éloignées"
   ]
  },
  {
   "cell_type": "markdown",
   "metadata": {
    "papermill": {
     "duration": 0.017029,
     "end_time": "2021-02-24T17:43:51.107969",
     "exception": false,
     "start_time": "2021-02-24T17:43:51.090940",
     "status": "completed"
    },
    "tags": []
   },
   "source": [
    "### Dégradation en fonction du milieu "
   ]
  },
  {
   "cell_type": "code",
   "execution_count": 141,
   "metadata": {
    "execution": {
     "iopub.execute_input": "2021-02-24T17:43:51.148211Z",
     "iopub.status.busy": "2021-02-24T17:43:51.147294Z",
     "iopub.status.idle": "2021-02-24T17:43:51.157352Z",
     "shell.execute_reply": "2021-02-24T17:43:51.156659Z"
    },
    "papermill": {
     "duration": 0.032036,
     "end_time": "2021-02-24T17:43:51.157483",
     "exception": false,
     "start_time": "2021-02-24T17:43:51.125447",
     "status": "completed"
    },
    "tags": []
   },
   "outputs": [],
   "source": [
    "from statistics import mean"
   ]
  },
  {
   "cell_type": "code",
   "execution_count": null,
   "metadata": {
    "execution": {
     "iopub.execute_input": "2021-02-24T17:43:51.240557Z",
     "iopub.status.busy": "2021-02-24T17:43:51.225090Z",
     "iopub.status.idle": "2021-02-24T17:43:53.976035Z",
     "shell.execute_reply": "2021-02-24T17:43:53.976599Z"
    },
    "papermill": {
     "duration": 2.801804,
     "end_time": "2021-02-24T17:43:53.976757",
     "exception": false,
     "start_time": "2021-02-24T17:43:51.174953",
     "status": "completed"
    },
    "tags": []
   },
   "outputs": [],
   "source": [
    "#Mean of degradation values\n",
    "witMg=(train.deg_Mg_pH10).apply(lambda x: mean(x))\n",
    "witoutMg=(train.deg_pH10).apply(lambda x: mean(x))\n",
    "\n",
    "witMG_50=(train.deg_Mg_50C).apply(lambda x: mean(x))\n",
    "witoutMg_50=(train.deg_50C).apply(lambda x: mean(x))\n",
    "\n",
    "n=train.shape[0]\n",
    "lon=np.arange(0,n)\n",
    "\n",
    "# Plot \n",
    "plt.figure(1)\n",
    "plt.figure(figsize = (30, 20)) \n",
    "plt.subplot(2, 2, 1)\n",
    "plt.scatter(x=lon, y=witMg, color=\"DarkBlue\", label=\"avec MG, 25 deg\")\n",
    "plt.scatter(x=lon, y=witoutMg, color=\"DarkGreen\", label=\"sans MG, 25 deg\")\n",
    "plt.title(\"Comparaison de la dégradation avec/sans Mg\")\n",
    "plt.legend()\n",
    "plt.subplot(2, 2, 2)\n",
    "plt.scatter(x=lon, y=witMG_50, color=\"DarkBlue\", label=\"avec MG, 50 deg\")\n",
    "plt.scatter(x=lon, y=witoutMg_50, color=\"DarkGreen\", label=\"sans MG, 50 deg\")\n",
    "plt.title(\"Comparaison de la dégradation avec/sans Mg à 50 degré\")\n",
    "plt.legend()\n",
    "plt.subplot(2, 2, 3)\n",
    "plt.scatter(x=lon, y=witoutMg, color=\"DarkBlue\", label=\"sans MG, 25 deg\")\n",
    "plt.scatter(x=lon, y=witoutMg_50, color=\"DarkGreen\", label=\"sans MG, 50 deg\")\n",
    "plt.title(\"Comparaison de la dégradation en fonction de la température sans MG\")\n",
    "plt.legend()\n",
    "plt.subplot(2, 2, 4)\n",
    "plt.scatter(x=lon, y=witMg, color=\"DarkBlue\", label=\"avec MG, 25 deg\")\n",
    "plt.scatter(x=lon, y=witMG_50, color=\"DarkGreen\", label=\"avec MG, 50 deg\")\n",
    "plt.title(\"Comparaison de la dégradation en fonction de la température avec MG\")\n",
    "plt.legend()\n",
    "plt.show()"
   ]
  },
  {
   "cell_type": "code",
   "execution_count": null,
   "metadata": {
    "execution": {
     "iopub.execute_input": "2021-02-24T17:43:54.046902Z",
     "iopub.status.busy": "2021-02-24T17:43:54.046208Z",
     "iopub.status.idle": "2021-02-24T17:43:54.216523Z",
     "shell.execute_reply": "2021-02-24T17:43:54.216984Z"
    },
    "papermill": {
     "duration": 0.208096,
     "end_time": "2021-02-24T17:43:54.217157",
     "exception": false,
     "start_time": "2021-02-24T17:43:54.009061",
     "status": "completed"
    },
    "tags": []
   },
   "outputs": [],
   "source": [
    "Comparaison=[]\n",
    "Comparaison.append(witMg)\n",
    "Comparaison.append(witoutMg)\n",
    "Comparaison.append(witMG_50)\n",
    "Comparaison.append(witoutMg_50)\n",
    "\n",
    "plt.figure(figsize=(16,7))\n",
    "plt.boxplot(Comparaison)\n",
    "plt.gca().xaxis.set_ticklabels(['dégradation avec MG','dégradation sans MG', 'dégradation avec MG à 50 degré','dégradation sans MG à 50 degré'])\n",
    "plt.title(\"Distribution de la dégradation en fonction du milieu\")\n",
    "plt.show()"
   ]
  },
  {
   "cell_type": "markdown",
   "metadata": {
    "papermill": {
     "duration": 0.025783,
     "end_time": "2021-02-24T17:43:54.269124",
     "exception": false,
     "start_time": "2021-02-24T17:43:54.243341",
     "status": "completed"
    },
    "tags": []
   },
   "source": [
    "On percoit ici que d'ajouter du magnésium permet de limiter les valeurs extrèmes de la dégradation."
   ]
  },
  {
   "cell_type": "code",
   "execution_count": 142,
   "metadata": {
    "execution": {
     "iopub.execute_input": "2021-02-24T17:43:55.198323Z",
     "iopub.status.busy": "2021-02-24T17:43:55.197611Z",
     "iopub.status.idle": "2021-02-24T17:43:55.200792Z",
     "shell.execute_reply": "2021-02-24T17:43:55.200296Z"
    },
    "papermill": {
     "duration": 0.044131,
     "end_time": "2021-02-24T17:43:55.200906",
     "exception": false,
     "start_time": "2021-02-24T17:43:55.156775",
     "status": "completed"
    },
    "tags": []
   },
   "outputs": [],
   "source": [
    "#Taking the 68 first values\n",
    "train['structure_68']= (train.structure).apply(lambda x: x[0:68])\n",
    "train['predicted_loop_type_68']= (train.predicted_loop_type).apply(lambda x: x[0:68])\n",
    "train['sequence_68']=(train.sequence).apply(lambda x: x[0:68])"
   ]
  },
  {
   "cell_type": "markdown",
   "metadata": {
    "papermill": {
     "duration": 0.02751,
     "end_time": "2021-02-24T17:43:55.256354",
     "exception": false,
     "start_time": "2021-02-24T17:43:55.228844",
     "status": "completed"
    },
    "tags": []
   },
   "source": [
    "### On s'interesse aux nucléotides : base"
   ]
  },
  {
   "cell_type": "code",
   "execution_count": 230,
   "metadata": {},
   "outputs": [
    {
     "data": {
      "text/html": [
       "<div>\n",
       "<style scoped>\n",
       "    .dataframe tbody tr th:only-of-type {\n",
       "        vertical-align: middle;\n",
       "    }\n",
       "\n",
       "    .dataframe tbody tr th {\n",
       "        vertical-align: top;\n",
       "    }\n",
       "\n",
       "    .dataframe thead tr th {\n",
       "        text-align: left;\n",
       "    }\n",
       "\n",
       "    .dataframe thead tr:last-of-type th {\n",
       "        text-align: right;\n",
       "    }\n",
       "</style>\n",
       "<table border=\"1\" class=\"dataframe\">\n",
       "  <thead>\n",
       "    <tr>\n",
       "      <th></th>\n",
       "      <th colspan=\"8\" halign=\"left\">reactivity_error</th>\n",
       "      <th colspan=\"2\" halign=\"left\">deg_error_Mg_pH10</th>\n",
       "      <th>...</th>\n",
       "      <th colspan=\"2\" halign=\"left\">deg_Mg_50C</th>\n",
       "      <th colspan=\"8\" halign=\"left\">deg_50C</th>\n",
       "    </tr>\n",
       "    <tr>\n",
       "      <th></th>\n",
       "      <th>count</th>\n",
       "      <th>mean</th>\n",
       "      <th>std</th>\n",
       "      <th>min</th>\n",
       "      <th>25%</th>\n",
       "      <th>50%</th>\n",
       "      <th>75%</th>\n",
       "      <th>max</th>\n",
       "      <th>count</th>\n",
       "      <th>mean</th>\n",
       "      <th>...</th>\n",
       "      <th>75%</th>\n",
       "      <th>max</th>\n",
       "      <th>count</th>\n",
       "      <th>mean</th>\n",
       "      <th>std</th>\n",
       "      <th>min</th>\n",
       "      <th>25%</th>\n",
       "      <th>50%</th>\n",
       "      <th>75%</th>\n",
       "      <th>max</th>\n",
       "    </tr>\n",
       "    <tr>\n",
       "      <th>base</th>\n",
       "      <th></th>\n",
       "      <th></th>\n",
       "      <th></th>\n",
       "      <th></th>\n",
       "      <th></th>\n",
       "      <th></th>\n",
       "      <th></th>\n",
       "      <th></th>\n",
       "      <th></th>\n",
       "      <th></th>\n",
       "      <th></th>\n",
       "      <th></th>\n",
       "      <th></th>\n",
       "      <th></th>\n",
       "      <th></th>\n",
       "      <th></th>\n",
       "      <th></th>\n",
       "      <th></th>\n",
       "      <th></th>\n",
       "      <th></th>\n",
       "      <th></th>\n",
       "    </tr>\n",
       "  </thead>\n",
       "  <tbody>\n",
       "    <tr>\n",
       "      <td>A</td>\n",
       "      <td>59695.0</td>\n",
       "      <td>1022.776804</td>\n",
       "      <td>11327.343603</td>\n",
       "      <td>0.0019</td>\n",
       "      <td>0.0583</td>\n",
       "      <td>0.10080</td>\n",
       "      <td>0.190700</td>\n",
       "      <td>146151.225</td>\n",
       "      <td>59695.0</td>\n",
       "      <td>963.896547</td>\n",
       "      <td>...</td>\n",
       "      <td>0.673500</td>\n",
       "      <td>24.2525</td>\n",
       "      <td>59695.0</td>\n",
       "      <td>0.493038</td>\n",
       "      <td>1.041648</td>\n",
       "      <td>-38.3399</td>\n",
       "      <td>0.1920</td>\n",
       "      <td>0.4163</td>\n",
       "      <td>0.688700</td>\n",
       "      <td>38.3399</td>\n",
       "    </tr>\n",
       "    <tr>\n",
       "      <td>C</td>\n",
       "      <td>30908.0</td>\n",
       "      <td>5506.781985</td>\n",
       "      <td>26493.526101</td>\n",
       "      <td>0.0022</td>\n",
       "      <td>0.0321</td>\n",
       "      <td>0.05835</td>\n",
       "      <td>0.121025</td>\n",
       "      <td>146151.225</td>\n",
       "      <td>30908.0</td>\n",
       "      <td>4184.863159</td>\n",
       "      <td>...</td>\n",
       "      <td>0.384750</td>\n",
       "      <td>24.2525</td>\n",
       "      <td>30908.0</td>\n",
       "      <td>0.290865</td>\n",
       "      <td>1.265812</td>\n",
       "      <td>-38.3399</td>\n",
       "      <td>0.0437</td>\n",
       "      <td>0.1865</td>\n",
       "      <td>0.444725</td>\n",
       "      <td>38.3438</td>\n",
       "    </tr>\n",
       "    <tr>\n",
       "      <td>G</td>\n",
       "      <td>43852.0</td>\n",
       "      <td>4730.593867</td>\n",
       "      <td>24715.614607</td>\n",
       "      <td>0.0033</td>\n",
       "      <td>0.0440</td>\n",
       "      <td>0.08310</td>\n",
       "      <td>0.177125</td>\n",
       "      <td>146151.225</td>\n",
       "      <td>43852.0</td>\n",
       "      <td>3666.905822</td>\n",
       "      <td>...</td>\n",
       "      <td>0.527425</td>\n",
       "      <td>24.2525</td>\n",
       "      <td>43852.0</td>\n",
       "      <td>0.441230</td>\n",
       "      <td>1.170434</td>\n",
       "      <td>-38.3399</td>\n",
       "      <td>0.0795</td>\n",
       "      <td>0.2789</td>\n",
       "      <td>0.621400</td>\n",
       "      <td>38.3438</td>\n",
       "    </tr>\n",
       "    <tr>\n",
       "      <td>U</td>\n",
       "      <td>28745.0</td>\n",
       "      <td>828.757384</td>\n",
       "      <td>10018.840931</td>\n",
       "      <td>0.0029</td>\n",
       "      <td>0.0406</td>\n",
       "      <td>0.07520</td>\n",
       "      <td>0.168100</td>\n",
       "      <td>146151.225</td>\n",
       "      <td>28745.0</td>\n",
       "      <td>1149.024955</td>\n",
       "      <td>...</td>\n",
       "      <td>0.523900</td>\n",
       "      <td>24.2549</td>\n",
       "      <td>28745.0</td>\n",
       "      <td>0.408224</td>\n",
       "      <td>1.027784</td>\n",
       "      <td>-38.3399</td>\n",
       "      <td>0.0596</td>\n",
       "      <td>0.2341</td>\n",
       "      <td>0.584300</td>\n",
       "      <td>38.3399</td>\n",
       "    </tr>\n",
       "  </tbody>\n",
       "</table>\n",
       "<p>4 rows × 80 columns</p>\n",
       "</div>"
      ],
      "text/plain": [
       "     reactivity_error                                                      \\\n",
       "                count         mean           std     min     25%      50%   \n",
       "base                                                                        \n",
       "A             59695.0  1022.776804  11327.343603  0.0019  0.0583  0.10080   \n",
       "C             30908.0  5506.781985  26493.526101  0.0022  0.0321  0.05835   \n",
       "G             43852.0  4730.593867  24715.614607  0.0033  0.0440  0.08310   \n",
       "U             28745.0   828.757384  10018.840931  0.0029  0.0406  0.07520   \n",
       "\n",
       "                           deg_error_Mg_pH10               ... deg_Mg_50C  \\\n",
       "           75%         max             count         mean  ...        75%   \n",
       "base                                                       ...              \n",
       "A     0.190700  146151.225           59695.0   963.896547  ...   0.673500   \n",
       "C     0.121025  146151.225           30908.0  4184.863159  ...   0.384750   \n",
       "G     0.177125  146151.225           43852.0  3666.905822  ...   0.527425   \n",
       "U     0.168100  146151.225           28745.0  1149.024955  ...   0.523900   \n",
       "\n",
       "               deg_50C                                                         \\\n",
       "          max    count      mean       std      min     25%     50%       75%   \n",
       "base                                                                            \n",
       "A     24.2525  59695.0  0.493038  1.041648 -38.3399  0.1920  0.4163  0.688700   \n",
       "C     24.2525  30908.0  0.290865  1.265812 -38.3399  0.0437  0.1865  0.444725   \n",
       "G     24.2525  43852.0  0.441230  1.170434 -38.3399  0.0795  0.2789  0.621400   \n",
       "U     24.2549  28745.0  0.408224  1.027784 -38.3399  0.0596  0.2341  0.584300   \n",
       "\n",
       "               \n",
       "          max  \n",
       "base           \n",
       "A     38.3399  \n",
       "C     38.3438  \n",
       "G     38.3438  \n",
       "U     38.3399  \n",
       "\n",
       "[4 rows x 80 columns]"
      ]
     },
     "execution_count": 230,
     "metadata": {},
     "output_type": "execute_result"
    }
   ],
   "source": [
    "seq.groupby('base').describe()"
   ]
  },
  {
   "cell_type": "code",
   "execution_count": 182,
   "metadata": {},
   "outputs": [
    {
     "data": {
      "text/plain": [
       "<Figure size 432x288 with 0 Axes>"
      ]
     },
     "metadata": {},
     "output_type": "display_data"
    },
    {
     "data": {
      "image/png": "[encoded data removed]",
      "text/plain": [
       "<Figure size 720x504 with 1 Axes>"
      ]
     },
     "metadata": {
      "needs_background": "light"
     },
     "output_type": "display_data"
    }
   ],
   "source": [
    "letters_nucleotide=['A','C','G','U']\n",
    "res1=seq.groupby('base').mean().reactivity #mean of reactivity per base\n",
    "res2=(seq.groupby('base').mean()).loc[:,['deg_Mg_pH10', 'deg_pH10','deg_Mg_50C','deg_50C']].mean(axis=1) \n",
    "#mean of degradation per base\n",
    "\n",
    "#Plot\n",
    "plt.figure(1)\n",
    "plt.figure(figsize = (10, 7)) \n",
    "plt.scatter(letters_nucleotide, y=res1, color=\"blue\", label=\"Réactivité\")\n",
    "plt.scatter(letters_nucleotide, y=res2, color=\"red\", label=\"Dégradation\")\n",
    "plt.title(\"Dégradation/Réactivité par nucléotide\")\n",
    "plt.legend()\n",
    "plt.show()"
   ]
  },
  {
   "cell_type": "code",
   "execution_count": 235,
   "metadata": {},
   "outputs": [
    {
     "data": {
      "text/plain": [
       "<Figure size 432x288 with 0 Axes>"
      ]
     },
     "metadata": {},
     "output_type": "display_data"
    },
    {
     "data": {
      "image/png": "[encoded data removed]",
      "text/plain": [
       "<Figure size 720x504 with 1 Axes>"
      ]
     },
     "metadata": {
      "needs_background": "light"
     },
     "output_type": "display_data"
    }
   ],
   "source": [
    "without_MG=(seq.groupby('base').mean()).loc[:,['deg_pH10']]\n",
    "without_MG_50=(seq.groupby('base').mean()).loc[:,['deg_50C']]\n",
    "with_MG=(seq.groupby('base').mean()).loc[:,['deg_Mg_pH10']]\n",
    "with_MG_50=(seq.groupby('base').mean()).loc[:,['deg_Mg_50C']]\n",
    "\n",
    "# Plot degradation per letter per field\n",
    "plt.figure(1)\n",
    "plt.figure(figsize = (10, 7)) \n",
    "plt.scatter(x=letters_nucleotide, y=without_MG, color=\"blue\", label=\"sans MG\")\n",
    "plt.scatter(x=letters_nucleotide, y=without_MG_50, color=\"orange\", label=\"sans MG, 50 deg\")\n",
    "plt.scatter(x=letters_nucleotide, y=with_MG, color=\"Yellow\", label=\"avec MG\")\n",
    "plt.scatter(x=letters_nucleotide, y=with_MG_50, color=\"Red\", label=\"avec MG, 50 deg\")\n",
    "plt.title(\"Dégradation par nucléotides et par millieu\")\n",
    "plt.legend()\n",
    "plt.show()"
   ]
  },
  {
   "cell_type": "markdown",
   "metadata": {},
   "source": [
    "### On s'interesse à leur disposition: predicted_loop_type"
   ]
  },
  {
   "cell_type": "code",
   "execution_count": 241,
   "metadata": {
    "execution": {
     "iopub.execute_input": "2021-02-24T17:43:56.280645Z",
     "iopub.status.busy": "2021-02-24T17:43:56.275560Z",
     "iopub.status.idle": "2021-02-24T17:43:56.457844Z",
     "shell.execute_reply": "2021-02-24T17:43:56.457241Z"
    },
    "papermill": {
     "duration": 0.22225,
     "end_time": "2021-02-24T17:43:56.457948",
     "exception": false,
     "start_time": "2021-02-24T17:43:56.235698",
     "status": "completed"
    },
    "tags": []
   },
   "outputs": [
    {
     "data": {
      "text/plain": [
       "<Figure size 432x288 with 0 Axes>"
      ]
     },
     "metadata": {},
     "output_type": "display_data"
    },
    {
     "data": {
      "image/png": "[encoded data removed]",
      "text/plain": [
       "<Figure size 720x504 with 1 Axes>"
      ]
     },
     "metadata": {
      "needs_background": "light"
     },
     "output_type": "display_data"
    }
   ],
   "source": [
    "#Degradation/réactivity per shape\n",
    "letters_loop_type=['B','E','H','I','M','S','X']\n",
    "\n",
    "res1=seq.groupby('base_predicted_loop_type').mean().reactivity #mean of reactivity per base\n",
    "res2=(seq.groupby('base_predicted_loop_type').mean()).loc[:,['deg_Mg_pH10', 'deg_pH10','deg_Mg_50C','deg_50C']].mean(axis=1) \n",
    "#mean of degradation per base\n",
    "\n",
    "#Plot\n",
    "plt.figure(1)\n",
    "plt.figure(figsize = (10, 7)) \n",
    "plt.scatter(letters_loop_type, y=res1, color=\"blue\", label=\"Réactivité\")\n",
    "plt.scatter(letters_loop_type, y=res2, color=\"red\", label=\"Dégradation\")\n",
    "plt.title(\"Dégradation/Réactivité par nucléotide\")\n",
    "plt.legend()\n",
    "plt.show()"
   ]
  },
  {
   "cell_type": "code",
   "execution_count": 249,
   "metadata": {
    "execution": {
     "iopub.execute_input": "2021-02-24T17:43:56.634987Z",
     "iopub.status.busy": "2021-02-24T17:43:56.632981Z",
     "iopub.status.idle": "2021-02-24T17:43:56.805410Z",
     "shell.execute_reply": "2021-02-24T17:43:56.804858Z"
    },
    "papermill": {
     "duration": 0.218355,
     "end_time": "2021-02-24T17:43:56.805528",
     "exception": false,
     "start_time": "2021-02-24T17:43:56.587173",
     "status": "completed"
    },
    "tags": []
   },
   "outputs": [
    {
     "data": {
      "text/plain": [
       "<Figure size 432x288 with 0 Axes>"
      ]
     },
     "metadata": {},
     "output_type": "display_data"
    },
    {
     "data": {
      "image/png": "[encoded data removed]",
      "text/plain": [
       "<Figure size 720x504 with 1 Axes>"
      ]
     },
     "metadata": {
      "needs_background": "light"
     },
     "output_type": "display_data"
    }
   ],
   "source": [
    "#Values per letter per millieu\n",
    "without_MG=(seq.groupby('base_predicted_loop_type').mean()).loc[:,['deg_pH10']]\n",
    "without_MG_50=(seq.groupby('base_predicted_loop_type').mean()).loc[:,['deg_50C']]\n",
    "with_MG=(seq.groupby('base_predicted_loop_type').mean()).loc[:,['deg_Mg_pH10']]\n",
    "with_MG_50=(seq.groupby('base_predicted_loop_type').mean()).loc[:,['deg_Mg_50C']]\n",
    "\n",
    "# Plot degradation per letter per field\n",
    "plt.figure(1)\n",
    "plt.figure(figsize = (10, 7)) \n",
    "plt.scatter(x=letters_loop_type, y=without_MG, color=\"blue\", label=\"sans MG\")\n",
    "plt.scatter(x=letters_loop_type, y=without_MG_50, color=\"orange\", label=\"sans MG, 50 deg\")\n",
    "plt.scatter(x=letters_loop_type, y=with_MG, color=\"Yellow\", label=\"avec MG\")\n",
    "plt.scatter(x=letters_loop_type, y=with_MG_50, color=\"Red\", label=\"avec MG, 50 deg\")\n",
    "plt.title(\"Dégradation par lettre et par millieu\")\n",
    "plt.legend()\n",
    "plt.show()"
   ]
  },
  {
   "cell_type": "markdown",
   "metadata": {},
   "source": [
    "Les points bleu et orange de la lettre S sont pratiquement confondus: c'est pourquoi il n'est pas affiché"
   ]
  },
  {
   "cell_type": "markdown",
   "metadata": {
    "papermill": {
     "duration": 0.034018,
     "end_time": "2021-02-24T17:43:56.874005",
     "exception": false,
     "start_time": "2021-02-24T17:43:56.839987",
     "status": "completed"
    },
    "tags": []
   },
   "source": [
    "## On s'interesse à la dégradation en fonction du nombre de lettres collées\n",
    "\n",
    "On estime que plus il y aura des lettres qui forment le meme groupe, moins il y aura de dégradation"
   ]
  },
  {
   "cell_type": "code",
   "execution_count": 260,
   "metadata": {},
   "outputs": [
    {
     "name": "stderr",
     "output_type": "stream",
     "text": [
      "/Users/romainbrule/opt/anaconda3/lib/python3.7/site-packages/ipykernel_launcher.py:6: SettingWithCopyWarning: \n",
      "A value is trying to be set on a copy of a slice from a DataFrame\n",
      "\n",
      "See the caveats in the documentation: http://pandas.pydata.org/pandas-docs/stable/user_guide/indexing.html#returning-a-view-versus-a-copy\n",
      "  \n"
     ]
    },
    {
     "data": {
      "text/html": [
       "<div>\n",
       "<style scoped>\n",
       "    .dataframe tbody tr th:only-of-type {\n",
       "        vertical-align: middle;\n",
       "    }\n",
       "\n",
       "    .dataframe tbody tr th {\n",
       "        vertical-align: top;\n",
       "    }\n",
       "\n",
       "    .dataframe thead th {\n",
       "        text-align: right;\n",
       "    }\n",
       "</style>\n",
       "<table border=\"1\" class=\"dataframe\">\n",
       "  <thead>\n",
       "    <tr style=\"text-align: right;\">\n",
       "      <th></th>\n",
       "      <th>id</th>\n",
       "      <th>base</th>\n",
       "      <th>base_structure_type</th>\n",
       "      <th>base_predicted_loop_type</th>\n",
       "      <th>reactivity_error</th>\n",
       "      <th>deg_error_Mg_pH10</th>\n",
       "      <th>deg_error_pH10</th>\n",
       "      <th>deg_error_Mg_50C</th>\n",
       "      <th>deg_error_50C</th>\n",
       "      <th>reactivity</th>\n",
       "      <th>deg_Mg_pH10</th>\n",
       "      <th>deg_pH10</th>\n",
       "      <th>deg_Mg_50C</th>\n",
       "      <th>deg_50C</th>\n",
       "      <th>count_gr</th>\n",
       "    </tr>\n",
       "  </thead>\n",
       "  <tbody>\n",
       "    <tr>\n",
       "      <td>0</td>\n",
       "      <td>id_001f94081</td>\n",
       "      <td>G</td>\n",
       "      <td>.</td>\n",
       "      <td>E</td>\n",
       "      <td>0.1359</td>\n",
       "      <td>0.2613</td>\n",
       "      <td>0.2631</td>\n",
       "      <td>0.1501</td>\n",
       "      <td>0.2167</td>\n",
       "      <td>0.3297</td>\n",
       "      <td>0.7556</td>\n",
       "      <td>2.3375</td>\n",
       "      <td>0.3581</td>\n",
       "      <td>0.6382</td>\n",
       "      <td>1</td>\n",
       "    </tr>\n",
       "    <tr>\n",
       "      <td>1</td>\n",
       "      <td>id_001f94081</td>\n",
       "      <td>G</td>\n",
       "      <td>.</td>\n",
       "      <td>E</td>\n",
       "      <td>0.2070</td>\n",
       "      <td>0.3842</td>\n",
       "      <td>0.2860</td>\n",
       "      <td>0.2750</td>\n",
       "      <td>0.3475</td>\n",
       "      <td>1.5693</td>\n",
       "      <td>2.9830</td>\n",
       "      <td>3.5060</td>\n",
       "      <td>2.9683</td>\n",
       "      <td>3.4773</td>\n",
       "      <td>1</td>\n",
       "    </tr>\n",
       "    <tr>\n",
       "      <td>2</td>\n",
       "      <td>id_001f94081</td>\n",
       "      <td>A</td>\n",
       "      <td>.</td>\n",
       "      <td>E</td>\n",
       "      <td>0.1633</td>\n",
       "      <td>0.1372</td>\n",
       "      <td>0.0964</td>\n",
       "      <td>0.0947</td>\n",
       "      <td>0.1880</td>\n",
       "      <td>1.1227</td>\n",
       "      <td>0.2526</td>\n",
       "      <td>0.3008</td>\n",
       "      <td>0.2589</td>\n",
       "      <td>0.9988</td>\n",
       "      <td>1</td>\n",
       "    </tr>\n",
       "    <tr>\n",
       "      <td>3</td>\n",
       "      <td>id_001f94081</td>\n",
       "      <td>A</td>\n",
       "      <td>.</td>\n",
       "      <td>E</td>\n",
       "      <td>0.1452</td>\n",
       "      <td>0.2531</td>\n",
       "      <td>0.1574</td>\n",
       "      <td>0.1866</td>\n",
       "      <td>0.2124</td>\n",
       "      <td>0.8686</td>\n",
       "      <td>1.3789</td>\n",
       "      <td>1.0108</td>\n",
       "      <td>1.4552</td>\n",
       "      <td>1.3228</td>\n",
       "      <td>1</td>\n",
       "    </tr>\n",
       "    <tr>\n",
       "      <td>4</td>\n",
       "      <td>id_001f94081</td>\n",
       "      <td>A</td>\n",
       "      <td>.</td>\n",
       "      <td>E</td>\n",
       "      <td>0.1314</td>\n",
       "      <td>0.1798</td>\n",
       "      <td>0.1000</td>\n",
       "      <td>0.1369</td>\n",
       "      <td>0.1703</td>\n",
       "      <td>0.7217</td>\n",
       "      <td>0.6376</td>\n",
       "      <td>0.2635</td>\n",
       "      <td>0.7244</td>\n",
       "      <td>0.7877</td>\n",
       "      <td>1</td>\n",
       "    </tr>\n",
       "    <tr>\n",
       "      <td>...</td>\n",
       "      <td>...</td>\n",
       "      <td>...</td>\n",
       "      <td>...</td>\n",
       "      <td>...</td>\n",
       "      <td>...</td>\n",
       "      <td>...</td>\n",
       "      <td>...</td>\n",
       "      <td>...</td>\n",
       "      <td>...</td>\n",
       "      <td>...</td>\n",
       "      <td>...</td>\n",
       "      <td>...</td>\n",
       "      <td>...</td>\n",
       "      <td>...</td>\n",
       "      <td>...</td>\n",
       "    </tr>\n",
       "    <tr>\n",
       "      <td>163195</td>\n",
       "      <td>id_fff546103</td>\n",
       "      <td>C</td>\n",
       "      <td>)</td>\n",
       "      <td>S</td>\n",
       "      <td>0.0267</td>\n",
       "      <td>0.0626</td>\n",
       "      <td>0.0996</td>\n",
       "      <td>0.0638</td>\n",
       "      <td>0.0809</td>\n",
       "      <td>0.0272</td>\n",
       "      <td>0.5059</td>\n",
       "      <td>0.4998</td>\n",
       "      <td>0.2870</td>\n",
       "      <td>0.1820</td>\n",
       "      <td>32571</td>\n",
       "    </tr>\n",
       "    <tr>\n",
       "      <td>163196</td>\n",
       "      <td>id_fff546103</td>\n",
       "      <td>U</td>\n",
       "      <td>)</td>\n",
       "      <td>S</td>\n",
       "      <td>0.0219</td>\n",
       "      <td>0.0411</td>\n",
       "      <td>0.0760</td>\n",
       "      <td>0.0520</td>\n",
       "      <td>0.0748</td>\n",
       "      <td>0.0382</td>\n",
       "      <td>0.2025</td>\n",
       "      <td>0.3057</td>\n",
       "      <td>0.2022</td>\n",
       "      <td>0.2038</td>\n",
       "      <td>32571</td>\n",
       "    </tr>\n",
       "    <tr>\n",
       "      <td>163197</td>\n",
       "      <td>id_fff546103</td>\n",
       "      <td>A</td>\n",
       "      <td>)</td>\n",
       "      <td>S</td>\n",
       "      <td>0.0218</td>\n",
       "      <td>0.0391</td>\n",
       "      <td>0.0611</td>\n",
       "      <td>0.0520</td>\n",
       "      <td>0.0612</td>\n",
       "      <td>0.0381</td>\n",
       "      <td>0.1827</td>\n",
       "      <td>0.1642</td>\n",
       "      <td>0.2047</td>\n",
       "      <td>0.1120</td>\n",
       "      <td>32571</td>\n",
       "    </tr>\n",
       "    <tr>\n",
       "      <td>163198</td>\n",
       "      <td>id_fff546103</td>\n",
       "      <td>G</td>\n",
       "      <td>)</td>\n",
       "      <td>S</td>\n",
       "      <td>0.0220</td>\n",
       "      <td>0.0509</td>\n",
       "      <td>0.0719</td>\n",
       "      <td>0.0595</td>\n",
       "      <td>0.0723</td>\n",
       "      <td>-0.0066</td>\n",
       "      <td>0.3261</td>\n",
       "      <td>0.1654</td>\n",
       "      <td>0.2447</td>\n",
       "      <td>0.1186</td>\n",
       "      <td>32571</td>\n",
       "    </tr>\n",
       "    <tr>\n",
       "      <td>163199</td>\n",
       "      <td>id_fff546103</td>\n",
       "      <td>C</td>\n",
       "      <td>)</td>\n",
       "      <td>S</td>\n",
       "      <td>0.0287</td>\n",
       "      <td>0.0565</td>\n",
       "      <td>0.0936</td>\n",
       "      <td>0.0515</td>\n",
       "      <td>0.0892</td>\n",
       "      <td>0.0706</td>\n",
       "      <td>0.4529</td>\n",
       "      <td>0.4840</td>\n",
       "      <td>0.1802</td>\n",
       "      <td>0.3013</td>\n",
       "      <td>32571</td>\n",
       "    </tr>\n",
       "  </tbody>\n",
       "</table>\n",
       "<p>163200 rows × 15 columns</p>\n",
       "</div>"
      ],
      "text/plain": [
       "                  id base base_structure_type base_predicted_loop_type  \\\n",
       "0       id_001f94081    G                   .                        E   \n",
       "1       id_001f94081    G                   .                        E   \n",
       "2       id_001f94081    A                   .                        E   \n",
       "3       id_001f94081    A                   .                        E   \n",
       "4       id_001f94081    A                   .                        E   \n",
       "...              ...  ...                 ...                      ...   \n",
       "163195  id_fff546103    C                   )                        S   \n",
       "163196  id_fff546103    U                   )                        S   \n",
       "163197  id_fff546103    A                   )                        S   \n",
       "163198  id_fff546103    G                   )                        S   \n",
       "163199  id_fff546103    C                   )                        S   \n",
       "\n",
       "        reactivity_error  deg_error_Mg_pH10  deg_error_pH10  deg_error_Mg_50C  \\\n",
       "0                 0.1359             0.2613          0.2631            0.1501   \n",
       "1                 0.2070             0.3842          0.2860            0.2750   \n",
       "2                 0.1633             0.1372          0.0964            0.0947   \n",
       "3                 0.1452             0.2531          0.1574            0.1866   \n",
       "4                 0.1314             0.1798          0.1000            0.1369   \n",
       "...                  ...                ...             ...               ...   \n",
       "163195            0.0267             0.0626          0.0996            0.0638   \n",
       "163196            0.0219             0.0411          0.0760            0.0520   \n",
       "163197            0.0218             0.0391          0.0611            0.0520   \n",
       "163198            0.0220             0.0509          0.0719            0.0595   \n",
       "163199            0.0287             0.0565          0.0936            0.0515   \n",
       "\n",
       "        deg_error_50C  reactivity  deg_Mg_pH10  deg_pH10  deg_Mg_50C  deg_50C  \\\n",
       "0              0.2167      0.3297       0.7556    2.3375      0.3581   0.6382   \n",
       "1              0.3475      1.5693       2.9830    3.5060      2.9683   3.4773   \n",
       "2              0.1880      1.1227       0.2526    0.3008      0.2589   0.9988   \n",
       "3              0.2124      0.8686       1.3789    1.0108      1.4552   1.3228   \n",
       "4              0.1703      0.7217       0.6376    0.2635      0.7244   0.7877   \n",
       "...               ...         ...          ...       ...         ...      ...   \n",
       "163195         0.0809      0.0272       0.5059    0.4998      0.2870   0.1820   \n",
       "163196         0.0748      0.0382       0.2025    0.3057      0.2022   0.2038   \n",
       "163197         0.0612      0.0381       0.1827    0.1642      0.2047   0.1120   \n",
       "163198         0.0723     -0.0066       0.3261    0.1654      0.2447   0.1186   \n",
       "163199         0.0892      0.0706       0.4529    0.4840      0.1802   0.3013   \n",
       "\n",
       "        count_gr  \n",
       "0              1  \n",
       "1              1  \n",
       "2              1  \n",
       "3              1  \n",
       "4              1  \n",
       "...          ...  \n",
       "163195     32571  \n",
       "163196     32571  \n",
       "163197     32571  \n",
       "163198     32571  \n",
       "163199     32571  \n",
       "\n",
       "[163200 rows x 15 columns]"
      ]
     },
     "execution_count": 260,
     "metadata": {},
     "output_type": "execute_result"
    }
   ],
   "source": [
    "# Coumpt the numerous of the group\n",
    "gr=1\n",
    "seq['count_gr']=gr\n",
    "for i in range (1,seq.shape[0]):\n",
    "    if ((seq.id.iloc[i]!=seq.id.iloc[i-1]) or (seq.base_predicted_loop_type.iloc[i]!=seq.base_predicted_loop_type.iloc[i-1])):\n",
    "        gr=gr+1\n",
    "    seq.count_gr[i]=gr"
   ]
  },
  {
   "cell_type": "code",
   "execution_count": 311,
   "metadata": {},
   "outputs": [],
   "source": [
    "#Count the number of letters in the group \n",
    "def count(x,colonne):\n",
    "    return (colonne==x).sum()\n",
    "\n",
    "\n",
    "seq['N']=seq['count_gr'].apply(lambda x: count(x,seq['count_gr']))"
   ]
  },
  {
   "cell_type": "code",
   "execution_count": 324,
   "metadata": {},
   "outputs": [
    {
     "data": {
      "text/plain": [
       "<Figure size 432x288 with 0 Axes>"
      ]
     },
     "metadata": {},
     "output_type": "display_data"
    },
    {
     "data": {
      "image/png": "[encoded data removed]",
      "text/plain": [
       "<Figure size 720x504 with 1 Axes>"
      ]
     },
     "metadata": {
      "needs_background": "light"
     },
     "output_type": "display_data"
    },
    {
     "data": {
      "text/plain": [
       "<Figure size 432x288 with 0 Axes>"
      ]
     },
     "metadata": {},
     "output_type": "display_data"
    },
    {
     "data": {
      "image/png": "[encoded data removed]",
      "text/plain": [
       "<Figure size 720x504 with 1 Axes>"
      ]
     },
     "metadata": {
      "needs_background": "light"
     },
     "output_type": "display_data"
    },
    {
     "data": {
      "text/plain": [
       "<Figure size 432x288 with 0 Axes>"
      ]
     },
     "metadata": {},
     "output_type": "display_data"
    },
    {
     "data": {
      "image/png": "[encoded data removed]",
      "text/plain": [
       "<Figure size 720x504 with 1 Axes>"
      ]
     },
     "metadata": {
      "needs_background": "light"
     },
     "output_type": "display_data"
    },
    {
     "data": {
      "text/plain": [
       "<Figure size 432x288 with 0 Axes>"
      ]
     },
     "metadata": {},
     "output_type": "display_data"
    },
    {
     "data": {
      "image/png": "[encoded data removed]",
      "text/plain": [
       "<Figure size 720x504 with 1 Axes>"
      ]
     },
     "metadata": {
      "needs_background": "light"
     },
     "output_type": "display_data"
    },
    {
     "data": {
      "text/plain": [
       "<Figure size 432x288 with 0 Axes>"
      ]
     },
     "metadata": {},
     "output_type": "display_data"
    },
    {
     "data": {
      "image/png": "[encoded data removed]",
      "text/plain": [
       "<Figure size 720x504 with 1 Axes>"
      ]
     },
     "metadata": {
      "needs_background": "light"
     },
     "output_type": "display_data"
    },
    {
     "data": {
      "text/plain": [
       "<Figure size 432x288 with 0 Axes>"
      ]
     },
     "metadata": {},
     "output_type": "display_data"
    },
    {
     "data": {
      "image/png": "[encoded data removed]",
      "text/plain": [
       "<Figure size 720x504 with 1 Axes>"
      ]
     },
     "metadata": {
      "needs_background": "light"
     },
     "output_type": "display_data"
    },
    {
     "data": {
      "text/plain": [
       "<Figure size 432x288 with 0 Axes>"
      ]
     },
     "metadata": {},
     "output_type": "display_data"
    },
    {
     "data": {
      "image/png": "[encoded data removed]",
      "text/plain": [
       "<Figure size 720x504 with 1 Axes>"
      ]
     },
     "metadata": {
      "needs_background": "light"
     },
     "output_type": "display_data"
    }
   ],
   "source": [
    "# Plot degradation per letter per field\n",
    "\n",
    "vect= np.arange(0,n)\n",
    "for i in letters_loop_type:\n",
    "    tab=(seq[seq.base_predicted_loop_type==i].groupby([\"count_gr\"]).mean())\n",
    "    without_MG=tab.loc[:,['deg_pH10']]\n",
    "    without_MG_50=tab.loc[:,['deg_50C']]\n",
    "    with_MG=tab.loc[:,['deg_Mg_pH10']]\n",
    "    with_MG_50=tab.loc[:,['deg_Mg_50C']]\n",
    "    plt.figure(1)\n",
    "    plt.figure(figsize = (10, 7)) \n",
    "    plt.scatter(x=tab.N, y=without_MG, color=\"blue\", label=\"sans MG\")\n",
    "    plt.scatter(x=tab.N, y=without_MG_50, color=\"orange\", label=\"sans MG, 50 deg\")\n",
    "    plt.scatter(x=tab.N, y=with_MG, color=\"Yellow\", label=\"avec MG\")\n",
    "    plt.scatter(x=tab.N, y=with_MG_50, color=\"Red\", label=\"avec MG, 50 deg\")\n",
    "    plt.title(\"Dégradation par lettre et par millieu de \"+i)\n",
    "    plt.legend()\n",
    "    plt.show()"
   ]
  },
  {
   "cell_type": "markdown",
   "metadata": {
    "execution": {
     "iopub.execute_input": "2021-02-24T17:43:57.243562Z",
     "iopub.status.busy": "2021-02-24T17:43:57.220602Z",
     "iopub.status.idle": "2021-02-24T17:43:59.926768Z",
     "shell.execute_reply": "2021-02-24T17:43:59.926244Z"
    },
    "papermill": {
     "duration": 2.759569,
     "end_time": "2021-02-24T17:43:59.926890",
     "exception": false,
     "start_time": "2021-02-24T17:43:57.167321",
     "status": "completed"
    },
    "tags": []
   },
   "source": [
    "On voit bien que plus la \"base_predicted_loop_type\" est longue, plus la molécule est stable."
   ]
  },
  {
   "cell_type": "markdown",
   "metadata": {
    "papermill": {
     "duration": 0.04912,
     "end_time": "2021-02-24T17:44:00.025872",
     "exception": false,
     "start_time": "2021-02-24T17:43:59.976752",
     "status": "completed"
    },
    "tags": []
   },
   "source": [
    "### On étudie les valeurs dites \"fausses\""
   ]
  },
  {
   "cell_type": "code",
   "execution_count": 327,
   "metadata": {
    "papermill": {
     "duration": 0.050268,
     "end_time": "2021-02-24T17:44:00.126474",
     "exception": false,
     "start_time": "2021-02-24T17:44:00.076206",
     "status": "completed"
    },
    "tags": []
   },
   "outputs": [],
   "source": [
    "base_replace = {'G':0, 'A':1, 'C':2, 'U':3}\n",
    "structure_replace ={'.':0, '(':1, ')':2}\n",
    "loop_type_replace = {'E':0, 'S':1, 'H':2, 'B':3, 'X':4, 'I':5, 'M':6}\n",
    "\n",
    "replace_types = [base_replace, structure_replace, loop_type_replace]\n",
    "\n",
    "# vary the proportion of S/N data in the train test, use validation set to tune the \n",
    "def fianle_transform (dataframe, replace_type):\n",
    "    # filter with SN_filter criteria \n",
    "    data_filter = dataframe[dataframe[\"SN_filter\"] == 1]\n",
    "    \n",
    "    #use expend to change feature \n",
    "    data_filter_seq = expend_feature(data_filter)\n",
    "    \n",
    "    #make feature to integer\n",
    "    for r_types in replace_type:  \n",
    "        data_filter_seq = data_filter_seq.replace(r_types)\n",
    " \n",
    "    return data_filter_seq"
   ]
  },
  {
   "cell_type": "code",
   "execution_count": 331,
   "metadata": {},
   "outputs": [],
   "source": [
    "seq_filter = fianle_transform(train, replace_types)"
   ]
  },
  {
   "cell_type": "code",
   "execution_count": 332,
   "metadata": {},
   "outputs": [
    {
     "data": {
      "image/png": "[encoded data removed]",
      "text/plain": [
       "<Figure size 720x720 with 2 Axes>"
      ]
     },
     "metadata": {
      "needs_background": "light"
     },
     "output_type": "display_data"
    }
   ],
   "source": [
    "fig, ax = plt.subplots(figsize=(10,10)) \n",
    "mask = np.triu(np.ones_like(seq_filter.corr(method= 'pearson'), dtype=np.bool))\n",
    "heatmap = sns.heatmap(seq_filter.corr(), mask=mask, vmin=-1, vmax=1, annot=True, cmap='BrBG')\n",
    "heatmap.set_title('Triangle Correlation Heatmap', fontdict={'fontsize':18}, pad=20);"
   ]
  },
  {
   "cell_type": "code",
   "execution_count": 334,
   "metadata": {},
   "outputs": [],
   "source": [
    "seq_filter.to_csv('seq_filter.csv')"
   ]
  },
  {
   "cell_type": "code",
   "execution_count": null,
   "metadata": {},
   "outputs": [],
   "source": []
  }
 ],
 "metadata": {
  "kernelspec": {
   "display_name": "Python 3",
   "language": "python",
   "name": "python3"
  },
  "language_info": {
   "codemirror_mode": {
    "name": "ipython",
    "version": 3
   },
   "file_extension": ".py",
   "mimetype": "text/x-python",
   "name": "python",
   "nbconvert_exporter": "python",
   "pygments_lexer": "ipython3",
   "version": "3.7.4"
  },
  "papermill": {
   "duration": 16.069086,
   "end_time": "2021-02-24T17:44:00.284022",
   "environment_variables": {},
   "exception": null,
   "input_path": "__notebook__.ipynb",
   "output_path": "__notebook__.ipynb",
   "parameters": {},
   "start_time": "2021-02-24T17:43:44.214936",
   "version": "2.1.0"
  }
 },
 "nbformat": 4,
 "nbformat_minor": 4
}
